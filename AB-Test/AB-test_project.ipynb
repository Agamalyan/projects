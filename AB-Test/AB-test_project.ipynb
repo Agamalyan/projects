{
  "cells": [
    {
      "cell_type": "markdown",
      "metadata": {
        "id": "AWc5Khe-BHLO"
      },
      "source": [
        "# **Анализ результатов А/В теста, Принятие решений в бизнесе**"
      ]
    },
    {
      "cell_type": "markdown",
      "metadata": {
        "id": "3nl1aGCEBHLP"
      },
      "source": [
        "**Цель проекта**: изучить запросы руководства и подготовить рекомендации для принятия решения об изменении модели ведения бизнеса. \\\n",
        "**Задачи проекта**: приоритизировать несколько различных гипотез, провести A/B-тестирование."
      ]
    },
    {
      "cell_type": "markdown",
      "metadata": {
        "id": "4RVNB54IBHLP"
      },
      "source": [
        "Часть 1. Приоритизация гипотез. \\\n",
        "В файле /datasets/hypothesis.csv 9 гипотез по увеличению выручки интернет-магазина с указанными параметрами Reach, Impact, Confidence, Effort.\n",
        "**Задача** \\\n",
        "Примените фреймворк ICE для приоритизации гипотез. Отсортируйте их по убыванию приоритета. \\\n",
        "Примените фреймворк RICE для приоритизации гипотез. Отсортируйте их по убыванию приоритета. \\\n",
        "Укажите, как изменилась приоритизация гипотез при применении RICE вместо ICE. Объясните, почему так произошло."
      ]
    },
    {
      "cell_type": "markdown",
      "metadata": {
        "id": "2K2rOEuaBHLQ"
      },
      "source": [
        "Данные для первой части \\\n",
        "Файл /datasets/hypothesis.csv. \\\n",
        "Hypothesis — краткое описание гипотезы; \\\n",
        "Reach — охват пользователей по 10-балльной шкале; \\\n",
        "Impact — влияние на пользователей по 10-балльной шкале; \\\n",
        "Confidence — уверенность в гипотезе по 10-балльной шкале; \\\n",
        "Efforts — затраты ресурсов на проверку гипотезы по 10-балльной шкале. Чем больше значение Efforts, тем дороже проверка гипотезы. \\\n",
        "Данные для второй части \\\n",
        "Файл /datasets/orders.csv. Скачать датасет \\\n",
        "transactionId — идентификатор заказа; \\\n",
        "visitorId — идентификатор пользователя, совершившего заказ; \\\n",
        "date — дата, когда был совершён заказ; \\\n",
        "revenue — выручка заказа; \\\n",
        "group — группа A/B-теста, в которую попал заказ. \\\n",
        "Файл /datasets/visitors.csv. \\\n",
        "date — дата; \\\n",
        "group — группа A/B-теста; \\\n",
        "visitors — количество пользователей в указанную дату в указанной группе A/B-теста \\"
      ]
    },
    {
      "cell_type": "code",
      "execution_count": null,
      "metadata": {
        "id": "XiYHTohMBHLR"
      },
      "outputs": [],
      "source": [
        "import pandas as pd\n",
        "import datetime as dt\n",
        "import numpy as np\n",
        "import matplotlib.pyplot as plt\n",
        "from pandas.plotting import register_matplotlib_converters\n",
        "import warnings\n",
        "import scipy.stats as stats"
      ]
    },
    {
      "cell_type": "code",
      "execution_count": null,
      "metadata": {
        "id": "nfPFWRMVBHLT",
        "outputId": "db2bb2c5-6478-4aa4-e749-3c46a418f937"
      },
      "outputs": [
        {
          "data": {
            "text/html": [
              "<div>\n",
              "<style scoped>\n",
              "    .dataframe tbody tr th:only-of-type {\n",
              "        vertical-align: middle;\n",
              "    }\n",
              "\n",
              "    .dataframe tbody tr th {\n",
              "        vertical-align: top;\n",
              "    }\n",
              "\n",
              "    .dataframe thead th {\n",
              "        text-align: right;\n",
              "    }\n",
              "</style>\n",
              "<table border=\"1\" class=\"dataframe\">\n",
              "  <thead>\n",
              "    <tr style=\"text-align: right;\">\n",
              "      <th></th>\n",
              "      <th>Hypothesis</th>\n",
              "      <th>Reach</th>\n",
              "      <th>Impact</th>\n",
              "      <th>Confidence</th>\n",
              "      <th>Efforts</th>\n",
              "    </tr>\n",
              "  </thead>\n",
              "  <tbody>\n",
              "    <tr>\n",
              "      <th>0</th>\n",
              "      <td>Добавить два новых канала привлечения трафика, что позволит привлекать на 30% больше пользователей</td>\n",
              "      <td>3</td>\n",
              "      <td>10</td>\n",
              "      <td>8</td>\n",
              "      <td>6</td>\n",
              "    </tr>\n",
              "    <tr>\n",
              "      <th>1</th>\n",
              "      <td>Запустить собственную службу доставки, что сократит срок доставки заказов</td>\n",
              "      <td>2</td>\n",
              "      <td>5</td>\n",
              "      <td>4</td>\n",
              "      <td>10</td>\n",
              "    </tr>\n",
              "    <tr>\n",
              "      <th>2</th>\n",
              "      <td>Добавить блоки рекомендаций товаров на сайт интернет магазина, чтобы повысить конверсию и средний чек заказа</td>\n",
              "      <td>8</td>\n",
              "      <td>3</td>\n",
              "      <td>7</td>\n",
              "      <td>3</td>\n",
              "    </tr>\n",
              "    <tr>\n",
              "      <th>3</th>\n",
              "      <td>Изменить структура категорий, что увеличит конверсию, т.к. пользователи быстрее найдут нужный товар</td>\n",
              "      <td>8</td>\n",
              "      <td>3</td>\n",
              "      <td>3</td>\n",
              "      <td>8</td>\n",
              "    </tr>\n",
              "    <tr>\n",
              "      <th>4</th>\n",
              "      <td>Изменить цвет фона главной страницы, чтобы увеличить вовлеченность пользователей</td>\n",
              "      <td>3</td>\n",
              "      <td>1</td>\n",
              "      <td>1</td>\n",
              "      <td>1</td>\n",
              "    </tr>\n",
              "  </tbody>\n",
              "</table>\n",
              "</div>"
            ],
            "text/plain": [
              "                                                                                                     Hypothesis  \\\n",
              "0            Добавить два новых канала привлечения трафика, что позволит привлекать на 30% больше пользователей   \n",
              "1                                     Запустить собственную службу доставки, что сократит срок доставки заказов   \n",
              "2  Добавить блоки рекомендаций товаров на сайт интернет магазина, чтобы повысить конверсию и средний чек заказа   \n",
              "3           Изменить структура категорий, что увеличит конверсию, т.к. пользователи быстрее найдут нужный товар   \n",
              "4                              Изменить цвет фона главной страницы, чтобы увеличить вовлеченность пользователей   \n",
              "\n",
              "   Reach  Impact  Confidence  Efforts  \n",
              "0      3      10           8        6  \n",
              "1      2       5           4       10  \n",
              "2      8       3           7        3  \n",
              "3      8       3           3        8  \n",
              "4      3       1           1        1  "
            ]
          },
          "execution_count": 2,
          "metadata": {},
          "output_type": "execute_result"
        }
      ],
      "source": [
        "pd.options.display.max_colwidth = 150\n",
        "hypothesis = pd.read_csv('/datasets/hypothesis.csv')\n",
        "hypothesis.head()"
      ]
    },
    {
      "cell_type": "code",
      "execution_count": null,
      "metadata": {
        "id": "-EIVfGETBHLV",
        "outputId": "682c2094-f089-41ff-965f-9a6614e2afc6"
      },
      "outputs": [
        {
          "data": {
            "text/html": [
              "<div>\n",
              "<style scoped>\n",
              "    .dataframe tbody tr th:only-of-type {\n",
              "        vertical-align: middle;\n",
              "    }\n",
              "\n",
              "    .dataframe tbody tr th {\n",
              "        vertical-align: top;\n",
              "    }\n",
              "\n",
              "    .dataframe thead th {\n",
              "        text-align: right;\n",
              "    }\n",
              "</style>\n",
              "<table border=\"1\" class=\"dataframe\">\n",
              "  <thead>\n",
              "    <tr style=\"text-align: right;\">\n",
              "      <th></th>\n",
              "      <th>transactionId</th>\n",
              "      <th>visitorId</th>\n",
              "      <th>date</th>\n",
              "      <th>revenue</th>\n",
              "      <th>group</th>\n",
              "    </tr>\n",
              "  </thead>\n",
              "  <tbody>\n",
              "    <tr>\n",
              "      <th>0</th>\n",
              "      <td>3667963787</td>\n",
              "      <td>3312258926</td>\n",
              "      <td>2019-08-15</td>\n",
              "      <td>1650</td>\n",
              "      <td>B</td>\n",
              "    </tr>\n",
              "    <tr>\n",
              "      <th>1</th>\n",
              "      <td>2804400009</td>\n",
              "      <td>3642806036</td>\n",
              "      <td>2019-08-15</td>\n",
              "      <td>730</td>\n",
              "      <td>B</td>\n",
              "    </tr>\n",
              "    <tr>\n",
              "      <th>2</th>\n",
              "      <td>2961555356</td>\n",
              "      <td>4069496402</td>\n",
              "      <td>2019-08-15</td>\n",
              "      <td>400</td>\n",
              "      <td>A</td>\n",
              "    </tr>\n",
              "    <tr>\n",
              "      <th>3</th>\n",
              "      <td>3797467345</td>\n",
              "      <td>1196621759</td>\n",
              "      <td>2019-08-15</td>\n",
              "      <td>9759</td>\n",
              "      <td>B</td>\n",
              "    </tr>\n",
              "    <tr>\n",
              "      <th>4</th>\n",
              "      <td>2282983706</td>\n",
              "      <td>2322279887</td>\n",
              "      <td>2019-08-15</td>\n",
              "      <td>2308</td>\n",
              "      <td>B</td>\n",
              "    </tr>\n",
              "  </tbody>\n",
              "</table>\n",
              "</div>"
            ],
            "text/plain": [
              "   transactionId   visitorId        date  revenue group\n",
              "0     3667963787  3312258926  2019-08-15     1650     B\n",
              "1     2804400009  3642806036  2019-08-15      730     B\n",
              "2     2961555356  4069496402  2019-08-15      400     A\n",
              "3     3797467345  1196621759  2019-08-15     9759     B\n",
              "4     2282983706  2322279887  2019-08-15     2308     B"
            ]
          },
          "execution_count": 3,
          "metadata": {},
          "output_type": "execute_result"
        }
      ],
      "source": [
        "orders = pd.read_csv('/datasets/orders.csv')\n",
        "orders.head()"
      ]
    },
    {
      "cell_type": "code",
      "execution_count": null,
      "metadata": {
        "scrolled": true,
        "id": "atqJTYn8BHLW",
        "outputId": "d3d3edb7-a0df-4683-b6e3-06ba80643505"
      },
      "outputs": [
        {
          "data": {
            "text/html": [
              "<div>\n",
              "<style scoped>\n",
              "    .dataframe tbody tr th:only-of-type {\n",
              "        vertical-align: middle;\n",
              "    }\n",
              "\n",
              "    .dataframe tbody tr th {\n",
              "        vertical-align: top;\n",
              "    }\n",
              "\n",
              "    .dataframe thead th {\n",
              "        text-align: right;\n",
              "    }\n",
              "</style>\n",
              "<table border=\"1\" class=\"dataframe\">\n",
              "  <thead>\n",
              "    <tr style=\"text-align: right;\">\n",
              "      <th></th>\n",
              "      <th>date</th>\n",
              "      <th>group</th>\n",
              "      <th>visitors</th>\n",
              "    </tr>\n",
              "  </thead>\n",
              "  <tbody>\n",
              "    <tr>\n",
              "      <th>0</th>\n",
              "      <td>2019-08-01</td>\n",
              "      <td>A</td>\n",
              "      <td>719</td>\n",
              "    </tr>\n",
              "    <tr>\n",
              "      <th>1</th>\n",
              "      <td>2019-08-02</td>\n",
              "      <td>A</td>\n",
              "      <td>619</td>\n",
              "    </tr>\n",
              "    <tr>\n",
              "      <th>2</th>\n",
              "      <td>2019-08-03</td>\n",
              "      <td>A</td>\n",
              "      <td>507</td>\n",
              "    </tr>\n",
              "    <tr>\n",
              "      <th>3</th>\n",
              "      <td>2019-08-04</td>\n",
              "      <td>A</td>\n",
              "      <td>717</td>\n",
              "    </tr>\n",
              "    <tr>\n",
              "      <th>4</th>\n",
              "      <td>2019-08-05</td>\n",
              "      <td>A</td>\n",
              "      <td>756</td>\n",
              "    </tr>\n",
              "  </tbody>\n",
              "</table>\n",
              "</div>"
            ],
            "text/plain": [
              "         date group  visitors\n",
              "0  2019-08-01     A       719\n",
              "1  2019-08-02     A       619\n",
              "2  2019-08-03     A       507\n",
              "3  2019-08-04     A       717\n",
              "4  2019-08-05     A       756"
            ]
          },
          "execution_count": 4,
          "metadata": {},
          "output_type": "execute_result"
        }
      ],
      "source": [
        "visitors = pd.read_csv('/datasets/visitors.csv')\n",
        "visitors.head()"
      ]
    },
    {
      "cell_type": "code",
      "execution_count": null,
      "metadata": {
        "id": "85nRbPU6BHLW",
        "outputId": "ba96cacb-66aa-4025-9be0-89f63c725ed1"
      },
      "outputs": [
        {
          "data": {
            "text/html": [
              "<div>\n",
              "<style scoped>\n",
              "    .dataframe tbody tr th:only-of-type {\n",
              "        vertical-align: middle;\n",
              "    }\n",
              "\n",
              "    .dataframe tbody tr th {\n",
              "        vertical-align: top;\n",
              "    }\n",
              "\n",
              "    .dataframe thead th {\n",
              "        text-align: right;\n",
              "    }\n",
              "</style>\n",
              "<table border=\"1\" class=\"dataframe\">\n",
              "  <thead>\n",
              "    <tr style=\"text-align: right;\">\n",
              "      <th></th>\n",
              "      <th>Hypothesis</th>\n",
              "      <th>Reach</th>\n",
              "      <th>Impact</th>\n",
              "      <th>Confidence</th>\n",
              "      <th>Efforts</th>\n",
              "      <th>ICE</th>\n",
              "    </tr>\n",
              "  </thead>\n",
              "  <tbody>\n",
              "    <tr>\n",
              "      <th>8</th>\n",
              "      <td>Запустить акцию, дающую скидку на товар в день рождения</td>\n",
              "      <td>1</td>\n",
              "      <td>9</td>\n",
              "      <td>9</td>\n",
              "      <td>5</td>\n",
              "      <td>16.20</td>\n",
              "    </tr>\n",
              "    <tr>\n",
              "      <th>0</th>\n",
              "      <td>Добавить два новых канала привлечения трафика, что позволит привлекать на 30% больше пользователей</td>\n",
              "      <td>3</td>\n",
              "      <td>10</td>\n",
              "      <td>8</td>\n",
              "      <td>6</td>\n",
              "      <td>13.33</td>\n",
              "    </tr>\n",
              "    <tr>\n",
              "      <th>7</th>\n",
              "      <td>Добавить форму подписки на все основные страницы, чтобы собрать базу клиентов для email-рассылок</td>\n",
              "      <td>10</td>\n",
              "      <td>7</td>\n",
              "      <td>8</td>\n",
              "      <td>5</td>\n",
              "      <td>11.20</td>\n",
              "    </tr>\n",
              "    <tr>\n",
              "      <th>6</th>\n",
              "      <td>Показать на главной странице баннеры с актуальными акциями и распродажами, чтобы увеличить конверсию</td>\n",
              "      <td>5</td>\n",
              "      <td>3</td>\n",
              "      <td>8</td>\n",
              "      <td>3</td>\n",
              "      <td>8.00</td>\n",
              "    </tr>\n",
              "    <tr>\n",
              "      <th>2</th>\n",
              "      <td>Добавить блоки рекомендаций товаров на сайт интернет магазина, чтобы повысить конверсию и средний чек заказа</td>\n",
              "      <td>8</td>\n",
              "      <td>3</td>\n",
              "      <td>7</td>\n",
              "      <td>3</td>\n",
              "      <td>7.00</td>\n",
              "    </tr>\n",
              "    <tr>\n",
              "      <th>1</th>\n",
              "      <td>Запустить собственную службу доставки, что сократит срок доставки заказов</td>\n",
              "      <td>2</td>\n",
              "      <td>5</td>\n",
              "      <td>4</td>\n",
              "      <td>10</td>\n",
              "      <td>2.00</td>\n",
              "    </tr>\n",
              "    <tr>\n",
              "      <th>5</th>\n",
              "      <td>Добавить страницу отзывов клиентов о магазине, что позволит увеличить количество заказов</td>\n",
              "      <td>3</td>\n",
              "      <td>2</td>\n",
              "      <td>2</td>\n",
              "      <td>3</td>\n",
              "      <td>1.33</td>\n",
              "    </tr>\n",
              "    <tr>\n",
              "      <th>3</th>\n",
              "      <td>Изменить структура категорий, что увеличит конверсию, т.к. пользователи быстрее найдут нужный товар</td>\n",
              "      <td>8</td>\n",
              "      <td>3</td>\n",
              "      <td>3</td>\n",
              "      <td>8</td>\n",
              "      <td>1.12</td>\n",
              "    </tr>\n",
              "    <tr>\n",
              "      <th>4</th>\n",
              "      <td>Изменить цвет фона главной страницы, чтобы увеличить вовлеченность пользователей</td>\n",
              "      <td>3</td>\n",
              "      <td>1</td>\n",
              "      <td>1</td>\n",
              "      <td>1</td>\n",
              "      <td>1.00</td>\n",
              "    </tr>\n",
              "  </tbody>\n",
              "</table>\n",
              "</div>"
            ],
            "text/plain": [
              "                                                                                                     Hypothesis  \\\n",
              "8                                                       Запустить акцию, дающую скидку на товар в день рождения   \n",
              "0            Добавить два новых канала привлечения трафика, что позволит привлекать на 30% больше пользователей   \n",
              "7              Добавить форму подписки на все основные страницы, чтобы собрать базу клиентов для email-рассылок   \n",
              "6          Показать на главной странице баннеры с актуальными акциями и распродажами, чтобы увеличить конверсию   \n",
              "2  Добавить блоки рекомендаций товаров на сайт интернет магазина, чтобы повысить конверсию и средний чек заказа   \n",
              "1                                     Запустить собственную службу доставки, что сократит срок доставки заказов   \n",
              "5                      Добавить страницу отзывов клиентов о магазине, что позволит увеличить количество заказов   \n",
              "3           Изменить структура категорий, что увеличит конверсию, т.к. пользователи быстрее найдут нужный товар   \n",
              "4                              Изменить цвет фона главной страницы, чтобы увеличить вовлеченность пользователей   \n",
              "\n",
              "   Reach  Impact  Confidence  Efforts    ICE  \n",
              "8      1       9           9        5  16.20  \n",
              "0      3      10           8        6  13.33  \n",
              "7     10       7           8        5  11.20  \n",
              "6      5       3           8        3   8.00  \n",
              "2      8       3           7        3   7.00  \n",
              "1      2       5           4       10   2.00  \n",
              "5      3       2           2        3   1.33  \n",
              "3      8       3           3        8   1.12  \n",
              "4      3       1           1        1   1.00  "
            ]
          },
          "metadata": {},
          "output_type": "display_data"
        }
      ],
      "source": [
        "hypothesis['ICE'] = hypothesis['Impact'] * hypothesis['Confidence']/ hypothesis['Efforts']\n",
        "display(round(hypothesis.sort_values(by = 'ICE', ascending = False),2))"
      ]
    },
    {
      "cell_type": "code",
      "execution_count": null,
      "metadata": {
        "id": "HuK_b0VvBHLX",
        "outputId": "d3536b6c-eb04-4ad5-fb88-8a759f1a9d53"
      },
      "outputs": [
        {
          "name": "stdout",
          "output_type": "stream",
          "text": [
            "                                                                                                     Hypothesis  \\\n",
            "7              Добавить форму подписки на все основные страницы, чтобы собрать базу клиентов для email-рассылок   \n",
            "2  Добавить блоки рекомендаций товаров на сайт интернет магазина, чтобы повысить конверсию и средний чек заказа   \n",
            "0            Добавить два новых канала привлечения трафика, что позволит привлекать на 30% больше пользователей   \n",
            "6          Показать на главной странице баннеры с актуальными акциями и распродажами, чтобы увеличить конверсию   \n",
            "8                                                       Запустить акцию, дающую скидку на товар в день рождения   \n",
            "3           Изменить структура категорий, что увеличит конверсию, т.к. пользователи быстрее найдут нужный товар   \n",
            "1                                     Запустить собственную службу доставки, что сократит срок доставки заказов   \n",
            "5                      Добавить страницу отзывов клиентов о магазине, что позволит увеличить количество заказов   \n",
            "4                              Изменить цвет фона главной страницы, чтобы увеличить вовлеченность пользователей   \n",
            "\n",
            "   Reach  Impact  Confidence  Efforts        ICE   RICE  \n",
            "7     10       7           8        5  11.200000  112.0  \n",
            "2      8       3           7        3   7.000000   56.0  \n",
            "0      3      10           8        6  13.333333   40.0  \n",
            "6      5       3           8        3   8.000000   40.0  \n",
            "8      1       9           9        5  16.200000   16.2  \n",
            "3      8       3           3        8   1.125000    9.0  \n",
            "1      2       5           4       10   2.000000    4.0  \n",
            "5      3       2           2        3   1.333333    4.0  \n",
            "4      3       1           1        1   1.000000    3.0  \n"
          ]
        }
      ],
      "source": [
        "hypothesis['RICE'] = hypothesis['Impact'] * hypothesis['Confidence'] * hypothesis['Reach'] / hypothesis['Efforts']\n",
        "print(hypothesis.sort_values(by = 'RICE', ascending = False))"
      ]
    },
    {
      "cell_type": "markdown",
      "metadata": {
        "id": "weGL3pF8BHLY"
      },
      "source": [
        "Во фреймворке ICE не учитываются такие показатели, как количество пользователей, которых коснется изменение и стоимость тестирования. По этой причине данный фрейймворк можно использовать только если стоимость и количество пользователей не являются ключевыми."
      ]
    },
    {
      "cell_type": "markdown",
      "metadata": {
        "id": "InIT2kt-BHLY"
      },
      "source": [
        "**В первом фреймворке лидирующими гипотезами были:**\n",
        "1. Запустить акцию, дающую скидку на товар в день рождения\n",
        "2. Добавить два новых канала привлечения трафика, что позволит привлекать на 30% больше пользователей."
      ]
    },
    {
      "cell_type": "markdown",
      "metadata": {
        "id": "pC2r48hjBHLY"
      },
      "source": [
        "**Во втором:**\n",
        "1. Добавить форму подписки на все основные страницы, чтобы собрать базу клиентов для email-рассылок\n",
        "2. Добавить блоки рекомендаций товаров на сайт интернет магазина, чтобы повысить конверсию и средний чек заказа."
      ]
    },
    {
      "cell_type": "markdown",
      "metadata": {
        "id": "YSjIPBL5BHLZ"
      },
      "source": [
        "# Анализ А/В-теста"
      ]
    },
    {
      "cell_type": "markdown",
      "metadata": {
        "id": "L0QcDyvhBHLZ"
      },
      "source": [
        "Проанализируйте A/B-тест:\n",
        "1. Постройте график кумулятивной выручки по группам. Сделайте выводы и предположения.\n",
        "2. Постройте график кумулятивного среднего чека по группам. Сделайте выводы и предположения.\n",
        "3. Постройте график относительного изменения кумулятивного среднего чека группы B к группе A. Сделайте выводы и предположения.\n",
        "4. Постройте график кумулятивного среднего количества заказов на посетителя по группам. Сделайте выводы и предположения.\n",
        "5. Постройте график относительного изменения кумулятивного среднего количества заказов на посетителя группы B к группе A. Сделайте выводы и предположения.\n",
        "6. Постройте точечный график количества заказов по пользователям. Сделайте выводы и предположения.\n",
        "7. Посчитайте 95-й и 99-й перцентили количества заказов на пользователя. Выберите границу для определения аномальных пользователей.\n",
        "8. Постройте точечный график стоимостей заказов. Сделайте выводы и предположения.\n",
        "9. Посчитайте 95-й и 99-й перцентили стоимости заказов. Выберите границу для определения аномальных заказов.\n",
        "10. Посчитайте статистическую значимость различий в среднем количестве заказов на посетителя между группами по «сырым» данным. Сделайте выводы и предположения.\n",
        "11. Посчитайте статистическую значимость различий в среднем чеке заказа между группами по «сырым» данным. Сделайте выводы и предположения.\n",
        "12. Посчитайте статистическую значимость различий в среднем количестве заказов на посетителя между группами по «очищенным» данным. Сделайте выводы и предположения.\n",
        "13. Посчитайте статистическую значимость различий в среднем чеке заказа между группами по «очищенным» данным. Сделайте выводы и предположения.\n",
        "14. Примите решение по результатам теста и объясните его. Варианты решений:\n",
        " 1. Остановить тест, зафиксировать победу одной из групп.\n",
        " 2. Остановить тест, зафиксировать отсутствие различий между группами.\n",
        " 3. Продолжить тест."
      ]
    },
    {
      "cell_type": "markdown",
      "metadata": {
        "id": "Hxh2C05RBHLb"
      },
      "source": [
        "Перед началом теста посмотрим количество групп в тесте и посмотрим на их размеры."
      ]
    },
    {
      "cell_type": "code",
      "execution_count": null,
      "metadata": {
        "id": "WU8XrfNNBHLb",
        "outputId": "a3ddf871-6e63-4e71-a868-ca810132d91d"
      },
      "outputs": [
        {
          "data": {
            "text/plain": [
              "array(['B', 'A'], dtype=object)"
            ]
          },
          "execution_count": 7,
          "metadata": {},
          "output_type": "execute_result"
        }
      ],
      "source": [
        "orders['group'].unique()"
      ]
    },
    {
      "cell_type": "markdown",
      "metadata": {
        "id": "q-YgqSIpBHLb"
      },
      "source": [
        "В тесте участвовало всего 2 группы, A/B-тест парный. Далее нужно узнать размер каждой группы."
      ]
    },
    {
      "cell_type": "code",
      "execution_count": null,
      "metadata": {
        "id": "PWmNqTdIBHLc",
        "outputId": "5888d675-b59d-4688-b958-14c663b5a73e"
      },
      "outputs": [
        {
          "data": {
            "text/plain": [
              "group\n",
              "A    503\n",
              "B    586\n",
              "Name: visitorId, dtype: int64"
            ]
          },
          "execution_count": 8,
          "metadata": {},
          "output_type": "execute_result"
        }
      ],
      "source": [
        "orders.groupby(by = 'group')['visitorId'].nunique()"
      ]
    },
    {
      "cell_type": "markdown",
      "metadata": {
        "id": "keWdJZ6lBHME"
      },
      "source": [
        "В группе B гораздо больше пользователей, чем в группе А. Тест выйдет несбалансированным. Но это не окажет заметного влияния на итоговые результаты, так как мы оцениваем как раз количество пользователей и средний чек, который является относительной величиной."
      ]
    },
    {
      "cell_type": "markdown",
      "metadata": {
        "id": "yJN2R7_uBHME"
      },
      "source": [
        "Узнаем даты начала и окончания теста."
      ]
    },
    {
      "cell_type": "code",
      "execution_count": null,
      "metadata": {
        "id": "txYGy8cTBHMF",
        "outputId": "df2ce5ea-87a4-4fb9-9ad3-4ab70608b7d5"
      },
      "outputs": [
        {
          "name": "stdout",
          "output_type": "stream",
          "text": [
            "2019-08-01 2019-08-31\n"
          ]
        }
      ],
      "source": [
        "print(visitors['date'].min(), visitors['date'].max())"
      ]
    },
    {
      "cell_type": "markdown",
      "metadata": {
        "id": "B6r8IkdnBHMF"
      },
      "source": [
        "Тест проводился весь август. Далее проверим, есть ли пользователи, которые попали в обе группы теста."
      ]
    },
    {
      "cell_type": "code",
      "execution_count": null,
      "metadata": {
        "id": "mww0kiIABHMF",
        "outputId": "1ba73e42-8918-4b0b-b68b-42e1954f420d"
      },
      "outputs": [
        {
          "name": "stdout",
          "output_type": "stream",
          "text": [
            "       visitorId  groups\n",
            "2        8300375       2\n",
            "44     199603092       2\n",
            "51     232979603       2\n",
            "55     237748145       2\n",
            "66     276558944       2\n",
            "84     351125977       2\n",
            "97     393266494       2\n",
            "114    457167155       2\n",
            "119    471551937       2\n",
            "122    477780734       2\n",
            "192    818047933       2\n",
            "236    963407295       2\n",
            "299   1230306981       2\n",
            "311   1294878855       2\n",
            "316   1316129916       2\n",
            "318   1333886533       2\n",
            "340   1404934699       2\n",
            "386   1602967004       2\n",
            "393   1614305549       2\n",
            "402   1648269707       2\n",
            "406   1668030113       2\n",
            "422   1738359350       2\n",
            "436   1801183820       2\n",
            "469   1959144690       2\n",
            "487   2038680547       2\n",
            "491   2044997962       2\n",
            "569   2378935119       2\n",
            "591   2458001652       2\n",
            "614   2579882178       2\n",
            "619   2587333274       2\n",
            "622   2600415354       2\n",
            "639   2654030115       2\n",
            "648   2686716486       2\n",
            "661   2712142231       2\n",
            "662   2716752286       2\n",
            "677   2780786433       2\n",
            "710   2927087541       2\n",
            "715   2949041841       2\n",
            "718   2954449915       2\n",
            "744   3062433592       2\n",
            "784   3202540741       2\n",
            "792   3234906277       2\n",
            "884   3656415546       2\n",
            "897   3717692402       2\n",
            "909   3766097110       2\n",
            "917   3803269165       2\n",
            "932   3891541246       2\n",
            "950   3941795274       2\n",
            "954   3951559397       2\n",
            "957   3957174400       2\n",
            "958   3963646447       2\n",
            "960   3972127743       2\n",
            "963   3984495233       2\n",
            "984   4069496402       2\n",
            "992   4120364173       2\n",
            "1009  4186807279       2\n",
            "1023  4256040402       2\n",
            "1026  4266935830       2\n"
          ]
        }
      ],
      "source": [
        "grouped_orders = orders.groupby(by = 'visitorId', as_index = False)['group'].nunique()\n",
        "grouped_orders.columns = ['visitorId', 'groups']\n",
        "both_groups = grouped_orders.loc[grouped_orders['groups']>1]\n",
        "print(both_groups)"
      ]
    },
    {
      "cell_type": "markdown",
      "metadata": {
        "id": "qN1ibByYBHMG"
      },
      "source": [
        "Достаточно большое количество пользователей попало в обе группы. Данных пользователей следует удалить, так как они могут влиять на итоговые результаты теста."
      ]
    },
    {
      "cell_type": "markdown",
      "metadata": {
        "id": "WeJkHtgwBHMG"
      },
      "source": [
        "Так как много пользователей попали в обе группы, то мы не можем доверять таблице с количеством посетителей. Требуется создать свою, где не будет дубликатов. В первую очередь очистим нашу таблицу от лишних пользователей."
      ]
    },
    {
      "cell_type": "code",
      "execution_count": null,
      "metadata": {
        "id": "o2AdwzpnBHMG"
      },
      "outputs": [],
      "source": [
        "orders = orders.loc[~orders['visitorId'].isin(both_groups['visitorId'])]"
      ]
    },
    {
      "cell_type": "markdown",
      "metadata": {
        "id": "cTqgTyeOBHMH"
      },
      "source": [
        "После очистки таблицы нужно взглянуть на наличие пропусков и дубликатов, а также провести преобразование данных"
      ]
    },
    {
      "cell_type": "code",
      "execution_count": null,
      "metadata": {
        "id": "crsQsIpnBHMH",
        "outputId": "6b82bee1-505b-4906-aa8f-241c0de5f990"
      },
      "outputs": [
        {
          "name": "stdout",
          "output_type": "stream",
          "text": [
            "<class 'pandas.core.frame.DataFrame'>\n",
            "Int64Index: 1016 entries, 0 to 1196\n",
            "Data columns (total 5 columns):\n",
            " #   Column         Non-Null Count  Dtype \n",
            "---  ------         --------------  ----- \n",
            " 0   transactionId  1016 non-null   int64 \n",
            " 1   visitorId      1016 non-null   int64 \n",
            " 2   date           1016 non-null   object\n",
            " 3   revenue        1016 non-null   int64 \n",
            " 4   group          1016 non-null   object\n",
            "dtypes: int64(3), object(2)\n",
            "memory usage: 47.6+ KB\n"
          ]
        }
      ],
      "source": [
        "orders.info()"
      ]
    },
    {
      "cell_type": "code",
      "execution_count": null,
      "metadata": {
        "id": "lJz31_8KBHMH",
        "outputId": "60ab409b-2fcc-4652-b94a-c232e19ed558"
      },
      "outputs": [
        {
          "name": "stdout",
          "output_type": "stream",
          "text": [
            "<class 'pandas.core.frame.DataFrame'>\n",
            "RangeIndex: 62 entries, 0 to 61\n",
            "Data columns (total 3 columns):\n",
            " #   Column    Non-Null Count  Dtype \n",
            "---  ------    --------------  ----- \n",
            " 0   date      62 non-null     object\n",
            " 1   group     62 non-null     object\n",
            " 2   visitors  62 non-null     int64 \n",
            "dtypes: int64(1), object(2)\n",
            "memory usage: 1.6+ KB\n"
          ]
        }
      ],
      "source": [
        "visitors.info()"
      ]
    },
    {
      "cell_type": "markdown",
      "metadata": {
        "id": "p0wc_14hBHMI"
      },
      "source": [
        "Пропуски отсутствуют, проверим наличие дубликатов по id пользователей и дате."
      ]
    },
    {
      "cell_type": "code",
      "execution_count": null,
      "metadata": {
        "id": "Iucmpj-FBHMI",
        "outputId": "b9c2b179-0c3a-4cde-defd-13e2a3714cf1"
      },
      "outputs": [
        {
          "data": {
            "text/plain": [
              "0"
            ]
          },
          "execution_count": 14,
          "metadata": {},
          "output_type": "execute_result"
        }
      ],
      "source": [
        "orders.duplicated(subset = ['transactionId']).sum()"
      ]
    },
    {
      "cell_type": "code",
      "execution_count": null,
      "metadata": {
        "id": "BCcBCt4vBHMI",
        "outputId": "3bacea00-af6d-4d52-d8a9-bc9246f03ed3"
      },
      "outputs": [
        {
          "data": {
            "text/plain": [
              "0"
            ]
          },
          "execution_count": 15,
          "metadata": {},
          "output_type": "execute_result"
        }
      ],
      "source": [
        "visitors.duplicated(subset = ['date', 'group']).sum()"
      ]
    },
    {
      "cell_type": "code",
      "execution_count": null,
      "metadata": {
        "id": "GqgaLTnvBHMJ",
        "outputId": "1ae72f27-1ac2-46f1-9d51-dc83b233a40e"
      },
      "outputs": [
        {
          "data": {
            "text/plain": [
              "0"
            ]
          },
          "execution_count": 16,
          "metadata": {},
          "output_type": "execute_result"
        }
      ],
      "source": [
        "orders.duplicated().sum()"
      ]
    },
    {
      "cell_type": "code",
      "execution_count": null,
      "metadata": {
        "id": "1Z3VhrDxBHMJ",
        "outputId": "96968ae9-208d-495b-d428-007d3219f200"
      },
      "outputs": [
        {
          "data": {
            "text/plain": [
              "0"
            ]
          },
          "execution_count": 17,
          "metadata": {},
          "output_type": "execute_result"
        }
      ],
      "source": [
        "visitors.duplicated().sum()"
      ]
    },
    {
      "cell_type": "markdown",
      "metadata": {
        "id": "MeMTeAAvBHMJ"
      },
      "source": [
        "Дубликатов нет. Далее преобразуем дату в нужный формат."
      ]
    },
    {
      "cell_type": "code",
      "execution_count": null,
      "metadata": {
        "id": "d8jS5kvoBHMK"
      },
      "outputs": [],
      "source": [
        "orders['date'] = pd.to_datetime(orders['date'], format = '%Y-%m-%d')"
      ]
    },
    {
      "cell_type": "code",
      "execution_count": null,
      "metadata": {
        "id": "C7Fj4yFeBHML"
      },
      "outputs": [],
      "source": [
        "visitors['date'] = pd.to_datetime(visitors['date'], format = '%Y-%m-%d')"
      ]
    },
    {
      "cell_type": "markdown",
      "metadata": {
        "id": "VvRrKpXLBHML"
      },
      "source": [
        "В итоге получились 2 новые таблицы, с которыми далее можно работать."
      ]
    },
    {
      "cell_type": "markdown",
      "metadata": {
        "id": "o_OvMx-7BHMM"
      },
      "source": [
        "## Построить график кумулятивной выручки по группам. Сделать выводы и предположения."
      ]
    },
    {
      "cell_type": "code",
      "execution_count": null,
      "metadata": {
        "id": "LcnYfcl_BHMM"
      },
      "outputs": [],
      "source": [
        "# конвертеры, которые позволяют использовать типы pandas в matplotlib\n",
        "register_matplotlib_converters()\n",
        "\n",
        "datesGroups = orders[['date', 'group']].drop_duplicates()\n",
        "\n",
        "ordersAggregated = datesGroups.apply(\n",
        "    lambda x: orders[\n",
        "        np.logical_and(\n",
        "            orders['date'] <= x['date'], orders['group'] == x['group']\n",
        "        )\n",
        "    ].agg(\n",
        "        {\n",
        "            'date': 'max',\n",
        "            'group': 'max',\n",
        "            'transactionId': 'nunique',\n",
        "            'visitorId': 'nunique',\n",
        "            'revenue': 'sum',\n",
        "        }\n",
        "    ),\n",
        "    axis=1,\n",
        ").sort_values(by=['date', 'group'])\n",
        "\n",
        "visitorsAggregated = datesGroups.apply(\n",
        "    lambda x: visitors[\n",
        "        np.logical_and(\n",
        "            visitors['date'] <= x['date'], visitors['group'] == x['group']\n",
        "        )\n",
        "    ].agg({'date': 'max', 'group': 'max', 'visitors': 'sum'}),\n",
        "    axis=1,\n",
        ").sort_values(by=['date', 'group'])\n",
        "\n",
        "cumulativeData = ordersAggregated.merge(\n",
        "    visitorsAggregated, left_on=['date', 'group'], right_on=['date', 'group']\n",
        ")\n",
        "cumulativeData.columns = [\n",
        "    'date',\n",
        "    'group',\n",
        "    'orders',\n",
        "    'buyers',\n",
        "    'revenue',\n",
        "    'visitors',\n",
        "]\n",
        "\n",
        "cumulativeRevenueA = cumulativeData[cumulativeData['group'] == 'A'][\n",
        "    ['date', 'revenue', 'orders']\n",
        "]\n",
        "cumulativeRevenueB = cumulativeData[cumulativeData['group'] == 'B'][\n",
        "    ['date', 'revenue', 'orders']\n",
        "]"
      ]
    },
    {
      "cell_type": "code",
      "execution_count": null,
      "metadata": {
        "id": "f_c1pxVUBHMN",
        "outputId": "c0c0fadd-f5ca-4322-f2fa-3f541544509b"
      },
      "outputs": [
        {
          "data": {
            "image/png": "[encoded data removed]",
            "text/plain": [
              "<Figure size 1080x1080 with 1 Axes>"
            ]
          },
          "metadata": {
            "needs_background": "light"
          },
          "output_type": "display_data"
        }
      ],
      "source": [
        "plt.figure(figsize=(15,15))\n",
        "plt.xticks(rotation=45)\n",
        "plt.tick_params(labelsize=15)\n",
        "plt.xlabel('Дата', fontsize= 15)\n",
        "plt.ylabel('Кумулятивная выручка', fontsize= 15)\n",
        "plt.title('График кумулятивной выручки', fontsize=20, fontweight='bold')\n",
        "plt.plot(cumulativeRevenueA['date'], cumulativeRevenueA['revenue'], label='A')\n",
        "plt.plot(cumulativeRevenueB['date'], cumulativeRevenueB['revenue'], label='B');\n",
        "plt.legend();"
      ]
    },
    {
      "cell_type": "markdown",
      "metadata": {
        "id": "aHXH3hRdBHMN"
      },
      "source": [
        "Судя по полученному графику, у группы Б произошел резкий рост 17 августа. Возможно, в данных есть аномалии, которые стоит удалить для более корректного отображения результатов теста. Тем не менее, группа Б с самого начала теста была лучше группы А. Вероятно, что и далее ее результаты будут лучше, чем у группы А, несмотря на закравшуюся аномалию."
      ]
    },
    {
      "cell_type": "markdown",
      "metadata": {
        "id": "mS5dD1gtBHMO"
      },
      "source": [
        "## Построить график кумулятивного среднего чека по группам. Сделать выводы и предположения."
      ]
    },
    {
      "cell_type": "code",
      "execution_count": null,
      "metadata": {
        "id": "hZeALzm-BHMO",
        "outputId": "87c6b9aa-2726-4ff4-c661-125870242cd8"
      },
      "outputs": [
        {
          "data": {
            "image/png": "[encoded data removed]",
            "text/plain": [
              "<Figure size 1080x1080 with 1 Axes>"
            ]
          },
          "metadata": {
            "needs_background": "light"
          },
          "output_type": "display_data"
        }
      ],
      "source": [
        "plt.figure(figsize=(15,15))\n",
        "plt.xticks(rotation=45)\n",
        "plt.tick_params(labelsize=15)\n",
        "plt.xlabel('Дата', fontsize= 15)\n",
        "plt.ylabel('Куммулятивный средний чек', fontsize= 15)\n",
        "plt.title('График кумулятивного среднего чека по группам', fontsize=20, fontweight='bold')\n",
        "plt.plot(cumulativeRevenueA['date'], cumulativeRevenueA['revenue']/cumulativeRevenueA['orders'], label='A')\n",
        "plt.plot(cumulativeRevenueB['date'], cumulativeRevenueB['revenue']/cumulativeRevenueB['orders'], label='B');\n",
        "plt.legend();"
      ]
    },
    {
      "cell_type": "markdown",
      "metadata": {
        "id": "JNL8rm_rBHMO"
      },
      "source": [
        "Средний чек группы А ежедневно колеблется, но с 13 августа зафиксировался в районе 7-8 тысяч. Средний чек группы Б имел меньшие колебания в начале эксперимента, затем резко вырос 17 числа и начал падение."
      ]
    },
    {
      "cell_type": "markdown",
      "metadata": {
        "id": "gusocaW-BHMP"
      },
      "source": [
        "## Построить график относительного изменения кумулятивного среднего чека группы B к группе A. Сделать выводы и предположения."
      ]
    },
    {
      "cell_type": "code",
      "execution_count": null,
      "metadata": {
        "id": "AAt3_ut4BHMP",
        "outputId": "b49e52af-226d-4384-d518-8a45f7a69dc5"
      },
      "outputs": [
        {
          "data": {
            "image/png": "[encoded data removed]",
            "text/plain": [
              "<Figure size 1080x1080 with 1 Axes>"
            ]
          },
          "metadata": {
            "needs_background": "light"
          },
          "output_type": "display_data"
        }
      ],
      "source": [
        "mergedCumulativeRevenue = cumulativeRevenueA.merge(cumulativeRevenueB, left_on='date', right_on='date', how='left', suffixes=['A', 'B'])\n",
        "\n",
        "# cтроим отношение средних чеков\n",
        "plt.figure(figsize=(15,15))\n",
        "plt.xticks(rotation=45)\n",
        "plt.tick_params(labelsize=15)\n",
        "plt.xlabel('Дата', fontsize= 15)\n",
        "plt.title('График относительного изменения кумулятивного среднего чека', fontsize=20, fontweight='bold')\n",
        "plt.ylabel('Процент изменения', fontsize= 15)\n",
        "plt.plot(mergedCumulativeRevenue['date'], (mergedCumulativeRevenue['revenueB']/mergedCumulativeRevenue['ordersB'])/(mergedCumulativeRevenue['revenueA']/mergedCumulativeRevenue['ordersA'])-1)\n",
        "\n",
        "# добавляем ось X\n",
        "plt.axhline(y=0, color='black', linestyle='--');"
      ]
    },
    {
      "cell_type": "markdown",
      "metadata": {
        "id": "RkUAPpfKBHMP"
      },
      "source": [
        "График показывает, что группа Б стабильно лучше группы А за исключениемм нескольких дней."
      ]
    },
    {
      "cell_type": "markdown",
      "metadata": {
        "id": "buAt2V_6BHMP"
      },
      "source": [
        "## Построить график кумулятивного среднего количества заказов на посетителя по группам. Сделать выводы и предположения."
      ]
    },
    {
      "cell_type": "code",
      "execution_count": null,
      "metadata": {
        "id": "EjNqA7LGBHMQ",
        "outputId": "3f1f1874-711c-49d0-da46-95ba65990af1"
      },
      "outputs": [
        {
          "data": {
            "text/html": [
              "<div>\n",
              "<style scoped>\n",
              "    .dataframe tbody tr th:only-of-type {\n",
              "        vertical-align: middle;\n",
              "    }\n",
              "\n",
              "    .dataframe tbody tr th {\n",
              "        vertical-align: top;\n",
              "    }\n",
              "\n",
              "    .dataframe thead th {\n",
              "        text-align: right;\n",
              "    }\n",
              "</style>\n",
              "<table border=\"1\" class=\"dataframe\">\n",
              "  <thead>\n",
              "    <tr style=\"text-align: right;\">\n",
              "      <th></th>\n",
              "      <th>date</th>\n",
              "      <th>group</th>\n",
              "      <th>orders</th>\n",
              "      <th>buyers</th>\n",
              "      <th>revenue</th>\n",
              "      <th>visitors</th>\n",
              "    </tr>\n",
              "  </thead>\n",
              "  <tbody>\n",
              "    <tr>\n",
              "      <th>0</th>\n",
              "      <td>2019-08-01</td>\n",
              "      <td>A</td>\n",
              "      <td>23</td>\n",
              "      <td>19</td>\n",
              "      <td>142779</td>\n",
              "      <td>719</td>\n",
              "    </tr>\n",
              "    <tr>\n",
              "      <th>1</th>\n",
              "      <td>2019-08-01</td>\n",
              "      <td>B</td>\n",
              "      <td>17</td>\n",
              "      <td>17</td>\n",
              "      <td>59758</td>\n",
              "      <td>713</td>\n",
              "    </tr>\n",
              "    <tr>\n",
              "      <th>2</th>\n",
              "      <td>2019-08-02</td>\n",
              "      <td>A</td>\n",
              "      <td>42</td>\n",
              "      <td>36</td>\n",
              "      <td>234381</td>\n",
              "      <td>1338</td>\n",
              "    </tr>\n",
              "    <tr>\n",
              "      <th>3</th>\n",
              "      <td>2019-08-02</td>\n",
              "      <td>B</td>\n",
              "      <td>40</td>\n",
              "      <td>39</td>\n",
              "      <td>221801</td>\n",
              "      <td>1294</td>\n",
              "    </tr>\n",
              "    <tr>\n",
              "      <th>4</th>\n",
              "      <td>2019-08-03</td>\n",
              "      <td>A</td>\n",
              "      <td>66</td>\n",
              "      <td>60</td>\n",
              "      <td>346854</td>\n",
              "      <td>1845</td>\n",
              "    </tr>\n",
              "    <tr>\n",
              "      <th>...</th>\n",
              "      <td>...</td>\n",
              "      <td>...</td>\n",
              "      <td>...</td>\n",
              "      <td>...</td>\n",
              "      <td>...</td>\n",
              "      <td>...</td>\n",
              "    </tr>\n",
              "    <tr>\n",
              "      <th>57</th>\n",
              "      <td>2019-08-29</td>\n",
              "      <td>B</td>\n",
              "      <td>510</td>\n",
              "      <td>490</td>\n",
              "      <td>4746610</td>\n",
              "      <td>17708</td>\n",
              "    </tr>\n",
              "    <tr>\n",
              "      <th>58</th>\n",
              "      <td>2019-08-30</td>\n",
              "      <td>A</td>\n",
              "      <td>460</td>\n",
              "      <td>437</td>\n",
              "      <td>3311413</td>\n",
              "      <td>18037</td>\n",
              "    </tr>\n",
              "    <tr>\n",
              "      <th>59</th>\n",
              "      <td>2019-08-30</td>\n",
              "      <td>B</td>\n",
              "      <td>531</td>\n",
              "      <td>511</td>\n",
              "      <td>4955833</td>\n",
              "      <td>18198</td>\n",
              "    </tr>\n",
              "    <tr>\n",
              "      <th>60</th>\n",
              "      <td>2019-08-31</td>\n",
              "      <td>A</td>\n",
              "      <td>468</td>\n",
              "      <td>445</td>\n",
              "      <td>3364656</td>\n",
              "      <td>18736</td>\n",
              "    </tr>\n",
              "    <tr>\n",
              "      <th>61</th>\n",
              "      <td>2019-08-31</td>\n",
              "      <td>B</td>\n",
              "      <td>548</td>\n",
              "      <td>528</td>\n",
              "      <td>5068972</td>\n",
              "      <td>18916</td>\n",
              "    </tr>\n",
              "  </tbody>\n",
              "</table>\n",
              "<p>62 rows × 6 columns</p>\n",
              "</div>"
            ],
            "text/plain": [
              "         date group  orders  buyers  revenue  visitors\n",
              "0  2019-08-01     A      23      19   142779       719\n",
              "1  2019-08-01     B      17      17    59758       713\n",
              "2  2019-08-02     A      42      36   234381      1338\n",
              "3  2019-08-02     B      40      39   221801      1294\n",
              "4  2019-08-03     A      66      60   346854      1845\n",
              "..        ...   ...     ...     ...      ...       ...\n",
              "57 2019-08-29     B     510     490  4746610     17708\n",
              "58 2019-08-30     A     460     437  3311413     18037\n",
              "59 2019-08-30     B     531     511  4955833     18198\n",
              "60 2019-08-31     A     468     445  3364656     18736\n",
              "61 2019-08-31     B     548     528  5068972     18916\n",
              "\n",
              "[62 rows x 6 columns]"
            ]
          },
          "execution_count": 24,
          "metadata": {},
          "output_type": "execute_result"
        }
      ],
      "source": [
        "cumulativeData"
      ]
    },
    {
      "cell_type": "code",
      "execution_count": null,
      "metadata": {
        "id": "f97yDu6iBHMQ",
        "outputId": "aa376ea1-41bc-44a6-9d93-210a344945d1"
      },
      "outputs": [
        {
          "data": {
            "image/png": "[encoded data removed]",
            "text/plain": [
              "<Figure size 1080x1080 with 1 Axes>"
            ]
          },
          "metadata": {
            "needs_background": "light"
          },
          "output_type": "display_data"
        }
      ],
      "source": [
        "cumulativeData['conversion'] = cumulativeData['orders']/cumulativeData['visitors']\n",
        "cumulativeDataA = cumulativeData[cumulativeData['group']=='A']\n",
        "\n",
        "# отделяем данные по группе B\n",
        "cumulativeDataB = cumulativeData[cumulativeData['group']=='B']\n",
        "plt.figure(figsize=(15,15))\n",
        "plt.xticks(rotation=45)\n",
        "plt.tick_params(labelsize=15)\n",
        "plt.xlabel('Дата', fontsize= 15)\n",
        "plt.ylabel('Среднее количество кумулятивного среднего количества заказов ', fontsize= 15)\n",
        "plt.title('График кумулятивного среднего количества заказов ', fontsize=20, fontweight='bold')\n",
        "plt.plot(cumulativeDataA['date'], cumulativeDataA['conversion'], label='A')\n",
        "plt.plot(cumulativeDataB['date'], cumulativeDataB['conversion'], label='B')\n",
        "plt.legend();"
      ]
    },
    {
      "cell_type": "markdown",
      "metadata": {
        "id": "uQUelp41BHMQ"
      },
      "source": [
        "Среднее количество заказов на посетителя группы Б выше группы А, однако имеет тенденцию к снижению. Среднее количество обеих групп стабилизировалось уже через неделю."
      ]
    },
    {
      "cell_type": "markdown",
      "metadata": {
        "id": "fEqc0gJUBHMS"
      },
      "source": [
        "## Построить график относительного изменения кумулятивного среднего количества заказов на посетителя группы B к группе A. Сделать выводы и предположения."
      ]
    },
    {
      "cell_type": "code",
      "execution_count": null,
      "metadata": {
        "id": "Ctb73i8rBHMS",
        "outputId": "2d3d093e-ea6c-4c7d-b083-17940b1fa100"
      },
      "outputs": [
        {
          "data": {
            "image/png": "[encoded data removed]",
            "text/plain": [
              "<Figure size 1080x1080 with 1 Axes>"
            ]
          },
          "metadata": {
            "needs_background": "light"
          },
          "output_type": "display_data"
        }
      ],
      "source": [
        "mergedCumulativeConversions = cumulativeDataA[['date','conversion']].merge(cumulativeDataB[['date','conversion']], left_on='date', right_on='date', how='left', suffixes=['A', 'B'])\n",
        "plt.figure(figsize=(15,15))\n",
        "plt.xticks(rotation=45)\n",
        "plt.tick_params(labelsize=15)\n",
        "plt.xlabel('Дата', fontsize= 15)\n",
        "plt.ylabel('Процент прироста', fontsize= 15)\n",
        "plt.title('График относительного изменения кумулятивного среднего количества заказов', fontsize=20, fontweight='bold')\n",
        "plt.plot(mergedCumulativeConversions['date'], mergedCumulativeConversions['conversionB']/mergedCumulativeConversions['conversionA']-1, label=\"Относительный прирост кумулятивного среднего количества заказов группы B относительно группы A\")\n",
        "plt.legend()\n",
        "plt.axhline(y=0, color='black', linestyle='--')\n",
        "plt.axhline(y=0.2, color='grey', linestyle='--')\n",
        "plt.axis([\"2019-08-01\", '2019-08-31', -0.3, 0.3]);"
      ]
    },
    {
      "cell_type": "markdown",
      "metadata": {
        "id": "t18qOiwaBHMS"
      },
      "source": [
        "Группа А стабильно отстает от группы В"
      ]
    },
    {
      "cell_type": "markdown",
      "metadata": {
        "id": "qicy3DRrBHMV"
      },
      "source": [
        "## Построить точечный график количества заказов по пользователям. Сделать выводы и предположения."
      ]
    },
    {
      "cell_type": "code",
      "execution_count": null,
      "metadata": {
        "id": "J9M_wLfcBHMV",
        "outputId": "9e4f6328-4abd-4049-b25c-907b38e9e07e"
      },
      "outputs": [
        {
          "data": {
            "image/png": "[encoded data removed]",
            "text/plain": [
              "<Figure size 1080x1080 with 1 Axes>"
            ]
          },
          "metadata": {
            "needs_background": "light"
          },
          "output_type": "display_data"
        }
      ],
      "source": [
        "ordersByUsers = (\n",
        "    orders.groupby('visitorId', as_index=False)\n",
        "    .agg({'transactionId': 'nunique'})\n",
        ")\n",
        "\n",
        "ordersByUsers.columns = ['userId', 'orders']\n",
        "x_values = pd.Series(range(0,len(ordersByUsers)))\n",
        "plt.figure(figsize=(15,15))\n",
        "plt.tick_params(labelsize=15)\n",
        "plt.xlabel('ID пользователей', fontsize= 15)\n",
        "plt.ylabel('Количество', fontsize= 15)\n",
        "plt.title('Точечный график количества заказов', fontsize=20, fontweight='bold')\n",
        "plt.scatter(x_values, ordersByUsers['orders']);"
      ]
    },
    {
      "cell_type": "markdown",
      "metadata": {
        "id": "tYa6NSjgBHMW"
      },
      "source": [
        "Много пользователей с 2-3 заказами. Их точная доля не ясна — непонятно, считать их аномалиями или нет."
      ]
    },
    {
      "cell_type": "markdown",
      "metadata": {
        "id": "IF33CaKtBHMX"
      },
      "source": [
        "## Посчитать 95-й и 99-й перцентили количества заказов на пользователя. Выберать границу для определения аномальных пользователей."
      ]
    },
    {
      "cell_type": "code",
      "execution_count": null,
      "metadata": {
        "id": "lNw0i9s9BHMX",
        "outputId": "9bad70e8-7aa5-4176-b173-2cbb1789ddc9"
      },
      "outputs": [
        {
          "name": "stdout",
          "output_type": "stream",
          "text": [
            "[1. 1. 2.]\n"
          ]
        }
      ],
      "source": [
        "percentile = np.percentile(ordersByUsers['orders'], [90,95,99]) # Метод np.percentile('column', [percentile1, percentile2, percentile3]) находит перцентили.\n",
        "print(percentile)"
      ]
    },
    {
      "cell_type": "markdown",
      "metadata": {
        "id": "JjDWN6e-BHMY"
      },
      "source": [
        "Менее 1%  пользователей совершило более 2 заказов. Следует убрать пользователей, заказавших более двух раз чтобы они не искажали данные теста."
      ]
    },
    {
      "cell_type": "markdown",
      "metadata": {
        "id": "syXaoMIZBHMY"
      },
      "source": [
        " ## Построить точечный график стоимостей заказов. Сделать выводы и предположения."
      ]
    },
    {
      "cell_type": "code",
      "execution_count": null,
      "metadata": {
        "id": "iyxYwvXIBHMZ",
        "outputId": "aa9b9f59-82fc-445d-d783-4b7c18ff03a8"
      },
      "outputs": [
        {
          "data": {
            "image/png": "[encoded data removed]",
            "text/plain": [
              "<Figure size 1080x1080 with 1 Axes>"
            ]
          },
          "metadata": {
            "needs_background": "light"
          },
          "output_type": "display_data"
        }
      ],
      "source": [
        "x_values = pd.Series(range(0,len(orders['revenue'])))\n",
        "plt.figure(figsize=(15,15))\n",
        "plt.tick_params(labelsize=15)\n",
        "plt.xlabel('ID пользователей', fontsize= 15)\n",
        "plt.ylabel('Стоимость заказов', fontsize= 15)\n",
        "plt.title('Точечный график стоимостей заказов', fontsize=20, fontweight='bold')\n",
        "plt.scatter(x_values, orders['revenue']);"
      ]
    },
    {
      "cell_type": "markdown",
      "metadata": {
        "id": "wajRaK-TBHMZ"
      },
      "source": [
        "Заказов стоимостью более 200 000 рублей очень мало. Это аномалии, которые нужно удалить."
      ]
    },
    {
      "cell_type": "markdown",
      "metadata": {
        "id": "_VjTsWNmBHMa"
      },
      "source": [
        "## Посчитать 95-й и 99-й перцентили стоимости заказов. Выберать границу для определения аномальных заказов."
      ]
    },
    {
      "cell_type": "code",
      "execution_count": null,
      "metadata": {
        "id": "AZ32LxGDBHMa",
        "outputId": "4299fbba-891d-47c4-ba2a-3027e6d329d1"
      },
      "outputs": [
        {
          "name": "stdout",
          "output_type": "stream",
          "text": [
            "[17990. 26785. 53904.]\n"
          ]
        }
      ],
      "source": [
        "percentile = np.percentile(orders['revenue'], [90,95,99]) # Метод np.percentile('column', [percentile1, percentile2, percentile3]) находит перцентили.\n",
        "print(percentile)"
      ]
    },
    {
      "cell_type": "markdown",
      "metadata": {
        "id": "FEv55hqNBHMb"
      },
      "source": [
        "Менее 1% людей сделали заказ более, чем на 58 тысяч и менее 5% более, чем на 28 тысяч. Следует убрать пользователей, заказавших более, чем на 28 тысяч чтобы они не искажали данные теста."
      ]
    },
    {
      "cell_type": "markdown",
      "metadata": {
        "id": "nVzjyb0RBHMb"
      },
      "source": [
        "## Посчитать статистическую значимость различий в среднем количестве заказов на посетителя между группами по «сырым» данным. Сделать выводы и предположения."
      ]
    },
    {
      "cell_type": "code",
      "execution_count": null,
      "metadata": {
        "id": "HW42DLisBHMb"
      },
      "outputs": [],
      "source": [
        "visitorsADaily = visitors[visitors['group'] == 'A'][['date', 'visitors']]\n",
        "visitorsADaily.columns = ['date', 'visitorsPerDateA']\n",
        "\n",
        "visitorsACummulative = visitorsADaily.apply(\n",
        "    lambda x: visitorsADaily[visitorsADaily['date'] <= x['date']].agg(\n",
        "        {'date': 'max', 'visitorsPerDateA': 'sum'}\n",
        "    ),\n",
        "    axis=1,\n",
        ")\n",
        "visitorsACummulative.columns = ['date', 'visitorsCummulativeA']\n",
        "\n",
        "visitorsBDaily = visitors[visitors['group'] == 'B'][['date', 'visitors']]\n",
        "visitorsBDaily.columns = ['date', 'visitorsPerDateB']\n",
        "\n",
        "visitorsBCummulative = visitorsBDaily.apply(\n",
        "    lambda x: visitorsBDaily[visitorsBDaily['date'] <= x['date']].agg(\n",
        "        {'date': 'max', 'visitorsPerDateB': 'sum'}\n",
        "    ),\n",
        "    axis=1,\n",
        ")\n",
        "visitorsBCummulative.columns = ['date', 'visitorsCummulativeB']\n",
        "\n",
        "ordersADaily = (\n",
        "    orders[orders['group'] == 'A'][['date', 'transactionId', 'visitorId', 'revenue']]\n",
        "    .groupby('date', as_index=False)\n",
        "    .agg({'transactionId': pd.Series.nunique, 'revenue': 'sum'})\n",
        ")\n",
        "ordersADaily.columns = ['date', 'ordersPerDateA', 'revenuePerDateA']\n",
        "\n",
        "ordersACummulative = ordersADaily.apply(\n",
        "    lambda x: ordersADaily[ordersADaily['date'] <= x['date']].agg(\n",
        "        {'date': 'max', 'ordersPerDateA': 'sum', 'revenuePerDateA': 'sum'}\n",
        "    ),\n",
        "    axis=1,\n",
        ").sort_values(by=['date'])\n",
        "ordersACummulative.columns = [\n",
        "    'date',\n",
        "    'ordersCummulativeA',\n",
        "    'revenueCummulativeA',\n",
        "]\n",
        "\n",
        "ordersBDaily = (\n",
        "    orders[orders['group'] == 'B'][['date', 'transactionId', 'visitorId', 'revenue']]\n",
        "    .groupby('date', as_index=False)\n",
        "    .agg({'transactionId': pd.Series.nunique, 'revenue': 'sum'})\n",
        ")\n",
        "ordersBDaily.columns = ['date', 'ordersPerDateB', 'revenuePerDateB']\n",
        "\n",
        "ordersBCummulative = ordersBDaily.apply(\n",
        "    lambda x: ordersBDaily[ordersBDaily['date'] <= x['date']].agg(\n",
        "        {'date': 'max', 'ordersPerDateB': 'sum', 'revenuePerDateB': 'sum'}\n",
        "    ),\n",
        "    axis=1,\n",
        ").sort_values(by=['date'])\n",
        "ordersBCummulative.columns = [\n",
        "    'date',\n",
        "    'ordersCummulativeB',\n",
        "    'revenueCummulativeB',\n",
        "]\n",
        "\n",
        "data = (\n",
        "    ordersADaily.merge(\n",
        "        ordersBDaily, left_on='date', right_on='date', how='left'\n",
        "    )\n",
        "    .merge(ordersACummulative, left_on='date', right_on='date', how='left')\n",
        "    .merge(ordersBCummulative, left_on='date', right_on='date', how='left')\n",
        "    .merge(visitorsADaily, left_on='date', right_on='date', how='left')\n",
        "    .merge(visitorsBDaily, left_on='date', right_on='date', how='left')\n",
        "    .merge(visitorsACummulative, left_on='date', right_on='date', how='left')\n",
        "    .merge(visitorsBCummulative, left_on='date', right_on='date', how='left')\n",
        ")"
      ]
    },
    {
      "cell_type": "code",
      "execution_count": null,
      "metadata": {
        "id": "JBaZOCFJBHMc"
      },
      "outputs": [],
      "source": [
        "ordersByUsersA = (\n",
        "    orders[orders['group'] == 'A']\n",
        "    .groupby('visitorId', as_index=False)\n",
        "    .agg({'transactionId': pd.Series.nunique})\n",
        ")\n",
        "ordersByUsersA.columns = ['userId', 'orders']\n",
        "\n",
        "ordersByUsersB = (\n",
        "    orders[orders['group'] == 'B']\n",
        "    .groupby('visitorId', as_index=False)\n",
        "    .agg({'transactionId': pd.Series.nunique})\n",
        ")\n",
        "ordersByUsersB.columns = ['userId', 'orders']\n",
        "pd.Series(0, index=np.arange(data['visitorsPerDateA'].sum() - len(ordersByUsersA['orders'])), name='orders')\n",
        "sampleA = pd.concat([ordersByUsersA['orders'],pd.Series(0, index=np.arange(data['visitorsPerDateA'].sum() - len(ordersByUsersA['orders'])), name='orders')],axis=0)\n",
        "\n",
        "sampleB = pd.concat([ordersByUsersB['orders'],pd.Series(0, index=np.arange(data['visitorsPerDateB'].sum() - len(ordersByUsersB['orders'])), name='orders')],axis=0)\n",
        "ordersByUsersA = (\n",
        "    orders[orders['group'] == 'A']\n",
        "    .groupby('visitorId', as_index=False)\n",
        "    .agg({'transactionId': pd.Series.nunique})\n",
        ")\n",
        "ordersByUsersA.columns = ['userId', 'orders']\n",
        "\n",
        "ordersByUsersB = (\n",
        "    orders[orders['group'] == 'B']\n",
        "    .groupby('visitorId', as_index=False)\n",
        "    .agg({'transactionId': pd.Series.nunique})\n",
        ")\n",
        "ordersByUsersB.columns = ['userId', 'orders']\n",
        "\n",
        "sampleA = pd.concat(\n",
        "    [\n",
        "        ordersByUsersA['orders'],\n",
        "        pd.Series(\n",
        "            0,\n",
        "            index=np.arange(\n",
        "                data['visitorsPerDateA'].sum() - len(ordersByUsersA['orders'])\n",
        "            ),\n",
        "            name='orders',\n",
        "        ),\n",
        "    ],\n",
        "    axis=0,\n",
        ")\n",
        "\n",
        "sampleB = pd.concat(\n",
        "    [\n",
        "        ordersByUsersB['orders'],\n",
        "        pd.Series(\n",
        "            0,\n",
        "            index=np.arange(\n",
        "                data['visitorsPerDateB'].sum() - len(ordersByUsersB['orders'])\n",
        "            ),\n",
        "            name='orders',\n",
        "        ),\n",
        "    ],\n",
        "    axis=0,\n",
        ")"
      ]
    },
    {
      "cell_type": "markdown",
      "metadata": {
        "id": "KyHbe6T2BHMd"
      },
      "source": [
        "Сформулируем гипотезы.\n",
        "Нулевая: различий в среднем количестве заказов на посетителя между группами нет. Альтернативная: различия в среднем количестве заказов на посетителя между группами есть. Статистическая значимость составит 5%. Данный уровень статистической значимости позволит отсеять значения, которые представляют собой случайности. Критерий проверки гипотез - тест Уилконсона-Манна-Уитни."
      ]
    },
    {
      "cell_type": "code",
      "execution_count": null,
      "metadata": {
        "id": "lNqpBW9kBHMe",
        "outputId": "4834c687-4604-4809-e8fd-88527a745839"
      },
      "outputs": [
        {
          "name": "stdout",
          "output_type": "stream",
          "text": [
            "p-value: 0.01102\n",
            "относительная разница: 0.160\n"
          ]
        }
      ],
      "source": [
        "print('p-value:', \"{0:.5f}\".format(stats.mannwhitneyu(sampleA, sampleB)[1]))\n",
        "\n",
        "print('относительная разница:', \"{0:.3f}\".format(sampleB.mean() / sampleA.mean() - 1))"
      ]
    },
    {
      "cell_type": "markdown",
      "metadata": {
        "id": "5plDe8DfBHMe"
      },
      "source": [
        "P-value значительно меньше 0.05, поэтому есть основания отвергнуть нулевую гипотезу. Анализ «сырых данных» сообщает, что в среднем количестве заказов на посетителя между группами присутствуют статистически значимые различия. Относительный прирост среднего группы B к среднему группы A равен 16%."
      ]
    },
    {
      "cell_type": "markdown",
      "metadata": {
        "id": "rY4FbvdXBHMf"
      },
      "source": [
        "## Посчитать статистическую значимость различий в среднем чеке заказа между группами по «сырым» данным. Сделать выводы и предположения."
      ]
    },
    {
      "cell_type": "code",
      "execution_count": null,
      "metadata": {
        "id": "u72vZYH6BHMf",
        "outputId": "6be89107-a912-424b-b131-de881a218ee7"
      },
      "outputs": [
        {
          "name": "stdout",
          "output_type": "stream",
          "text": [
            "0.829\n",
            "0.287\n"
          ]
        }
      ],
      "source": [
        "print('{0:.3f}'.format(stats.mannwhitneyu(orders[orders['group']=='A']['revenue'], orders[orders['group']=='B']['revenue'])[1]))\n",
        "print('{0:.3f}'.format(orders[orders['group']=='B']['revenue'].mean()/orders[orders['group']=='A']['revenue'].mean()-1))"
      ]
    },
    {
      "cell_type": "markdown",
      "metadata": {
        "id": "RyTo5jnUBHMg"
      },
      "source": [
        "P-value больше 0.05 — статистически значимых отличий в среднем чеке между группами нет. Однако относительное различие среднего чека между сегментами целых 29%. Напомним, что на данный момент используются сырые данные, поэтому выбросы могут значительно искажать результаты. Все это говорит о том, что генеральная совокупность не репрезентативна и нужно ее очистить от аномалий."
      ]
    },
    {
      "cell_type": "markdown",
      "metadata": {
        "id": "NqXiToVsBHMg"
      },
      "source": [
        "## Посчитать статистическую значимость различий в среднем количестве заказов на посетителя между группами по «очищенным» данным. Сделать выводы и предположения."
      ]
    },
    {
      "cell_type": "code",
      "execution_count": null,
      "metadata": {
        "id": "uU-rWyWnBHMg"
      },
      "outputs": [],
      "source": [
        "usersWithManyOrders = pd.concat(\n",
        "    [\n",
        "        ordersByUsersA[ordersByUsersA['orders'] > np.percentile(ordersByUsers['orders'], 99)]['userId'],\n",
        "        ordersByUsersB[ordersByUsersB['orders'] > np.percentile(ordersByUsers['orders'], 99)]['userId'],\n",
        "    ],\n",
        "    axis=0,\n",
        ")\n",
        "usersWithExpensiveOrders = orders[orders['revenue'] > np.percentile(orders['revenue'], 99)]['visitorId']\n",
        "abnormalUsers = (\n",
        "    pd.concat([usersWithManyOrders, usersWithExpensiveOrders], axis=0)\n",
        "    .drop_duplicates()\n",
        "    .sort_values()\n",
        ")"
      ]
    },
    {
      "cell_type": "markdown",
      "metadata": {
        "id": "yMiPPnLEBHMi"
      },
      "source": [
        "Нулевая: различий в среднем количестве заказов между группами нет. Альтернативная: различия в среднем между группами есть."
      ]
    },
    {
      "cell_type": "code",
      "execution_count": null,
      "metadata": {
        "id": "XNUSPW2EBHMi",
        "outputId": "1046792e-fc2c-4332-a438-fe98b76dab91"
      },
      "outputs": [
        {
          "name": "stdout",
          "output_type": "stream",
          "text": [
            "p-value: 0.00702\n",
            "относительная разница: 0.189\n"
          ]
        }
      ],
      "source": [
        "sampleAFiltered = pd.concat(\n",
        "    [\n",
        "        ordersByUsersA[\n",
        "            np.logical_not(ordersByUsersA['userId'].isin(abnormalUsers))\n",
        "        ]['orders'],\n",
        "        pd.Series(\n",
        "            0,\n",
        "            index=np.arange(\n",
        "                data['visitorsPerDateA'].sum() - len(ordersByUsersA['orders'])\n",
        "            ),\n",
        "            name='orders',\n",
        "        ),\n",
        "    ],\n",
        "    axis=0,\n",
        ")\n",
        "\n",
        "sampleBFiltered = pd.concat(\n",
        "    [\n",
        "        ordersByUsersB[\n",
        "            np.logical_not(ordersByUsersB['userId'].isin(abnormalUsers))\n",
        "        ]['orders'],\n",
        "        pd.Series(\n",
        "            0,\n",
        "            index=np.arange(\n",
        "                data['visitorsPerDateB'].sum() - len(ordersByUsersB['orders'])\n",
        "            ),\n",
        "            name='orders',\n",
        "        ),\n",
        "    ],\n",
        "    axis=0,\n",
        ")\n",
        "print('p-value:', '{0:.5f}'.format(stats.mannwhitneyu(sampleAFiltered, sampleBFiltered)[1]))\n",
        "print('относительная разница:', '{0:.3f}'.format(sampleBFiltered.mean()/sampleAFiltered.mean()-1))"
      ]
    },
    {
      "cell_type": "markdown",
      "metadata": {
        "id": "ZSR1oie3BHMj"
      },
      "source": [
        "P-value значительно меньше 0.05, потому нулевую гипотезу отвергаем. В данном случае анализ сообщает, что в среднем количестве заказов на посетителя между группами притсутствуют статистически значимые различия. Относительный прирост среднего группы B к среднему группы A равен 19%."
      ]
    },
    {
      "cell_type": "markdown",
      "metadata": {
        "id": "NYcUqxrVBHMk"
      },
      "source": [
        "## Посчитать статистическую значимость различий в среднем чеке заказа между группами по «очищенным» данным. Сделать выводы и предположения."
      ]
    },
    {
      "cell_type": "code",
      "execution_count": null,
      "metadata": {
        "id": "4bNRObmZBHMk",
        "outputId": "41c62e10-7ea6-487b-8294-173b02ba96e7"
      },
      "outputs": [
        {
          "name": "stdout",
          "output_type": "stream",
          "text": [
            "p-value: 0.788\n",
            "относительная разница: -0.032\n"
          ]
        }
      ],
      "source": [
        "print('p-value:', '{0:.3f}'.format(\n",
        "        stats.mannwhitneyu(\n",
        "            orders[\n",
        "                np.logical_and(\n",
        "                    orders['group'] == 'A',\n",
        "                    np.logical_not(orders['visitorId'].isin(abnormalUsers)),\n",
        "                )\n",
        "            ]['revenue'],\n",
        "            orders[\n",
        "                np.logical_and(\n",
        "                    orders['group'] == 'B',\n",
        "                    np.logical_not(orders['visitorId'].isin(abnormalUsers)),\n",
        "                )\n",
        "            ]['revenue'],\n",
        "        )[1]\n",
        "    )\n",
        ")\n",
        "\n",
        "print('относительная разница:', \"{0:.3f}\".format(\n",
        "        orders[\n",
        "            np.logical_and(\n",
        "                orders['group'] == 'B',\n",
        "                np.logical_not(orders['visitorId'].isin(abnormalUsers)),\n",
        "            )\n",
        "        ]['revenue'].mean()\n",
        "        / orders[\n",
        "            np.logical_and(\n",
        "                orders['group'] == 'A',\n",
        "                np.logical_not(orders['visitorId'].isin(abnormalUsers)),\n",
        "            )\n",
        "        ]['revenue'].mean()\n",
        "        - 1\n",
        "    )\n",
        ")"
      ]
    },
    {
      "cell_type": "markdown",
      "metadata": {
        "id": "ploThzkeBHMl"
      },
      "source": [
        "Статистическая значимость почти не изменилась. Это значит, что выбросы были немногочисленные и очень крупные и влияли не на выборку в целом, а на среднее значение. Разница между выборками составила всего 3%, сделав выборку Б по среднему чеку даже хуже выборки А."
      ]
    },
    {
      "cell_type": "markdown",
      "metadata": {
        "id": "R5TDpkPIBHMl"
      },
      "source": [
        "Проверим, сколько значений пришлось убрать из общего количества строк, чтобы понимать, стоит ли доверять тесту."
      ]
    },
    {
      "cell_type": "code",
      "execution_count": null,
      "metadata": {
        "id": "ZEk4IoW5BHMl",
        "outputId": "9cce5a2d-6e53-4923-d9be-0195bd37247d"
      },
      "outputs": [
        {
          "name": "stdout",
          "output_type": "stream",
          "text": [
            "Удаленных пользователей 16\n",
            "Процент удаленных пользователей 1.64%\n"
          ]
        }
      ],
      "source": [
        "print('Удаленных пользователей', usersWithManyOrders.nunique()+usersWithExpensiveOrders.nunique())\n",
        "print('Процент удаленных пользователей', str(round(((usersWithManyOrders.nunique()+usersWithExpensiveOrders.nunique())/orders['visitorId'].nunique())*100, 2))+'%')"
      ]
    },
    {
      "cell_type": "markdown",
      "metadata": {
        "id": "YVnulBI1BHMm"
      },
      "source": [
        "## Итоги тестирования."
      ]
    },
    {
      "cell_type": "markdown",
      "metadata": {
        "id": "oRVjMyZeBHMm"
      },
      "source": [
        "По результатам теста можно присудить относительную победу группе Б. Несмотря на то, что у этой группы средний чек на посетителя практически равен среднему чеку группы А, в группе Б посетители совершают больше заказов почти на 20%. Это способствует и увеличению выручки на 20%. Соответственно, бизнесу стоит учесть изменения, произведенные для группы Б в дальнейшей работе для увеличения выручки."
      ]
    }
  ],
  "metadata": {
    "ExecuteTimeLog": [
      {
        "duration": 454,
        "start_time": "2023-09-16T19:00:07.534Z"
      },
      {
        "duration": 3,
        "start_time": "2023-09-16T19:00:09.068Z"
      },
      {
        "duration": 142,
        "start_time": "2023-09-16T19:00:27.493Z"
      },
      {
        "duration": 53,
        "start_time": "2023-09-16T19:00:42.334Z"
      },
      {
        "duration": 170,
        "start_time": "2023-09-16T19:15:30.534Z"
      },
      {
        "duration": 136,
        "start_time": "2023-09-16T19:15:45.948Z"
      },
      {
        "duration": 98,
        "start_time": "2023-09-16T19:16:25.430Z"
      },
      {
        "duration": 2,
        "start_time": "2023-09-16T19:17:55.295Z"
      },
      {
        "duration": 51,
        "start_time": "2023-09-17T12:41:48.688Z"
      },
      {
        "duration": 403,
        "start_time": "2023-09-17T12:42:01.333Z"
      },
      {
        "duration": 77,
        "start_time": "2023-09-17T12:42:01.738Z"
      },
      {
        "duration": 103,
        "start_time": "2023-09-17T12:42:01.817Z"
      },
      {
        "duration": 58,
        "start_time": "2023-09-17T12:42:01.921Z"
      },
      {
        "duration": 6,
        "start_time": "2023-09-17T12:42:01.980Z"
      },
      {
        "duration": 62,
        "start_time": "2023-09-17T12:48:00.013Z"
      },
      {
        "duration": 7,
        "start_time": "2023-09-17T12:48:07.069Z"
      },
      {
        "duration": 7,
        "start_time": "2023-09-17T12:49:22.824Z"
      },
      {
        "duration": 6,
        "start_time": "2023-09-17T12:49:37.437Z"
      },
      {
        "duration": 8,
        "start_time": "2023-09-17T12:50:08.073Z"
      },
      {
        "duration": 8,
        "start_time": "2023-09-17T12:50:13.471Z"
      },
      {
        "duration": 352,
        "start_time": "2023-09-17T14:28:40.833Z"
      },
      {
        "duration": 843,
        "start_time": "2023-09-17T14:28:47.836Z"
      },
      {
        "duration": 36,
        "start_time": "2023-09-17T14:28:48.681Z"
      },
      {
        "duration": 41,
        "start_time": "2023-09-17T14:28:48.718Z"
      },
      {
        "duration": 20,
        "start_time": "2023-09-17T14:28:48.761Z"
      },
      {
        "duration": 8,
        "start_time": "2023-09-17T14:28:48.782Z"
      },
      {
        "duration": 17,
        "start_time": "2023-09-17T14:28:48.791Z"
      },
      {
        "duration": 451,
        "start_time": "2023-09-17T14:28:48.810Z"
      },
      {
        "duration": 366,
        "start_time": "2023-09-17T14:30:34.417Z"
      },
      {
        "duration": 792,
        "start_time": "2023-09-17T14:30:56.490Z"
      },
      {
        "duration": 38,
        "start_time": "2023-09-17T14:30:57.285Z"
      },
      {
        "duration": 40,
        "start_time": "2023-09-17T14:30:57.325Z"
      },
      {
        "duration": 18,
        "start_time": "2023-09-17T14:30:57.367Z"
      },
      {
        "duration": 8,
        "start_time": "2023-09-17T14:30:57.387Z"
      },
      {
        "duration": 8,
        "start_time": "2023-09-17T14:30:57.396Z"
      },
      {
        "duration": 422,
        "start_time": "2023-09-17T14:30:57.406Z"
      },
      {
        "duration": 337,
        "start_time": "2023-09-17T14:31:16.297Z"
      },
      {
        "duration": 824,
        "start_time": "2023-09-17T14:33:37.056Z"
      },
      {
        "duration": 37,
        "start_time": "2023-09-17T14:33:37.882Z"
      },
      {
        "duration": 41,
        "start_time": "2023-09-17T14:33:37.921Z"
      },
      {
        "duration": 20,
        "start_time": "2023-09-17T14:33:37.964Z"
      },
      {
        "duration": 7,
        "start_time": "2023-09-17T14:33:37.985Z"
      },
      {
        "duration": 11,
        "start_time": "2023-09-17T14:33:37.994Z"
      },
      {
        "duration": 189,
        "start_time": "2023-09-17T14:33:38.007Z"
      },
      {
        "duration": 152,
        "start_time": "2023-09-17T14:39:52.720Z"
      },
      {
        "duration": 182,
        "start_time": "2023-09-17T14:40:40.800Z"
      },
      {
        "duration": 178,
        "start_time": "2023-09-17T16:00:18.086Z"
      },
      {
        "duration": 1270,
        "start_time": "2023-09-17T16:00:25.356Z"
      },
      {
        "duration": 101,
        "start_time": "2023-09-17T16:00:26.629Z"
      },
      {
        "duration": 42,
        "start_time": "2023-09-17T16:00:26.732Z"
      },
      {
        "duration": 19,
        "start_time": "2023-09-17T16:00:26.776Z"
      },
      {
        "duration": 9,
        "start_time": "2023-09-17T16:00:26.796Z"
      },
      {
        "duration": 10,
        "start_time": "2023-09-17T16:00:26.807Z"
      },
      {
        "duration": 273,
        "start_time": "2023-09-17T16:00:26.819Z"
      },
      {
        "duration": 184,
        "start_time": "2023-09-17T16:02:22.331Z"
      },
      {
        "duration": 695,
        "start_time": "2023-09-17T16:04:31.125Z"
      },
      {
        "duration": 35,
        "start_time": "2023-09-17T16:04:31.821Z"
      },
      {
        "duration": 41,
        "start_time": "2023-09-17T16:04:31.857Z"
      },
      {
        "duration": 18,
        "start_time": "2023-09-17T16:04:31.900Z"
      },
      {
        "duration": 7,
        "start_time": "2023-09-17T16:04:31.920Z"
      },
      {
        "duration": 17,
        "start_time": "2023-09-17T16:04:31.929Z"
      },
      {
        "duration": 98,
        "start_time": "2023-09-17T16:04:31.947Z"
      },
      {
        "duration": 617,
        "start_time": "2023-09-17T16:05:38.389Z"
      },
      {
        "duration": 36,
        "start_time": "2023-09-17T16:05:39.008Z"
      },
      {
        "duration": 41,
        "start_time": "2023-09-17T16:05:39.046Z"
      },
      {
        "duration": 20,
        "start_time": "2023-09-17T16:05:39.089Z"
      },
      {
        "duration": 9,
        "start_time": "2023-09-17T16:05:39.110Z"
      },
      {
        "duration": 8,
        "start_time": "2023-09-17T16:05:39.120Z"
      },
      {
        "duration": 540,
        "start_time": "2023-09-17T16:05:39.130Z"
      },
      {
        "duration": 483,
        "start_time": "2023-09-17T16:07:37.276Z"
      },
      {
        "duration": 540,
        "start_time": "2023-09-17T16:07:45.127Z"
      },
      {
        "duration": 422,
        "start_time": "2023-09-17T16:08:50.702Z"
      },
      {
        "duration": 622,
        "start_time": "2023-09-17T16:09:41.752Z"
      },
      {
        "duration": 470,
        "start_time": "2023-09-17T16:10:20.383Z"
      },
      {
        "duration": 249,
        "start_time": "2023-09-17T16:10:49.877Z"
      },
      {
        "duration": 555,
        "start_time": "2023-09-17T16:11:11.001Z"
      },
      {
        "duration": 519,
        "start_time": "2023-09-17T16:50:49.758Z"
      },
      {
        "duration": 301,
        "start_time": "2023-09-17T16:55:51.212Z"
      },
      {
        "duration": 380,
        "start_time": "2023-09-17T17:45:10.752Z"
      },
      {
        "duration": 425,
        "start_time": "2023-09-17T17:45:35.308Z"
      },
      {
        "duration": 422,
        "start_time": "2023-09-17T17:45:44.950Z"
      },
      {
        "duration": 418,
        "start_time": "2023-09-17T17:51:35.250Z"
      },
      {
        "duration": 414,
        "start_time": "2023-09-17T17:51:45.278Z"
      },
      {
        "duration": 9,
        "start_time": "2023-09-17T17:52:20.727Z"
      },
      {
        "duration": 9,
        "start_time": "2023-09-17T17:53:16.727Z"
      },
      {
        "duration": 8,
        "start_time": "2023-09-17T17:53:52.062Z"
      },
      {
        "duration": 50,
        "start_time": "2023-09-19T04:12:51.929Z"
      },
      {
        "duration": 859,
        "start_time": "2023-09-19T04:12:58.534Z"
      },
      {
        "duration": 74,
        "start_time": "2023-09-19T04:12:59.395Z"
      },
      {
        "duration": 84,
        "start_time": "2023-09-19T04:12:59.471Z"
      },
      {
        "duration": 58,
        "start_time": "2023-09-19T04:12:59.558Z"
      },
      {
        "duration": 12,
        "start_time": "2023-09-19T04:12:59.618Z"
      },
      {
        "duration": 15,
        "start_time": "2023-09-19T04:12:59.632Z"
      },
      {
        "duration": 688,
        "start_time": "2023-09-19T04:12:59.649Z"
      },
      {
        "duration": 402,
        "start_time": "2023-09-19T04:13:00.339Z"
      },
      {
        "duration": 568,
        "start_time": "2023-09-19T04:13:00.742Z"
      },
      {
        "duration": 11,
        "start_time": "2023-09-19T04:13:01.314Z"
      },
      {
        "duration": 124,
        "start_time": "2023-09-19T04:13:16.262Z"
      },
      {
        "duration": 11,
        "start_time": "2023-09-19T04:13:22.774Z"
      },
      {
        "duration": 8,
        "start_time": "2023-09-19T04:13:34.238Z"
      },
      {
        "duration": 10,
        "start_time": "2023-09-19T04:13:44.988Z"
      },
      {
        "duration": 11,
        "start_time": "2023-09-19T04:13:54.671Z"
      },
      {
        "duration": 14,
        "start_time": "2023-09-19T04:14:32.387Z"
      },
      {
        "duration": 413,
        "start_time": "2023-09-19T04:16:57.995Z"
      },
      {
        "duration": 290,
        "start_time": "2023-09-19T04:17:29.714Z"
      },
      {
        "duration": 278,
        "start_time": "2023-09-19T04:18:48.914Z"
      },
      {
        "duration": 398,
        "start_time": "2023-09-19T04:19:02.996Z"
      },
      {
        "duration": 369,
        "start_time": "2023-09-19T04:19:08.270Z"
      },
      {
        "duration": 284,
        "start_time": "2023-09-19T04:37:49.817Z"
      },
      {
        "duration": 436,
        "start_time": "2023-09-19T04:38:04.694Z"
      },
      {
        "duration": 394,
        "start_time": "2023-09-19T04:39:06.701Z"
      },
      {
        "duration": 507,
        "start_time": "2023-09-19T04:39:19.368Z"
      },
      {
        "duration": 470,
        "start_time": "2023-09-19T04:39:33.820Z"
      },
      {
        "duration": 12,
        "start_time": "2023-09-19T04:53:00.630Z"
      },
      {
        "duration": 23,
        "start_time": "2023-09-19T04:54:23.597Z"
      },
      {
        "duration": 10,
        "start_time": "2023-09-19T04:54:51.347Z"
      },
      {
        "duration": 144,
        "start_time": "2023-09-19T04:55:36.697Z"
      },
      {
        "duration": 4,
        "start_time": "2023-09-19T04:59:54.373Z"
      },
      {
        "duration": 7,
        "start_time": "2023-09-19T05:15:17.201Z"
      },
      {
        "duration": 1398,
        "start_time": "2023-09-19T05:15:27.201Z"
      },
      {
        "duration": 214,
        "start_time": "2023-09-19T06:50:30.075Z"
      },
      {
        "duration": 1571,
        "start_time": "2023-09-19T06:53:26.300Z"
      },
      {
        "duration": 8,
        "start_time": "2023-09-19T06:54:10.426Z"
      },
      {
        "duration": 133,
        "start_time": "2023-09-19T06:54:26.653Z"
      },
      {
        "duration": 134,
        "start_time": "2023-09-19T06:54:32.525Z"
      },
      {
        "duration": 5,
        "start_time": "2023-09-19T07:07:00.554Z"
      },
      {
        "duration": 6,
        "start_time": "2023-09-19T07:18:04.588Z"
      },
      {
        "duration": 12,
        "start_time": "2023-09-19T07:55:42.905Z"
      },
      {
        "duration": 24,
        "start_time": "2023-09-19T16:59:04.204Z"
      },
      {
        "duration": 18,
        "start_time": "2023-09-19T17:00:34.077Z"
      },
      {
        "duration": 163,
        "start_time": "2023-09-19T17:01:03.103Z"
      },
      {
        "duration": 107,
        "start_time": "2023-09-19T17:41:20.367Z"
      },
      {
        "duration": 122,
        "start_time": "2023-09-19T17:43:42.187Z"
      },
      {
        "duration": 219,
        "start_time": "2023-09-19T17:44:45.839Z"
      },
      {
        "duration": 374,
        "start_time": "2023-09-19T17:46:40.363Z"
      },
      {
        "duration": 535,
        "start_time": "2023-09-19T17:47:20.369Z"
      },
      {
        "duration": 1233,
        "start_time": "2023-09-19T17:47:46.377Z"
      },
      {
        "duration": 37,
        "start_time": "2023-09-19T17:47:47.612Z"
      },
      {
        "duration": 42,
        "start_time": "2023-09-19T17:47:47.650Z"
      },
      {
        "duration": 20,
        "start_time": "2023-09-19T17:47:47.694Z"
      },
      {
        "duration": 31,
        "start_time": "2023-09-19T17:47:47.716Z"
      },
      {
        "duration": 12,
        "start_time": "2023-09-19T17:47:47.748Z"
      },
      {
        "duration": 653,
        "start_time": "2023-09-19T17:47:47.762Z"
      },
      {
        "duration": 369,
        "start_time": "2023-09-19T17:47:48.416Z"
      },
      {
        "duration": 451,
        "start_time": "2023-09-19T17:47:48.786Z"
      },
      {
        "duration": 387,
        "start_time": "2023-09-19T17:47:49.239Z"
      },
      {
        "duration": 426,
        "start_time": "2023-09-19T17:47:49.628Z"
      },
      {
        "duration": 124,
        "start_time": "2023-09-19T17:47:50.057Z"
      },
      {
        "duration": 6,
        "start_time": "2023-09-19T17:47:50.183Z"
      },
      {
        "duration": 150,
        "start_time": "2023-09-19T17:47:50.202Z"
      },
      {
        "duration": 4,
        "start_time": "2023-09-19T17:47:50.354Z"
      },
      {
        "duration": 527,
        "start_time": "2023-09-19T17:47:50.360Z"
      },
      {
        "duration": 461,
        "start_time": "2023-09-19T18:08:32.512Z"
      },
      {
        "duration": 125,
        "start_time": "2023-09-19T18:14:34.770Z"
      },
      {
        "duration": 1423,
        "start_time": "2023-09-19T18:15:49.165Z"
      },
      {
        "duration": 1448,
        "start_time": "2023-09-19T18:16:03.365Z"
      },
      {
        "duration": 16,
        "start_time": "2023-09-19T18:16:16.193Z"
      },
      {
        "duration": 46,
        "start_time": "2023-09-20T05:09:39.690Z"
      },
      {
        "duration": 1219,
        "start_time": "2023-09-20T05:09:45.091Z"
      },
      {
        "duration": 71,
        "start_time": "2023-09-20T05:09:46.312Z"
      },
      {
        "duration": 87,
        "start_time": "2023-09-20T05:09:46.384Z"
      },
      {
        "duration": 57,
        "start_time": "2023-09-20T05:09:46.473Z"
      },
      {
        "duration": 7,
        "start_time": "2023-09-20T05:09:46.532Z"
      },
      {
        "duration": 7,
        "start_time": "2023-09-20T05:09:46.540Z"
      },
      {
        "duration": 553,
        "start_time": "2023-09-20T05:09:46.549Z"
      },
      {
        "duration": 289,
        "start_time": "2023-09-20T05:09:47.104Z"
      },
      {
        "duration": 431,
        "start_time": "2023-09-20T05:09:47.395Z"
      },
      {
        "duration": 336,
        "start_time": "2023-09-20T05:09:47.828Z"
      },
      {
        "duration": 378,
        "start_time": "2023-09-20T05:09:48.166Z"
      },
      {
        "duration": 95,
        "start_time": "2023-09-20T05:09:48.545Z"
      },
      {
        "duration": 4,
        "start_time": "2023-09-20T05:09:48.650Z"
      },
      {
        "duration": 110,
        "start_time": "2023-09-20T05:09:48.655Z"
      },
      {
        "duration": 3,
        "start_time": "2023-09-20T05:09:48.767Z"
      },
      {
        "duration": 487,
        "start_time": "2023-09-20T05:09:48.772Z"
      },
      {
        "duration": 16,
        "start_time": "2023-09-20T05:09:49.261Z"
      },
      {
        "duration": 17,
        "start_time": "2023-09-20T05:10:05.938Z"
      },
      {
        "duration": 26,
        "start_time": "2023-09-20T05:57:47.098Z"
      },
      {
        "duration": 1689,
        "start_time": "2023-09-20T06:07:18.451Z"
      },
      {
        "duration": 14,
        "start_time": "2023-09-20T06:08:30.551Z"
      },
      {
        "duration": 1358,
        "start_time": "2023-09-20T09:34:13.630Z"
      },
      {
        "duration": 77,
        "start_time": "2023-09-20T09:34:14.990Z"
      },
      {
        "duration": 91,
        "start_time": "2023-09-20T09:34:15.068Z"
      },
      {
        "duration": 64,
        "start_time": "2023-09-20T09:34:15.161Z"
      },
      {
        "duration": 12,
        "start_time": "2023-09-20T09:34:15.229Z"
      },
      {
        "duration": 31,
        "start_time": "2023-09-20T09:34:15.243Z"
      },
      {
        "duration": 334,
        "start_time": "2023-09-20T09:34:15.276Z"
      },
      {
        "duration": 402,
        "start_time": "2023-09-20T09:34:15.612Z"
      },
      {
        "duration": 408,
        "start_time": "2023-09-20T09:34:16.016Z"
      },
      {
        "duration": 484,
        "start_time": "2023-09-20T09:34:16.426Z"
      },
      {
        "duration": 452,
        "start_time": "2023-09-20T09:34:16.912Z"
      },
      {
        "duration": 516,
        "start_time": "2023-09-20T09:34:17.366Z"
      },
      {
        "duration": 181,
        "start_time": "2023-09-20T09:34:17.884Z"
      },
      {
        "duration": 5,
        "start_time": "2023-09-20T09:34:18.068Z"
      },
      {
        "duration": 157,
        "start_time": "2023-09-20T09:34:18.074Z"
      },
      {
        "duration": 5,
        "start_time": "2023-09-20T09:34:18.233Z"
      },
      {
        "duration": 250,
        "start_time": "2023-09-20T09:34:18.239Z"
      },
      {
        "duration": 367,
        "start_time": "2023-09-20T09:34:18.491Z"
      },
      {
        "duration": 26,
        "start_time": "2023-09-20T09:34:18.860Z"
      },
      {
        "duration": 26,
        "start_time": "2023-09-20T09:34:18.888Z"
      },
      {
        "duration": 66,
        "start_time": "2023-09-20T09:34:18.916Z"
      },
      {
        "duration": 77,
        "start_time": "2023-09-20T09:34:18.984Z"
      },
      {
        "duration": 15,
        "start_time": "2023-09-20T09:34:19.063Z"
      },
      {
        "duration": 1404,
        "start_time": "2023-09-20T13:04:44.711Z"
      },
      {
        "duration": 70,
        "start_time": "2023-09-20T13:04:46.118Z"
      },
      {
        "duration": 88,
        "start_time": "2023-09-20T13:04:46.190Z"
      },
      {
        "duration": 57,
        "start_time": "2023-09-20T13:04:46.280Z"
      },
      {
        "duration": 10,
        "start_time": "2023-09-20T13:04:46.339Z"
      },
      {
        "duration": 28,
        "start_time": "2023-09-20T13:04:46.351Z"
      },
      {
        "duration": 318,
        "start_time": "2023-09-20T13:04:46.381Z"
      },
      {
        "duration": 391,
        "start_time": "2023-09-20T13:04:46.701Z"
      },
      {
        "duration": 362,
        "start_time": "2023-09-20T13:04:47.095Z"
      },
      {
        "duration": 526,
        "start_time": "2023-09-20T13:04:47.460Z"
      },
      {
        "duration": 404,
        "start_time": "2023-09-20T13:04:47.988Z"
      },
      {
        "duration": 470,
        "start_time": "2023-09-20T13:04:48.394Z"
      },
      {
        "duration": 132,
        "start_time": "2023-09-20T13:04:48.867Z"
      },
      {
        "duration": 5,
        "start_time": "2023-09-20T13:04:49.001Z"
      },
      {
        "duration": 161,
        "start_time": "2023-09-20T13:04:49.007Z"
      },
      {
        "duration": 4,
        "start_time": "2023-09-20T13:04:49.170Z"
      },
      {
        "duration": 233,
        "start_time": "2023-09-20T13:04:49.176Z"
      },
      {
        "duration": 281,
        "start_time": "2023-09-20T13:04:49.411Z"
      },
      {
        "duration": 26,
        "start_time": "2023-09-20T13:04:49.694Z"
      },
      {
        "duration": 25,
        "start_time": "2023-09-20T13:04:49.722Z"
      },
      {
        "duration": 35,
        "start_time": "2023-09-20T13:04:49.749Z"
      },
      {
        "duration": 47,
        "start_time": "2023-09-20T13:04:49.787Z"
      },
      {
        "duration": 18,
        "start_time": "2023-09-20T13:04:49.836Z"
      },
      {
        "duration": 1232,
        "start_time": "2023-09-20T13:05:38.678Z"
      },
      {
        "duration": 38,
        "start_time": "2023-09-20T13:05:39.912Z"
      },
      {
        "duration": 42,
        "start_time": "2023-09-20T13:05:39.952Z"
      },
      {
        "duration": 20,
        "start_time": "2023-09-20T13:05:39.997Z"
      },
      {
        "duration": 14,
        "start_time": "2023-09-20T13:05:40.019Z"
      },
      {
        "duration": 36,
        "start_time": "2023-09-20T13:05:40.035Z"
      },
      {
        "duration": 304,
        "start_time": "2023-09-20T13:05:40.073Z"
      },
      {
        "duration": 364,
        "start_time": "2023-09-20T13:05:40.379Z"
      },
      {
        "duration": 409,
        "start_time": "2023-09-20T13:05:40.746Z"
      },
      {
        "duration": 457,
        "start_time": "2023-09-20T13:05:41.158Z"
      },
      {
        "duration": 382,
        "start_time": "2023-09-20T13:05:41.617Z"
      },
      {
        "duration": 469,
        "start_time": "2023-09-20T13:05:42.001Z"
      },
      {
        "duration": 126,
        "start_time": "2023-09-20T13:05:42.472Z"
      },
      {
        "duration": 4,
        "start_time": "2023-09-20T13:05:42.601Z"
      },
      {
        "duration": 139,
        "start_time": "2023-09-20T13:05:42.607Z"
      },
      {
        "duration": 5,
        "start_time": "2023-09-20T13:05:42.748Z"
      },
      {
        "duration": 225,
        "start_time": "2023-09-20T13:05:42.755Z"
      },
      {
        "duration": 276,
        "start_time": "2023-09-20T13:05:42.982Z"
      },
      {
        "duration": 28,
        "start_time": "2023-09-20T13:05:43.259Z"
      },
      {
        "duration": 50,
        "start_time": "2023-09-20T13:05:43.289Z"
      },
      {
        "duration": 81,
        "start_time": "2023-09-20T13:05:43.341Z"
      },
      {
        "duration": 41,
        "start_time": "2023-09-20T13:05:43.424Z"
      },
      {
        "duration": 13,
        "start_time": "2023-09-20T13:05:43.467Z"
      },
      {
        "duration": 64,
        "start_time": "2023-09-21T04:59:47.983Z"
      },
      {
        "duration": 1344,
        "start_time": "2023-09-21T04:59:54.435Z"
      },
      {
        "duration": 72,
        "start_time": "2023-09-21T04:59:55.781Z"
      },
      {
        "duration": 85,
        "start_time": "2023-09-21T04:59:55.854Z"
      },
      {
        "duration": 56,
        "start_time": "2023-09-21T04:59:55.941Z"
      },
      {
        "duration": 23,
        "start_time": "2023-09-21T04:59:55.999Z"
      },
      {
        "duration": 58,
        "start_time": "2023-09-21T04:59:56.024Z"
      },
      {
        "duration": 69,
        "start_time": "2023-09-21T04:59:56.083Z"
      },
      {
        "duration": 356,
        "start_time": "2023-09-21T04:59:56.153Z"
      },
      {
        "duration": 368,
        "start_time": "2023-09-21T04:59:56.511Z"
      },
      {
        "duration": 365,
        "start_time": "2023-09-21T04:59:56.882Z"
      },
      {
        "duration": 520,
        "start_time": "2023-09-21T04:59:57.249Z"
      },
      {
        "duration": 391,
        "start_time": "2023-09-21T04:59:57.771Z"
      },
      {
        "duration": 473,
        "start_time": "2023-09-21T04:59:58.164Z"
      },
      {
        "duration": 140,
        "start_time": "2023-09-21T04:59:58.639Z"
      },
      {
        "duration": 4,
        "start_time": "2023-09-21T04:59:58.781Z"
      },
      {
        "duration": 184,
        "start_time": "2023-09-21T04:59:58.787Z"
      },
      {
        "duration": 5,
        "start_time": "2023-09-21T04:59:58.972Z"
      },
      {
        "duration": 232,
        "start_time": "2023-09-21T04:59:58.978Z"
      },
      {
        "duration": 257,
        "start_time": "2023-09-21T04:59:59.211Z"
      },
      {
        "duration": 32,
        "start_time": "2023-09-21T04:59:59.470Z"
      },
      {
        "duration": 10,
        "start_time": "2023-09-21T04:59:59.504Z"
      },
      {
        "duration": 22,
        "start_time": "2023-09-21T04:59:59.516Z"
      },
      {
        "duration": 80,
        "start_time": "2023-09-21T04:59:59.540Z"
      },
      {
        "duration": 14,
        "start_time": "2023-09-21T04:59:59.622Z"
      },
      {
        "duration": 9,
        "start_time": "2023-09-21T05:01:35.447Z"
      },
      {
        "duration": 5,
        "start_time": "2023-09-21T05:03:49.731Z"
      },
      {
        "duration": 10,
        "start_time": "2023-09-21T05:03:51.948Z"
      },
      {
        "duration": 10,
        "start_time": "2023-09-21T05:04:30.424Z"
      },
      {
        "duration": 6,
        "start_time": "2023-09-21T05:05:08.131Z"
      },
      {
        "duration": 5,
        "start_time": "2023-09-21T05:09:22.850Z"
      },
      {
        "duration": 7,
        "start_time": "2023-09-21T05:27:39.031Z"
      },
      {
        "duration": 91,
        "start_time": "2023-09-21T05:29:15.493Z"
      },
      {
        "duration": 1323,
        "start_time": "2023-09-21T05:30:19.733Z"
      },
      {
        "duration": 5,
        "start_time": "2023-09-21T05:30:55.759Z"
      },
      {
        "duration": 14,
        "start_time": "2023-09-21T05:31:24.534Z"
      },
      {
        "duration": 1219,
        "start_time": "2023-09-21T05:31:38.162Z"
      },
      {
        "duration": 37,
        "start_time": "2023-09-21T05:31:39.383Z"
      },
      {
        "duration": 42,
        "start_time": "2023-09-21T05:31:39.422Z"
      },
      {
        "duration": 21,
        "start_time": "2023-09-21T05:31:39.466Z"
      },
      {
        "duration": 17,
        "start_time": "2023-09-21T05:31:39.488Z"
      },
      {
        "duration": 20,
        "start_time": "2023-09-21T05:31:39.506Z"
      },
      {
        "duration": 34,
        "start_time": "2023-09-21T05:31:39.528Z"
      },
      {
        "duration": 14,
        "start_time": "2023-09-21T05:31:39.564Z"
      },
      {
        "duration": 21,
        "start_time": "2023-09-21T05:31:39.580Z"
      },
      {
        "duration": 149,
        "start_time": "2023-09-21T05:31:39.604Z"
      },
      {
        "duration": 0,
        "start_time": "2023-09-21T05:31:39.755Z"
      },
      {
        "duration": 0,
        "start_time": "2023-09-21T05:31:39.756Z"
      },
      {
        "duration": 0,
        "start_time": "2023-09-21T05:31:39.758Z"
      },
      {
        "duration": 0,
        "start_time": "2023-09-21T05:31:39.758Z"
      },
      {
        "duration": 0,
        "start_time": "2023-09-21T05:31:39.759Z"
      },
      {
        "duration": 0,
        "start_time": "2023-09-21T05:31:39.760Z"
      },
      {
        "duration": 0,
        "start_time": "2023-09-21T05:31:39.761Z"
      },
      {
        "duration": 0,
        "start_time": "2023-09-21T05:31:39.762Z"
      },
      {
        "duration": 0,
        "start_time": "2023-09-21T05:31:39.763Z"
      },
      {
        "duration": 0,
        "start_time": "2023-09-21T05:31:39.764Z"
      },
      {
        "duration": 0,
        "start_time": "2023-09-21T05:31:39.766Z"
      },
      {
        "duration": 0,
        "start_time": "2023-09-21T05:31:39.767Z"
      },
      {
        "duration": 0,
        "start_time": "2023-09-21T05:31:39.768Z"
      },
      {
        "duration": 0,
        "start_time": "2023-09-21T05:31:39.769Z"
      },
      {
        "duration": 0,
        "start_time": "2023-09-21T05:31:39.770Z"
      },
      {
        "duration": 0,
        "start_time": "2023-09-21T05:31:39.771Z"
      },
      {
        "duration": 0,
        "start_time": "2023-09-21T05:31:39.801Z"
      },
      {
        "duration": 11,
        "start_time": "2023-09-21T05:32:21.735Z"
      },
      {
        "duration": 9,
        "start_time": "2023-09-21T05:32:28.984Z"
      },
      {
        "duration": 8,
        "start_time": "2023-09-21T05:33:32.286Z"
      },
      {
        "duration": 126,
        "start_time": "2023-09-21T05:33:52.835Z"
      },
      {
        "duration": 7,
        "start_time": "2023-09-21T05:33:57.335Z"
      },
      {
        "duration": 4,
        "start_time": "2023-09-21T05:34:06.210Z"
      },
      {
        "duration": 6,
        "start_time": "2023-09-21T05:34:11.860Z"
      },
      {
        "duration": 8,
        "start_time": "2023-09-21T05:34:15.810Z"
      },
      {
        "duration": 4,
        "start_time": "2023-09-21T05:34:23.217Z"
      },
      {
        "duration": 5,
        "start_time": "2023-09-21T05:34:32.810Z"
      },
      {
        "duration": 132,
        "start_time": "2023-09-21T05:35:33.137Z"
      },
      {
        "duration": 370,
        "start_time": "2023-09-21T05:36:18.536Z"
      },
      {
        "duration": 1581,
        "start_time": "2023-09-21T05:36:31.787Z"
      },
      {
        "duration": 10,
        "start_time": "2023-09-21T05:36:39.987Z"
      },
      {
        "duration": 10,
        "start_time": "2023-09-21T05:38:36.013Z"
      },
      {
        "duration": 1561,
        "start_time": "2023-09-24T06:19:47.187Z"
      },
      {
        "duration": 109,
        "start_time": "2023-09-24T06:19:48.750Z"
      },
      {
        "duration": 181,
        "start_time": "2023-09-24T06:19:48.863Z"
      },
      {
        "duration": 109,
        "start_time": "2023-09-24T06:19:49.046Z"
      },
      {
        "duration": 33,
        "start_time": "2023-09-24T06:19:49.163Z"
      },
      {
        "duration": 16,
        "start_time": "2023-09-24T06:19:49.202Z"
      },
      {
        "duration": 34,
        "start_time": "2023-09-24T06:19:49.221Z"
      },
      {
        "duration": 43,
        "start_time": "2023-09-24T06:19:49.264Z"
      },
      {
        "duration": 9,
        "start_time": "2023-09-24T06:19:49.310Z"
      },
      {
        "duration": 20,
        "start_time": "2023-09-24T06:19:49.322Z"
      },
      {
        "duration": 23,
        "start_time": "2023-09-24T06:19:49.343Z"
      },
      {
        "duration": 1848,
        "start_time": "2023-09-24T06:19:49.368Z"
      },
      {
        "duration": 0,
        "start_time": "2023-09-24T06:19:51.219Z"
      },
      {
        "duration": 0,
        "start_time": "2023-09-24T06:19:51.220Z"
      },
      {
        "duration": 0,
        "start_time": "2023-09-24T06:19:51.222Z"
      },
      {
        "duration": 0,
        "start_time": "2023-09-24T06:19:51.223Z"
      },
      {
        "duration": 0,
        "start_time": "2023-09-24T06:19:51.224Z"
      },
      {
        "duration": 0,
        "start_time": "2023-09-24T06:19:51.226Z"
      },
      {
        "duration": 0,
        "start_time": "2023-09-24T06:19:51.227Z"
      },
      {
        "duration": 0,
        "start_time": "2023-09-24T06:19:51.228Z"
      },
      {
        "duration": 0,
        "start_time": "2023-09-24T06:19:51.229Z"
      },
      {
        "duration": 0,
        "start_time": "2023-09-24T06:19:51.230Z"
      },
      {
        "duration": 0,
        "start_time": "2023-09-24T06:19:51.232Z"
      },
      {
        "duration": 0,
        "start_time": "2023-09-24T06:19:51.233Z"
      },
      {
        "duration": 0,
        "start_time": "2023-09-24T06:19:51.234Z"
      },
      {
        "duration": 0,
        "start_time": "2023-09-24T06:19:51.235Z"
      },
      {
        "duration": 0,
        "start_time": "2023-09-24T06:19:51.236Z"
      },
      {
        "duration": 0,
        "start_time": "2023-09-24T06:19:51.238Z"
      },
      {
        "duration": 0,
        "start_time": "2023-09-24T06:19:51.239Z"
      },
      {
        "duration": 1204,
        "start_time": "2023-09-24T06:20:35.582Z"
      },
      {
        "duration": 35,
        "start_time": "2023-09-24T06:20:36.788Z"
      },
      {
        "duration": 52,
        "start_time": "2023-09-24T06:20:36.825Z"
      },
      {
        "duration": 20,
        "start_time": "2023-09-24T06:20:36.878Z"
      },
      {
        "duration": 16,
        "start_time": "2023-09-24T06:20:36.900Z"
      },
      {
        "duration": 8,
        "start_time": "2023-09-24T06:20:36.918Z"
      },
      {
        "duration": 45,
        "start_time": "2023-09-24T06:20:36.927Z"
      },
      {
        "duration": 27,
        "start_time": "2023-09-24T06:20:36.975Z"
      },
      {
        "duration": 17,
        "start_time": "2023-09-24T06:20:37.004Z"
      },
      {
        "duration": 35,
        "start_time": "2023-09-24T06:20:37.022Z"
      },
      {
        "duration": 12,
        "start_time": "2023-09-24T06:20:37.063Z"
      },
      {
        "duration": 1664,
        "start_time": "2023-09-24T06:20:37.077Z"
      },
      {
        "duration": 0,
        "start_time": "2023-09-24T06:20:38.743Z"
      },
      {
        "duration": 0,
        "start_time": "2023-09-24T06:20:38.745Z"
      },
      {
        "duration": 0,
        "start_time": "2023-09-24T06:20:38.747Z"
      },
      {
        "duration": 0,
        "start_time": "2023-09-24T06:20:38.748Z"
      },
      {
        "duration": 0,
        "start_time": "2023-09-24T06:20:38.751Z"
      },
      {
        "duration": 0,
        "start_time": "2023-09-24T06:20:38.752Z"
      },
      {
        "duration": 0,
        "start_time": "2023-09-24T06:20:38.752Z"
      },
      {
        "duration": 0,
        "start_time": "2023-09-24T06:20:38.753Z"
      },
      {
        "duration": 0,
        "start_time": "2023-09-24T06:20:38.754Z"
      },
      {
        "duration": 0,
        "start_time": "2023-09-24T06:20:38.761Z"
      },
      {
        "duration": 0,
        "start_time": "2023-09-24T06:20:38.763Z"
      },
      {
        "duration": 0,
        "start_time": "2023-09-24T06:20:38.764Z"
      },
      {
        "duration": 0,
        "start_time": "2023-09-24T06:20:38.764Z"
      },
      {
        "duration": 0,
        "start_time": "2023-09-24T06:20:38.765Z"
      },
      {
        "duration": 0,
        "start_time": "2023-09-24T06:20:38.766Z"
      },
      {
        "duration": 0,
        "start_time": "2023-09-24T06:20:38.766Z"
      },
      {
        "duration": 0,
        "start_time": "2023-09-24T06:20:38.767Z"
      },
      {
        "duration": 1113,
        "start_time": "2023-09-24T06:24:46.183Z"
      },
      {
        "duration": 37,
        "start_time": "2023-09-24T06:24:47.298Z"
      },
      {
        "duration": 69,
        "start_time": "2023-09-24T06:24:47.336Z"
      },
      {
        "duration": 19,
        "start_time": "2023-09-24T06:24:47.407Z"
      },
      {
        "duration": 18,
        "start_time": "2023-09-24T06:24:47.428Z"
      },
      {
        "duration": 22,
        "start_time": "2023-09-24T06:24:47.447Z"
      },
      {
        "duration": 5,
        "start_time": "2023-09-24T06:24:47.479Z"
      },
      {
        "duration": 12,
        "start_time": "2023-09-24T06:24:47.485Z"
      },
      {
        "duration": 38,
        "start_time": "2023-09-24T06:24:47.502Z"
      },
      {
        "duration": 19,
        "start_time": "2023-09-24T06:24:47.541Z"
      },
      {
        "duration": 8,
        "start_time": "2023-09-24T06:24:47.562Z"
      },
      {
        "duration": 17,
        "start_time": "2023-09-24T06:24:47.571Z"
      },
      {
        "duration": 296,
        "start_time": "2023-09-24T06:24:47.590Z"
      },
      {
        "duration": 354,
        "start_time": "2023-09-24T06:24:47.889Z"
      },
      {
        "duration": 357,
        "start_time": "2023-09-24T06:24:48.245Z"
      },
      {
        "duration": 408,
        "start_time": "2023-09-24T06:24:48.604Z"
      },
      {
        "duration": 362,
        "start_time": "2023-09-24T06:24:49.014Z"
      },
      {
        "duration": 429,
        "start_time": "2023-09-24T06:24:49.380Z"
      },
      {
        "duration": 128,
        "start_time": "2023-09-24T06:24:49.811Z"
      },
      {
        "duration": 13,
        "start_time": "2023-09-24T06:24:49.941Z"
      },
      {
        "duration": 130,
        "start_time": "2023-09-24T06:24:49.959Z"
      },
      {
        "duration": 4,
        "start_time": "2023-09-24T06:24:50.091Z"
      },
      {
        "duration": 218,
        "start_time": "2023-09-24T06:24:50.096Z"
      },
      {
        "duration": 241,
        "start_time": "2023-09-24T06:24:50.315Z"
      },
      {
        "duration": 14,
        "start_time": "2023-09-24T06:24:50.567Z"
      },
      {
        "duration": 22,
        "start_time": "2023-09-24T06:24:50.583Z"
      },
      {
        "duration": 8,
        "start_time": "2023-09-24T06:24:50.606Z"
      },
      {
        "duration": 28,
        "start_time": "2023-09-24T06:24:50.616Z"
      },
      {
        "duration": 37,
        "start_time": "2023-09-24T06:24:50.645Z"
      },
      {
        "duration": 11,
        "start_time": "2023-09-24T07:10:25.725Z"
      },
      {
        "duration": 8,
        "start_time": "2023-09-24T07:47:42.583Z"
      },
      {
        "duration": 6,
        "start_time": "2023-09-24T07:47:52.708Z"
      },
      {
        "duration": 5,
        "start_time": "2023-09-24T07:47:59.288Z"
      },
      {
        "duration": 1207,
        "start_time": "2023-09-24T07:48:33.033Z"
      },
      {
        "duration": 63,
        "start_time": "2023-09-24T07:48:34.242Z"
      },
      {
        "duration": 42,
        "start_time": "2023-09-24T07:48:34.307Z"
      },
      {
        "duration": 33,
        "start_time": "2023-09-24T07:48:34.352Z"
      },
      {
        "duration": 17,
        "start_time": "2023-09-24T07:48:34.387Z"
      },
      {
        "duration": 10,
        "start_time": "2023-09-24T07:48:34.406Z"
      },
      {
        "duration": 8,
        "start_time": "2023-09-24T07:48:34.418Z"
      },
      {
        "duration": 7,
        "start_time": "2023-09-24T07:48:34.427Z"
      },
      {
        "duration": 36,
        "start_time": "2023-09-24T07:48:34.435Z"
      },
      {
        "duration": 25,
        "start_time": "2023-09-24T07:48:34.480Z"
      },
      {
        "duration": 5,
        "start_time": "2023-09-24T07:48:34.507Z"
      },
      {
        "duration": 14,
        "start_time": "2023-09-24T07:48:34.513Z"
      },
      {
        "duration": 6,
        "start_time": "2023-09-24T07:48:34.528Z"
      },
      {
        "duration": 39,
        "start_time": "2023-09-24T07:48:34.535Z"
      },
      {
        "duration": 26,
        "start_time": "2023-09-24T07:48:34.576Z"
      },
      {
        "duration": 319,
        "start_time": "2023-09-24T07:48:34.607Z"
      },
      {
        "duration": 372,
        "start_time": "2023-09-24T07:48:34.928Z"
      },
      {
        "duration": 287,
        "start_time": "2023-09-24T07:48:35.303Z"
      },
      {
        "duration": 361,
        "start_time": "2023-09-24T07:48:35.592Z"
      },
      {
        "duration": 318,
        "start_time": "2023-09-24T07:48:35.958Z"
      },
      {
        "duration": 358,
        "start_time": "2023-09-24T07:48:36.277Z"
      },
      {
        "duration": 150,
        "start_time": "2023-09-24T07:48:36.636Z"
      },
      {
        "duration": 5,
        "start_time": "2023-09-24T07:48:36.788Z"
      },
      {
        "duration": 141,
        "start_time": "2023-09-24T07:48:36.794Z"
      },
      {
        "duration": 4,
        "start_time": "2023-09-24T07:48:36.937Z"
      },
      {
        "duration": 242,
        "start_time": "2023-09-24T07:48:36.950Z"
      },
      {
        "duration": 286,
        "start_time": "2023-09-24T07:48:37.195Z"
      },
      {
        "duration": 7,
        "start_time": "2023-09-24T07:48:37.490Z"
      },
      {
        "duration": 12,
        "start_time": "2023-09-24T07:48:37.499Z"
      },
      {
        "duration": 13,
        "start_time": "2023-09-24T07:48:37.513Z"
      },
      {
        "duration": 10,
        "start_time": "2023-09-24T07:48:37.527Z"
      },
      {
        "duration": 28,
        "start_time": "2023-09-24T07:48:37.538Z"
      },
      {
        "duration": 330,
        "start_time": "2023-09-24T07:52:03.188Z"
      },
      {
        "duration": 340,
        "start_time": "2023-09-24T07:53:09.572Z"
      },
      {
        "duration": 216,
        "start_time": "2023-09-24T08:23:36.321Z"
      },
      {
        "duration": 268,
        "start_time": "2023-09-24T08:23:55.239Z"
      },
      {
        "duration": 277,
        "start_time": "2023-09-24T08:24:25.008Z"
      },
      {
        "duration": 262,
        "start_time": "2023-09-24T08:25:03.739Z"
      },
      {
        "duration": 323,
        "start_time": "2023-09-24T08:25:12.272Z"
      },
      {
        "duration": 367,
        "start_time": "2023-09-24T08:25:16.073Z"
      },
      {
        "duration": 322,
        "start_time": "2023-09-24T08:26:23.089Z"
      },
      {
        "duration": 297,
        "start_time": "2023-09-24T08:26:51.119Z"
      },
      {
        "duration": 335,
        "start_time": "2023-09-24T08:27:29.292Z"
      },
      {
        "duration": 154,
        "start_time": "2023-09-24T08:32:44.665Z"
      },
      {
        "duration": 319,
        "start_time": "2023-09-24T08:33:12.196Z"
      },
      {
        "duration": 1345,
        "start_time": "2023-09-24T08:47:23.396Z"
      },
      {
        "duration": 77,
        "start_time": "2023-09-24T08:47:24.743Z"
      },
      {
        "duration": 77,
        "start_time": "2023-09-24T08:47:24.822Z"
      },
      {
        "duration": 28,
        "start_time": "2023-09-24T08:47:24.902Z"
      },
      {
        "duration": 15,
        "start_time": "2023-09-24T08:47:24.931Z"
      },
      {
        "duration": 27,
        "start_time": "2023-09-24T08:47:24.948Z"
      },
      {
        "duration": 15,
        "start_time": "2023-09-24T08:47:24.981Z"
      },
      {
        "duration": 11,
        "start_time": "2023-09-24T08:47:25.004Z"
      },
      {
        "duration": 7,
        "start_time": "2023-09-24T08:47:25.020Z"
      },
      {
        "duration": 13,
        "start_time": "2023-09-24T08:47:25.032Z"
      },
      {
        "duration": 11,
        "start_time": "2023-09-24T08:47:25.047Z"
      },
      {
        "duration": 16,
        "start_time": "2023-09-24T08:47:25.059Z"
      },
      {
        "duration": 9,
        "start_time": "2023-09-24T08:47:25.077Z"
      },
      {
        "duration": 20,
        "start_time": "2023-09-24T08:47:25.087Z"
      },
      {
        "duration": 14,
        "start_time": "2023-09-24T08:47:25.109Z"
      },
      {
        "duration": 367,
        "start_time": "2023-09-24T08:47:25.125Z"
      },
      {
        "duration": 474,
        "start_time": "2023-09-24T08:47:25.497Z"
      },
      {
        "duration": 441,
        "start_time": "2023-09-24T08:47:25.972Z"
      },
      {
        "duration": 462,
        "start_time": "2023-09-24T08:47:26.420Z"
      },
      {
        "duration": 382,
        "start_time": "2023-09-24T08:47:26.888Z"
      },
      {
        "duration": 477,
        "start_time": "2023-09-24T08:47:27.275Z"
      },
      {
        "duration": 273,
        "start_time": "2023-09-24T08:47:27.765Z"
      },
      {
        "duration": 5,
        "start_time": "2023-09-24T08:47:28.040Z"
      },
      {
        "duration": 334,
        "start_time": "2023-09-24T08:47:28.059Z"
      },
      {
        "duration": 13,
        "start_time": "2023-09-24T08:47:28.395Z"
      },
      {
        "duration": 371,
        "start_time": "2023-09-24T08:47:28.417Z"
      },
      {
        "duration": 303,
        "start_time": "2023-09-24T08:47:28.794Z"
      },
      {
        "duration": 9,
        "start_time": "2023-09-24T08:47:29.105Z"
      },
      {
        "duration": 31,
        "start_time": "2023-09-24T08:47:29.119Z"
      },
      {
        "duration": 63,
        "start_time": "2023-09-24T08:47:29.153Z"
      },
      {
        "duration": 20,
        "start_time": "2023-09-24T08:47:29.222Z"
      },
      {
        "duration": 48,
        "start_time": "2023-09-24T08:47:29.245Z"
      },
      {
        "duration": 1614,
        "start_time": "2023-09-24T08:51:28.076Z"
      },
      {
        "duration": 71,
        "start_time": "2023-09-24T08:51:29.692Z"
      },
      {
        "duration": 86,
        "start_time": "2023-09-24T08:51:29.765Z"
      },
      {
        "duration": 42,
        "start_time": "2023-09-24T08:51:29.852Z"
      },
      {
        "duration": 26,
        "start_time": "2023-09-24T08:51:29.904Z"
      },
      {
        "duration": 14,
        "start_time": "2023-09-24T08:51:29.934Z"
      },
      {
        "duration": 7,
        "start_time": "2023-09-24T08:51:29.955Z"
      },
      {
        "duration": 8,
        "start_time": "2023-09-24T08:51:29.967Z"
      },
      {
        "duration": 14,
        "start_time": "2023-09-24T08:51:29.980Z"
      },
      {
        "duration": 17,
        "start_time": "2023-09-24T08:51:29.999Z"
      },
      {
        "duration": 65,
        "start_time": "2023-09-24T08:51:30.021Z"
      },
      {
        "duration": 48,
        "start_time": "2023-09-24T08:51:30.091Z"
      },
      {
        "duration": 37,
        "start_time": "2023-09-24T08:51:30.140Z"
      },
      {
        "duration": 25,
        "start_time": "2023-09-24T08:51:30.182Z"
      },
      {
        "duration": 29,
        "start_time": "2023-09-24T08:51:30.208Z"
      },
      {
        "duration": 420,
        "start_time": "2023-09-24T08:51:30.239Z"
      },
      {
        "duration": 584,
        "start_time": "2023-09-24T08:51:30.660Z"
      },
      {
        "duration": 461,
        "start_time": "2023-09-24T08:51:31.245Z"
      },
      {
        "duration": 535,
        "start_time": "2023-09-24T08:51:31.716Z"
      },
      {
        "duration": 537,
        "start_time": "2023-09-24T08:51:32.258Z"
      },
      {
        "duration": 446,
        "start_time": "2023-09-24T08:51:32.803Z"
      },
      {
        "duration": 278,
        "start_time": "2023-09-24T08:51:33.254Z"
      },
      {
        "duration": 7,
        "start_time": "2023-09-24T08:51:33.537Z"
      },
      {
        "duration": 376,
        "start_time": "2023-09-24T08:51:33.549Z"
      },
      {
        "duration": 5,
        "start_time": "2023-09-24T08:51:33.932Z"
      },
      {
        "duration": 345,
        "start_time": "2023-09-24T08:51:33.940Z"
      },
      {
        "duration": 442,
        "start_time": "2023-09-24T08:51:34.289Z"
      },
      {
        "duration": 13,
        "start_time": "2023-09-24T08:51:34.734Z"
      },
      {
        "duration": 27,
        "start_time": "2023-09-24T08:51:34.749Z"
      },
      {
        "duration": 29,
        "start_time": "2023-09-24T08:51:34.793Z"
      },
      {
        "duration": 32,
        "start_time": "2023-09-24T08:51:34.833Z"
      },
      {
        "duration": 28,
        "start_time": "2023-09-24T08:51:34.878Z"
      },
      {
        "duration": 8,
        "start_time": "2023-09-24T11:04:18.072Z"
      },
      {
        "duration": 9,
        "start_time": "2023-09-24T11:05:04.942Z"
      },
      {
        "duration": 1166,
        "start_time": "2023-09-24T11:11:28.045Z"
      },
      {
        "duration": 59,
        "start_time": "2023-09-24T11:11:29.214Z"
      },
      {
        "duration": 44,
        "start_time": "2023-09-24T11:11:29.275Z"
      },
      {
        "duration": 19,
        "start_time": "2023-09-24T11:11:29.321Z"
      },
      {
        "duration": 18,
        "start_time": "2023-09-24T11:11:29.341Z"
      },
      {
        "duration": 14,
        "start_time": "2023-09-24T11:11:29.365Z"
      },
      {
        "duration": 10,
        "start_time": "2023-09-24T11:11:29.380Z"
      },
      {
        "duration": 8,
        "start_time": "2023-09-24T11:11:29.391Z"
      },
      {
        "duration": 14,
        "start_time": "2023-09-24T11:11:29.401Z"
      },
      {
        "duration": 9,
        "start_time": "2023-09-24T11:11:29.417Z"
      },
      {
        "duration": 12,
        "start_time": "2023-09-24T11:11:29.427Z"
      },
      {
        "duration": 34,
        "start_time": "2023-09-24T11:11:29.440Z"
      },
      {
        "duration": 5,
        "start_time": "2023-09-24T11:11:29.478Z"
      },
      {
        "duration": 6,
        "start_time": "2023-09-24T11:11:29.485Z"
      },
      {
        "duration": 20,
        "start_time": "2023-09-24T11:11:29.492Z"
      },
      {
        "duration": 314,
        "start_time": "2023-09-24T11:11:29.514Z"
      },
      {
        "duration": 380,
        "start_time": "2023-09-24T11:11:29.830Z"
      },
      {
        "duration": 316,
        "start_time": "2023-09-24T11:11:30.212Z"
      },
      {
        "duration": 441,
        "start_time": "2023-09-24T11:11:30.530Z"
      },
      {
        "duration": 319,
        "start_time": "2023-09-24T11:11:30.973Z"
      },
      {
        "duration": 479,
        "start_time": "2023-09-24T11:11:31.294Z"
      },
      {
        "duration": 237,
        "start_time": "2023-09-24T11:11:31.775Z"
      },
      {
        "duration": 4,
        "start_time": "2023-09-24T11:11:32.014Z"
      },
      {
        "duration": 255,
        "start_time": "2023-09-24T11:11:32.020Z"
      },
      {
        "duration": 3,
        "start_time": "2023-09-24T11:11:32.277Z"
      },
      {
        "duration": 256,
        "start_time": "2023-09-24T11:11:32.283Z"
      },
      {
        "duration": 245,
        "start_time": "2023-09-24T11:11:32.541Z"
      },
      {
        "duration": 7,
        "start_time": "2023-09-24T11:11:32.788Z"
      },
      {
        "duration": 53,
        "start_time": "2023-09-24T11:11:32.796Z"
      },
      {
        "duration": 47,
        "start_time": "2023-09-24T11:11:32.850Z"
      },
      {
        "duration": 13,
        "start_time": "2023-09-24T11:11:32.899Z"
      },
      {
        "duration": 17,
        "start_time": "2023-09-24T11:11:32.913Z"
      },
      {
        "duration": 18,
        "start_time": "2023-09-24T11:13:03.368Z"
      },
      {
        "duration": 4,
        "start_time": "2023-09-24T12:31:25.093Z"
      },
      {
        "duration": 11,
        "start_time": "2023-09-24T12:31:40.370Z"
      },
      {
        "duration": 5,
        "start_time": "2023-09-24T12:32:01.980Z"
      },
      {
        "duration": 4,
        "start_time": "2023-09-24T12:34:51.199Z"
      },
      {
        "duration": 5,
        "start_time": "2023-09-24T12:40:30.543Z"
      },
      {
        "duration": 2518,
        "start_time": "2023-09-24T12:40:58.919Z"
      },
      {
        "duration": 5,
        "start_time": "2023-09-24T12:54:00.223Z"
      },
      {
        "duration": 23,
        "start_time": "2023-09-24T12:54:29.348Z"
      },
      {
        "duration": 1551,
        "start_time": "2023-09-24T13:26:36.198Z"
      },
      {
        "duration": 1666,
        "start_time": "2023-09-24T13:26:56.023Z"
      },
      {
        "duration": 5,
        "start_time": "2023-09-24T13:27:10.697Z"
      },
      {
        "duration": 83,
        "start_time": "2023-09-24T13:28:24.606Z"
      },
      {
        "duration": 91,
        "start_time": "2023-09-24T13:28:28.299Z"
      },
      {
        "duration": 4,
        "start_time": "2023-09-24T13:28:31.540Z"
      },
      {
        "duration": 5,
        "start_time": "2023-09-24T13:29:10.398Z"
      },
      {
        "duration": 6,
        "start_time": "2023-09-24T13:29:27.605Z"
      },
      {
        "duration": 4,
        "start_time": "2023-09-24T13:29:40.579Z"
      },
      {
        "duration": 5,
        "start_time": "2023-09-24T13:30:53.199Z"
      },
      {
        "duration": 19,
        "start_time": "2023-09-24T13:32:50.048Z"
      },
      {
        "duration": 1113,
        "start_time": "2023-09-24T13:32:58.978Z"
      },
      {
        "duration": 36,
        "start_time": "2023-09-24T13:33:00.093Z"
      },
      {
        "duration": 79,
        "start_time": "2023-09-24T13:33:00.131Z"
      },
      {
        "duration": 19,
        "start_time": "2023-09-24T13:33:00.213Z"
      },
      {
        "duration": 51,
        "start_time": "2023-09-24T13:33:00.234Z"
      },
      {
        "duration": 93,
        "start_time": "2023-09-24T13:33:00.287Z"
      },
      {
        "duration": 55,
        "start_time": "2023-09-24T13:33:00.383Z"
      },
      {
        "duration": 67,
        "start_time": "2023-09-24T13:33:00.440Z"
      },
      {
        "duration": 69,
        "start_time": "2023-09-24T13:33:00.509Z"
      },
      {
        "duration": 45,
        "start_time": "2023-09-24T13:33:00.585Z"
      },
      {
        "duration": 67,
        "start_time": "2023-09-24T13:33:00.632Z"
      },
      {
        "duration": 67,
        "start_time": "2023-09-24T13:33:00.701Z"
      },
      {
        "duration": 35,
        "start_time": "2023-09-24T13:33:00.770Z"
      },
      {
        "duration": 74,
        "start_time": "2023-09-24T13:33:00.807Z"
      },
      {
        "duration": 69,
        "start_time": "2023-09-24T13:33:00.883Z"
      },
      {
        "duration": 336,
        "start_time": "2023-09-24T13:33:00.954Z"
      },
      {
        "duration": 398,
        "start_time": "2023-09-24T13:33:01.292Z"
      },
      {
        "duration": 333,
        "start_time": "2023-09-24T13:33:01.691Z"
      },
      {
        "duration": 499,
        "start_time": "2023-09-24T13:33:02.027Z"
      },
      {
        "duration": 305,
        "start_time": "2023-09-24T13:33:02.528Z"
      },
      {
        "duration": 407,
        "start_time": "2023-09-24T13:33:02.835Z"
      },
      {
        "duration": 263,
        "start_time": "2023-09-24T13:33:03.249Z"
      },
      {
        "duration": 5,
        "start_time": "2023-09-24T13:33:03.513Z"
      },
      {
        "duration": 225,
        "start_time": "2023-09-24T13:33:03.520Z"
      },
      {
        "duration": 7,
        "start_time": "2023-09-24T13:33:03.759Z"
      },
      {
        "duration": 224,
        "start_time": "2023-09-24T13:33:03.768Z"
      },
      {
        "duration": 241,
        "start_time": "2023-09-24T13:33:03.993Z"
      },
      {
        "duration": 15,
        "start_time": "2023-09-24T13:33:04.237Z"
      },
      {
        "duration": 20,
        "start_time": "2023-09-24T13:33:04.259Z"
      },
      {
        "duration": 20,
        "start_time": "2023-09-24T13:33:04.285Z"
      },
      {
        "duration": 13,
        "start_time": "2023-09-24T13:33:04.308Z"
      },
      {
        "duration": 156,
        "start_time": "2023-09-24T13:33:04.323Z"
      },
      {
        "duration": 0,
        "start_time": "2023-09-24T13:33:04.487Z"
      },
      {
        "duration": 0,
        "start_time": "2023-09-24T13:33:04.488Z"
      },
      {
        "duration": 13,
        "start_time": "2023-09-24T13:33:35.029Z"
      },
      {
        "duration": 19,
        "start_time": "2023-09-24T13:33:44.664Z"
      },
      {
        "duration": 12,
        "start_time": "2023-09-24T13:33:58.104Z"
      },
      {
        "duration": 10,
        "start_time": "2023-09-24T13:34:05.584Z"
      },
      {
        "duration": 9,
        "start_time": "2023-09-24T13:34:09.684Z"
      },
      {
        "duration": 10,
        "start_time": "2023-09-24T13:35:02.697Z"
      },
      {
        "duration": 17,
        "start_time": "2023-09-24T13:35:41.964Z"
      },
      {
        "duration": 11,
        "start_time": "2023-09-24T14:08:59.275Z"
      },
      {
        "duration": 5,
        "start_time": "2023-09-24T14:09:58.991Z"
      },
      {
        "duration": 17,
        "start_time": "2023-09-24T14:10:38.944Z"
      },
      {
        "duration": 1094,
        "start_time": "2023-09-24T14:10:47.461Z"
      },
      {
        "duration": 36,
        "start_time": "2023-09-24T14:10:48.558Z"
      },
      {
        "duration": 41,
        "start_time": "2023-09-24T14:10:48.596Z"
      },
      {
        "duration": 28,
        "start_time": "2023-09-24T14:10:48.639Z"
      },
      {
        "duration": 14,
        "start_time": "2023-09-24T14:10:48.669Z"
      },
      {
        "duration": 8,
        "start_time": "2023-09-24T14:10:48.685Z"
      },
      {
        "duration": 26,
        "start_time": "2023-09-24T14:10:48.695Z"
      },
      {
        "duration": 13,
        "start_time": "2023-09-24T14:10:48.722Z"
      },
      {
        "duration": 5,
        "start_time": "2023-09-24T14:10:48.736Z"
      },
      {
        "duration": 13,
        "start_time": "2023-09-24T14:10:48.744Z"
      },
      {
        "duration": 15,
        "start_time": "2023-09-24T14:10:48.761Z"
      },
      {
        "duration": 28,
        "start_time": "2023-09-24T14:10:48.777Z"
      },
      {
        "duration": 15,
        "start_time": "2023-09-24T14:10:48.807Z"
      },
      {
        "duration": 12,
        "start_time": "2023-09-24T14:10:48.824Z"
      },
      {
        "duration": 27,
        "start_time": "2023-09-24T14:10:48.837Z"
      },
      {
        "duration": 278,
        "start_time": "2023-09-24T14:10:48.866Z"
      },
      {
        "duration": 339,
        "start_time": "2023-09-24T14:10:49.146Z"
      },
      {
        "duration": 298,
        "start_time": "2023-09-24T14:10:49.486Z"
      },
      {
        "duration": 331,
        "start_time": "2023-09-24T14:10:49.786Z"
      },
      {
        "duration": 268,
        "start_time": "2023-09-24T14:10:50.119Z"
      },
      {
        "duration": 355,
        "start_time": "2023-09-24T14:10:50.388Z"
      },
      {
        "duration": 199,
        "start_time": "2023-09-24T14:10:50.745Z"
      },
      {
        "duration": 16,
        "start_time": "2023-09-24T14:10:50.950Z"
      },
      {
        "duration": 202,
        "start_time": "2023-09-24T14:10:50.967Z"
      },
      {
        "duration": 4,
        "start_time": "2023-09-24T14:10:51.170Z"
      },
      {
        "duration": 218,
        "start_time": "2023-09-24T14:10:51.175Z"
      },
      {
        "duration": 217,
        "start_time": "2023-09-24T14:10:51.395Z"
      },
      {
        "duration": 6,
        "start_time": "2023-09-24T14:10:51.615Z"
      },
      {
        "duration": 40,
        "start_time": "2023-09-24T14:10:51.623Z"
      },
      {
        "duration": 26,
        "start_time": "2023-09-24T14:10:51.665Z"
      },
      {
        "duration": 11,
        "start_time": "2023-09-24T14:10:51.693Z"
      },
      {
        "duration": 13,
        "start_time": "2023-09-24T14:10:51.705Z"
      },
      {
        "duration": 27,
        "start_time": "2023-09-24T14:10:51.720Z"
      },
      {
        "duration": 38,
        "start_time": "2023-09-24T14:10:51.749Z"
      },
      {
        "duration": 1117,
        "start_time": "2023-09-25T07:33:26.595Z"
      },
      {
        "duration": 68,
        "start_time": "2023-09-25T07:33:27.714Z"
      },
      {
        "duration": 85,
        "start_time": "2023-09-25T07:33:27.784Z"
      },
      {
        "duration": 70,
        "start_time": "2023-09-25T07:33:27.871Z"
      },
      {
        "duration": 15,
        "start_time": "2023-09-25T07:33:27.942Z"
      },
      {
        "duration": 9,
        "start_time": "2023-09-25T07:33:27.958Z"
      },
      {
        "duration": 18,
        "start_time": "2023-09-25T07:33:27.969Z"
      },
      {
        "duration": 7,
        "start_time": "2023-09-25T07:33:27.989Z"
      },
      {
        "duration": 16,
        "start_time": "2023-09-25T07:33:27.998Z"
      },
      {
        "duration": 23,
        "start_time": "2023-09-25T07:33:28.016Z"
      },
      {
        "duration": 8,
        "start_time": "2023-09-25T07:33:28.041Z"
      },
      {
        "duration": 27,
        "start_time": "2023-09-25T07:33:28.051Z"
      },
      {
        "duration": 19,
        "start_time": "2023-09-25T07:33:28.081Z"
      },
      {
        "duration": 37,
        "start_time": "2023-09-25T07:33:28.102Z"
      },
      {
        "duration": 28,
        "start_time": "2023-09-25T07:33:28.142Z"
      },
      {
        "duration": 320,
        "start_time": "2023-09-25T07:33:28.172Z"
      },
      {
        "duration": 395,
        "start_time": "2023-09-25T07:33:28.494Z"
      },
      {
        "duration": 344,
        "start_time": "2023-09-25T07:33:28.890Z"
      },
      {
        "duration": 393,
        "start_time": "2023-09-25T07:33:29.236Z"
      },
      {
        "duration": 14,
        "start_time": "2023-09-25T07:33:35.989Z"
      },
      {
        "duration": 72,
        "start_time": "2023-09-25T20:29:25.790Z"
      },
      {
        "duration": 1341,
        "start_time": "2023-09-25T20:29:31.197Z"
      },
      {
        "duration": 69,
        "start_time": "2023-09-25T20:29:32.541Z"
      },
      {
        "duration": 150,
        "start_time": "2023-09-25T20:29:32.612Z"
      },
      {
        "duration": 55,
        "start_time": "2023-09-25T20:29:32.765Z"
      },
      {
        "duration": 23,
        "start_time": "2023-09-25T20:29:32.822Z"
      },
      {
        "duration": 32,
        "start_time": "2023-09-25T20:29:32.846Z"
      },
      {
        "duration": 42,
        "start_time": "2023-09-25T20:29:32.879Z"
      },
      {
        "duration": 21,
        "start_time": "2023-09-25T20:29:32.928Z"
      },
      {
        "duration": 22,
        "start_time": "2023-09-25T20:29:32.950Z"
      },
      {
        "duration": 33,
        "start_time": "2023-09-25T20:29:32.974Z"
      },
      {
        "duration": 51,
        "start_time": "2023-09-25T20:29:33.008Z"
      },
      {
        "duration": 41,
        "start_time": "2023-09-25T20:29:33.060Z"
      },
      {
        "duration": 32,
        "start_time": "2023-09-25T20:29:33.103Z"
      },
      {
        "duration": 127,
        "start_time": "2023-09-25T20:29:33.137Z"
      },
      {
        "duration": 0,
        "start_time": "2023-09-25T20:29:33.266Z"
      },
      {
        "duration": 0,
        "start_time": "2023-09-25T20:29:33.267Z"
      },
      {
        "duration": 0,
        "start_time": "2023-09-25T20:29:33.269Z"
      },
      {
        "duration": 0,
        "start_time": "2023-09-25T20:29:33.270Z"
      },
      {
        "duration": 0,
        "start_time": "2023-09-25T20:29:33.271Z"
      },
      {
        "duration": 0,
        "start_time": "2023-09-25T20:29:33.272Z"
      },
      {
        "duration": 0,
        "start_time": "2023-09-25T20:29:33.273Z"
      },
      {
        "duration": 0,
        "start_time": "2023-09-25T20:29:33.274Z"
      },
      {
        "duration": 0,
        "start_time": "2023-09-25T20:29:33.275Z"
      },
      {
        "duration": 0,
        "start_time": "2023-09-25T20:29:33.276Z"
      },
      {
        "duration": 0,
        "start_time": "2023-09-25T20:29:33.277Z"
      },
      {
        "duration": 0,
        "start_time": "2023-09-25T20:29:33.278Z"
      },
      {
        "duration": 0,
        "start_time": "2023-09-25T20:29:33.279Z"
      },
      {
        "duration": 0,
        "start_time": "2023-09-25T20:29:33.280Z"
      },
      {
        "duration": 0,
        "start_time": "2023-09-25T20:29:33.281Z"
      },
      {
        "duration": 0,
        "start_time": "2023-09-25T20:29:33.283Z"
      },
      {
        "duration": 0,
        "start_time": "2023-09-25T20:29:33.284Z"
      },
      {
        "duration": 0,
        "start_time": "2023-09-25T20:29:33.285Z"
      },
      {
        "duration": 0,
        "start_time": "2023-09-25T20:29:33.286Z"
      },
      {
        "duration": 0,
        "start_time": "2023-09-25T20:29:33.287Z"
      },
      {
        "duration": 0,
        "start_time": "2023-09-25T20:29:33.288Z"
      },
      {
        "duration": 0,
        "start_time": "2023-09-25T20:29:33.289Z"
      },
      {
        "duration": 51,
        "start_time": "2023-09-26T05:15:31.121Z"
      },
      {
        "duration": 1384,
        "start_time": "2023-09-26T05:15:37.235Z"
      },
      {
        "duration": 77,
        "start_time": "2023-09-26T05:15:38.621Z"
      },
      {
        "duration": 91,
        "start_time": "2023-09-26T05:15:38.700Z"
      },
      {
        "duration": 61,
        "start_time": "2023-09-26T05:15:38.794Z"
      },
      {
        "duration": 16,
        "start_time": "2023-09-26T05:15:38.857Z"
      },
      {
        "duration": 9,
        "start_time": "2023-09-26T05:15:38.875Z"
      },
      {
        "duration": 6,
        "start_time": "2023-09-26T05:15:38.885Z"
      },
      {
        "duration": 13,
        "start_time": "2023-09-26T05:15:38.893Z"
      },
      {
        "duration": 6,
        "start_time": "2023-09-26T05:15:38.908Z"
      },
      {
        "duration": 15,
        "start_time": "2023-09-26T05:15:38.916Z"
      },
      {
        "duration": 5,
        "start_time": "2023-09-26T05:15:38.932Z"
      },
      {
        "duration": 36,
        "start_time": "2023-09-26T05:15:38.939Z"
      },
      {
        "duration": 12,
        "start_time": "2023-09-26T05:15:38.977Z"
      },
      {
        "duration": 6,
        "start_time": "2023-09-26T05:15:38.990Z"
      },
      {
        "duration": 11,
        "start_time": "2023-09-26T05:15:38.998Z"
      },
      {
        "duration": 968,
        "start_time": "2023-09-26T05:15:39.011Z"
      },
      {
        "duration": 0,
        "start_time": "2023-09-26T05:15:39.981Z"
      },
      {
        "duration": 0,
        "start_time": "2023-09-26T05:15:39.983Z"
      },
      {
        "duration": 0,
        "start_time": "2023-09-26T05:15:39.984Z"
      },
      {
        "duration": 0,
        "start_time": "2023-09-26T05:15:39.986Z"
      },
      {
        "duration": 0,
        "start_time": "2023-09-26T05:15:39.987Z"
      },
      {
        "duration": 0,
        "start_time": "2023-09-26T05:15:39.988Z"
      },
      {
        "duration": 0,
        "start_time": "2023-09-26T05:15:39.990Z"
      },
      {
        "duration": 0,
        "start_time": "2023-09-26T05:15:39.991Z"
      },
      {
        "duration": 0,
        "start_time": "2023-09-26T05:15:39.992Z"
      },
      {
        "duration": 0,
        "start_time": "2023-09-26T05:15:39.994Z"
      },
      {
        "duration": 0,
        "start_time": "2023-09-26T05:15:39.995Z"
      },
      {
        "duration": 0,
        "start_time": "2023-09-26T05:15:39.997Z"
      },
      {
        "duration": 0,
        "start_time": "2023-09-26T05:15:39.998Z"
      },
      {
        "duration": 0,
        "start_time": "2023-09-26T05:15:39.999Z"
      },
      {
        "duration": 0,
        "start_time": "2023-09-26T05:15:40.000Z"
      },
      {
        "duration": 0,
        "start_time": "2023-09-26T05:15:40.001Z"
      },
      {
        "duration": 0,
        "start_time": "2023-09-26T05:15:40.002Z"
      },
      {
        "duration": 0,
        "start_time": "2023-09-26T05:15:40.003Z"
      },
      {
        "duration": 0,
        "start_time": "2023-09-26T05:15:40.004Z"
      },
      {
        "duration": 11,
        "start_time": "2023-09-26T05:16:59.862Z"
      },
      {
        "duration": 4,
        "start_time": "2023-09-26T05:17:40.612Z"
      },
      {
        "duration": 1147,
        "start_time": "2023-09-26T05:17:55.042Z"
      },
      {
        "duration": 40,
        "start_time": "2023-09-26T05:17:56.191Z"
      },
      {
        "duration": 44,
        "start_time": "2023-09-26T05:17:56.233Z"
      },
      {
        "duration": 21,
        "start_time": "2023-09-26T05:17:56.279Z"
      },
      {
        "duration": 15,
        "start_time": "2023-09-26T05:17:56.302Z"
      },
      {
        "duration": 10,
        "start_time": "2023-09-26T05:17:56.319Z"
      },
      {
        "duration": 15,
        "start_time": "2023-09-26T05:17:56.330Z"
      },
      {
        "duration": 11,
        "start_time": "2023-09-26T05:17:56.347Z"
      },
      {
        "duration": 15,
        "start_time": "2023-09-26T05:17:56.360Z"
      },
      {
        "duration": 15,
        "start_time": "2023-09-26T05:17:56.377Z"
      },
      {
        "duration": 17,
        "start_time": "2023-09-26T05:17:56.393Z"
      },
      {
        "duration": 21,
        "start_time": "2023-09-26T05:17:56.412Z"
      },
      {
        "duration": 29,
        "start_time": "2023-09-26T05:17:56.435Z"
      },
      {
        "duration": 20,
        "start_time": "2023-09-26T05:17:56.466Z"
      },
      {
        "duration": 23,
        "start_time": "2023-09-26T05:17:56.488Z"
      },
      {
        "duration": 18,
        "start_time": "2023-09-26T05:17:56.513Z"
      },
      {
        "duration": 25,
        "start_time": "2023-09-26T05:17:56.533Z"
      },
      {
        "duration": 300,
        "start_time": "2023-09-26T05:17:56.560Z"
      },
      {
        "duration": 385,
        "start_time": "2023-09-26T05:17:56.861Z"
      },
      {
        "duration": 363,
        "start_time": "2023-09-26T05:17:57.248Z"
      },
      {
        "duration": 387,
        "start_time": "2023-09-26T05:17:57.614Z"
      },
      {
        "duration": 12,
        "start_time": "2023-09-26T05:17:58.010Z"
      },
      {
        "duration": 323,
        "start_time": "2023-09-26T05:17:58.025Z"
      },
      {
        "duration": 417,
        "start_time": "2023-09-26T05:17:58.350Z"
      },
      {
        "duration": 242,
        "start_time": "2023-09-26T05:17:58.769Z"
      },
      {
        "duration": 5,
        "start_time": "2023-09-26T05:17:59.013Z"
      },
      {
        "duration": 236,
        "start_time": "2023-09-26T05:17:59.020Z"
      },
      {
        "duration": 4,
        "start_time": "2023-09-26T05:17:59.260Z"
      },
      {
        "duration": 249,
        "start_time": "2023-09-26T05:17:59.266Z"
      },
      {
        "duration": 252,
        "start_time": "2023-09-26T05:17:59.517Z"
      },
      {
        "duration": 27,
        "start_time": "2023-09-26T05:17:59.770Z"
      },
      {
        "duration": 19,
        "start_time": "2023-09-26T05:17:59.799Z"
      },
      {
        "duration": 21,
        "start_time": "2023-09-26T05:17:59.819Z"
      },
      {
        "duration": 36,
        "start_time": "2023-09-26T05:17:59.842Z"
      },
      {
        "duration": 6,
        "start_time": "2023-09-26T05:17:59.879Z"
      },
      {
        "duration": 15,
        "start_time": "2023-09-26T05:17:59.910Z"
      },
      {
        "duration": 10,
        "start_time": "2023-09-26T05:17:59.927Z"
      },
      {
        "duration": 481,
        "start_time": "2023-09-26T05:19:58.337Z"
      },
      {
        "duration": 8,
        "start_time": "2023-09-26T05:29:14.967Z"
      },
      {
        "duration": 9,
        "start_time": "2023-09-26T05:29:35.790Z"
      },
      {
        "duration": 16,
        "start_time": "2023-09-26T05:34:14.692Z"
      },
      {
        "duration": 1197,
        "start_time": "2023-09-26T05:50:39.204Z"
      },
      {
        "duration": 49,
        "start_time": "2023-09-26T05:50:40.404Z"
      },
      {
        "duration": 50,
        "start_time": "2023-09-26T05:50:40.455Z"
      },
      {
        "duration": 20,
        "start_time": "2023-09-26T05:50:40.507Z"
      },
      {
        "duration": 15,
        "start_time": "2023-09-26T05:50:40.529Z"
      },
      {
        "duration": 9,
        "start_time": "2023-09-26T05:50:40.546Z"
      },
      {
        "duration": 5,
        "start_time": "2023-09-26T05:50:40.558Z"
      },
      {
        "duration": 8,
        "start_time": "2023-09-26T05:50:40.565Z"
      },
      {
        "duration": 4,
        "start_time": "2023-09-26T05:50:40.575Z"
      },
      {
        "duration": 14,
        "start_time": "2023-09-26T05:50:40.609Z"
      },
      {
        "duration": 6,
        "start_time": "2023-09-26T05:50:40.625Z"
      },
      {
        "duration": 14,
        "start_time": "2023-09-26T05:50:40.634Z"
      },
      {
        "duration": 18,
        "start_time": "2023-09-26T05:50:40.651Z"
      },
      {
        "duration": 13,
        "start_time": "2023-09-26T05:50:40.671Z"
      },
      {
        "duration": 32,
        "start_time": "2023-09-26T05:50:40.686Z"
      },
      {
        "duration": 23,
        "start_time": "2023-09-26T05:50:40.720Z"
      },
      {
        "duration": 33,
        "start_time": "2023-09-26T05:50:40.745Z"
      },
      {
        "duration": 339,
        "start_time": "2023-09-26T05:50:40.781Z"
      },
      {
        "duration": 399,
        "start_time": "2023-09-26T05:50:41.122Z"
      },
      {
        "duration": 372,
        "start_time": "2023-09-26T05:50:41.523Z"
      },
      {
        "duration": 404,
        "start_time": "2023-09-26T05:50:41.898Z"
      },
      {
        "duration": 17,
        "start_time": "2023-09-26T05:50:42.304Z"
      },
      {
        "duration": 401,
        "start_time": "2023-09-26T05:50:42.323Z"
      },
      {
        "duration": 417,
        "start_time": "2023-09-26T05:50:42.726Z"
      },
      {
        "duration": 228,
        "start_time": "2023-09-26T05:50:43.145Z"
      },
      {
        "duration": 5,
        "start_time": "2023-09-26T05:50:43.375Z"
      },
      {
        "duration": 245,
        "start_time": "2023-09-26T05:50:43.382Z"
      },
      {
        "duration": 5,
        "start_time": "2023-09-26T05:50:43.630Z"
      },
      {
        "duration": 248,
        "start_time": "2023-09-26T05:50:43.636Z"
      },
      {
        "duration": 280,
        "start_time": "2023-09-26T05:50:43.886Z"
      },
      {
        "duration": 27,
        "start_time": "2023-09-26T05:50:44.168Z"
      },
      {
        "duration": 11,
        "start_time": "2023-09-26T05:50:44.210Z"
      },
      {
        "duration": 9,
        "start_time": "2023-09-26T05:50:44.222Z"
      },
      {
        "duration": 30,
        "start_time": "2023-09-26T05:50:44.233Z"
      },
      {
        "duration": 48,
        "start_time": "2023-09-26T05:50:44.265Z"
      },
      {
        "duration": 6,
        "start_time": "2023-09-26T05:50:44.315Z"
      },
      {
        "duration": 1329,
        "start_time": "2023-09-27T06:04:29.075Z"
      },
      {
        "duration": 76,
        "start_time": "2023-09-27T06:04:30.406Z"
      },
      {
        "duration": 92,
        "start_time": "2023-09-27T06:04:30.484Z"
      },
      {
        "duration": 59,
        "start_time": "2023-09-27T06:04:30.578Z"
      },
      {
        "duration": 15,
        "start_time": "2023-09-27T06:04:30.639Z"
      },
      {
        "duration": 22,
        "start_time": "2023-09-27T06:04:30.656Z"
      },
      {
        "duration": 60,
        "start_time": "2023-09-27T06:04:30.680Z"
      },
      {
        "duration": 32,
        "start_time": "2023-09-27T06:04:30.742Z"
      },
      {
        "duration": 54,
        "start_time": "2023-09-27T06:04:30.776Z"
      },
      {
        "duration": 33,
        "start_time": "2023-09-27T06:04:30.832Z"
      },
      {
        "duration": 34,
        "start_time": "2023-09-27T06:04:30.867Z"
      },
      {
        "duration": 39,
        "start_time": "2023-09-27T06:04:30.903Z"
      },
      {
        "duration": 53,
        "start_time": "2023-09-27T06:04:30.943Z"
      },
      {
        "duration": 32,
        "start_time": "2023-09-27T06:04:30.998Z"
      },
      {
        "duration": 38,
        "start_time": "2023-09-27T06:04:31.032Z"
      },
      {
        "duration": 36,
        "start_time": "2023-09-27T06:04:31.072Z"
      },
      {
        "duration": 36,
        "start_time": "2023-09-27T06:04:31.109Z"
      },
      {
        "duration": 28,
        "start_time": "2023-09-27T06:04:31.147Z"
      },
      {
        "duration": 33,
        "start_time": "2023-09-27T06:04:31.177Z"
      },
      {
        "duration": 393,
        "start_time": "2023-09-27T06:04:31.212Z"
      },
      {
        "duration": 388,
        "start_time": "2023-09-27T06:04:31.610Z"
      },
      {
        "duration": 367,
        "start_time": "2023-09-27T06:04:32.000Z"
      },
      {
        "duration": 477,
        "start_time": "2023-09-27T06:04:32.370Z"
      },
      {
        "duration": 12,
        "start_time": "2023-09-27T06:04:32.848Z"
      },
      {
        "duration": 324,
        "start_time": "2023-09-27T06:04:32.861Z"
      },
      {
        "duration": 440,
        "start_time": "2023-09-27T06:04:33.187Z"
      },
      {
        "duration": 231,
        "start_time": "2023-09-27T06:04:33.628Z"
      },
      {
        "duration": 4,
        "start_time": "2023-09-27T06:04:33.863Z"
      },
      {
        "duration": 231,
        "start_time": "2023-09-27T06:04:33.869Z"
      },
      {
        "duration": 10,
        "start_time": "2023-09-27T06:04:34.101Z"
      },
      {
        "duration": 239,
        "start_time": "2023-09-27T06:04:34.113Z"
      },
      {
        "duration": 249,
        "start_time": "2023-09-27T06:04:34.353Z"
      },
      {
        "duration": 30,
        "start_time": "2023-09-27T06:04:34.604Z"
      },
      {
        "duration": 15,
        "start_time": "2023-09-27T06:04:34.636Z"
      },
      {
        "duration": 11,
        "start_time": "2023-09-27T06:04:34.653Z"
      },
      {
        "duration": 51,
        "start_time": "2023-09-27T06:04:34.666Z"
      },
      {
        "duration": 14,
        "start_time": "2023-09-27T06:04:34.719Z"
      },
      {
        "duration": 7,
        "start_time": "2023-09-27T06:04:34.735Z"
      },
      {
        "duration": 1183,
        "start_time": "2023-09-27T06:05:06.793Z"
      },
      {
        "duration": 38,
        "start_time": "2023-09-27T06:05:07.978Z"
      },
      {
        "duration": 44,
        "start_time": "2023-09-27T06:05:08.017Z"
      },
      {
        "duration": 22,
        "start_time": "2023-09-27T06:05:08.063Z"
      },
      {
        "duration": 15,
        "start_time": "2023-09-27T06:05:08.087Z"
      },
      {
        "duration": 25,
        "start_time": "2023-09-27T06:05:08.104Z"
      },
      {
        "duration": 52,
        "start_time": "2023-09-27T06:05:08.130Z"
      },
      {
        "duration": 19,
        "start_time": "2023-09-27T06:05:08.184Z"
      },
      {
        "duration": 19,
        "start_time": "2023-09-27T06:05:08.204Z"
      },
      {
        "duration": 16,
        "start_time": "2023-09-27T06:05:08.226Z"
      },
      {
        "duration": 12,
        "start_time": "2023-09-27T06:05:08.244Z"
      },
      {
        "duration": 34,
        "start_time": "2023-09-27T06:05:08.257Z"
      },
      {
        "duration": 22,
        "start_time": "2023-09-27T06:05:08.293Z"
      },
      {
        "duration": 16,
        "start_time": "2023-09-27T06:05:08.317Z"
      },
      {
        "duration": 5,
        "start_time": "2023-09-27T06:05:08.335Z"
      },
      {
        "duration": 47,
        "start_time": "2023-09-27T06:05:08.341Z"
      },
      {
        "duration": 28,
        "start_time": "2023-09-27T06:05:08.389Z"
      },
      {
        "duration": 55,
        "start_time": "2023-09-27T06:05:08.419Z"
      },
      {
        "duration": 32,
        "start_time": "2023-09-27T06:05:08.475Z"
      },
      {
        "duration": 325,
        "start_time": "2023-09-27T06:05:08.508Z"
      },
      {
        "duration": 399,
        "start_time": "2023-09-27T06:05:08.835Z"
      },
      {
        "duration": 335,
        "start_time": "2023-09-27T06:05:09.236Z"
      },
      {
        "duration": 411,
        "start_time": "2023-09-27T06:05:09.573Z"
      },
      {
        "duration": 24,
        "start_time": "2023-09-27T06:05:09.986Z"
      },
      {
        "duration": 325,
        "start_time": "2023-09-27T06:05:10.012Z"
      },
      {
        "duration": 399,
        "start_time": "2023-09-27T06:05:10.338Z"
      },
      {
        "duration": 238,
        "start_time": "2023-09-27T06:05:10.739Z"
      },
      {
        "duration": 5,
        "start_time": "2023-09-27T06:05:10.980Z"
      },
      {
        "duration": 235,
        "start_time": "2023-09-27T06:05:10.987Z"
      },
      {
        "duration": 5,
        "start_time": "2023-09-27T06:05:11.223Z"
      },
      {
        "duration": 233,
        "start_time": "2023-09-27T06:05:11.229Z"
      },
      {
        "duration": 283,
        "start_time": "2023-09-27T06:05:11.463Z"
      },
      {
        "duration": 27,
        "start_time": "2023-09-27T06:05:11.748Z"
      },
      {
        "duration": 12,
        "start_time": "2023-09-27T06:05:11.777Z"
      },
      {
        "duration": 10,
        "start_time": "2023-09-27T06:05:11.810Z"
      },
      {
        "duration": 31,
        "start_time": "2023-09-27T06:05:11.823Z"
      },
      {
        "duration": 15,
        "start_time": "2023-09-27T06:05:11.856Z"
      },
      {
        "duration": 38,
        "start_time": "2023-09-27T06:05:11.873Z"
      }
    ],
    "kernelspec": {
      "display_name": "Python 3 (ipykernel)",
      "language": "python",
      "name": "python3"
    },
    "language_info": {
      "codemirror_mode": {
        "name": "ipython",
        "version": 3
      },
      "file_extension": ".py",
      "mimetype": "text/x-python",
      "name": "python",
      "nbconvert_exporter": "python",
      "pygments_lexer": "ipython3",
      "version": "3.9.5"
    },
    "toc": {
      "base_numbering": 1,
      "nav_menu": {},
      "number_sections": true,
      "sideBar": true,
      "skip_h1_title": true,
      "title_cell": "Table of Contents",
      "title_sidebar": "Contents",
      "toc_cell": false,
      "toc_position": {},
      "toc_section_display": true,
      "toc_window_display": false
    },
    "colab": {
      "provenance": []
    }
  },
  "nbformat": 4,
  "nbformat_minor": 0
}