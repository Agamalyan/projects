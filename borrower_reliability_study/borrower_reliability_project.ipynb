{
 "cells": [
  {
   "cell_type": "markdown",
   "id": "c81daeeb",
   "metadata": {
    "deletable": false,
    "editable": false,
    "id": "c81daeeb"
   },
   "source": [
    "# Исследование надежности заемщиков"
   ]
  },
  {
   "cell_type": "markdown",
   "id": "-G3EJWzf62s6",
   "metadata": {
    "deletable": false,
    "editable": false,
    "id": "-G3EJWzf62s6"
   },
   "source": [
    "Это первая часть проекта, она будет проверена автоматически. Вторую часть проверит ревьюер. "
   ]
  },
  {
   "cell_type": "markdown",
   "id": "744d7639",
   "metadata": {
    "deletable": false,
    "editable": false,
    "id": "744d7639"
   },
   "source": [
    "## Откройте таблицу и изучите общую информацию о данных"
   ]
  },
  {
   "cell_type": "markdown",
   "id": "e7a14c31",
   "metadata": {
    "deletable": false,
    "editable": false,
    "id": "e7a14c31",
    "tags": [
     "start_task"
    ]
   },
   "source": [
    "**Задание 1. Импортируйте библиотеку pandas. Считайте данные из csv-файла в датафрейм и сохраните в переменную `data`. Путь к файлу:**\n",
    "\n",
    "`/datasets/data.csv`"
   ]
  },
  {
   "cell_type": "code",
   "execution_count": 1,
   "id": "7bcf75c9",
   "metadata": {
    "id": "7bcf75c9"
   },
   "outputs": [],
   "source": [
    "# импортируйте библиотеку pandas\n",
    "import pandas as pd"
   ]
  },
  {
   "cell_type": "code",
   "execution_count": 2,
   "id": "4d240ee2",
   "metadata": {
    "id": "4d240ee2"
   },
   "outputs": [],
   "source": [
    "# прочитайте csv-файл\n",
    "data = pd.read_csv('/datasets/data.csv')"
   ]
  },
  {
   "cell_type": "markdown",
   "id": "b8038fe3",
   "metadata": {
    "deletable": false,
    "editable": false,
    "id": "b8038fe3",
    "tags": [
     "start_task"
    ]
   },
   "source": [
    "**Задание 2. Выведите первые 20 строчек датафрейма `data` на экран.**"
   ]
  },
  {
   "cell_type": "code",
   "execution_count": 3,
   "id": "2a7cab99",
   "metadata": {
    "id": "2a7cab99"
   },
   "outputs": [
    {
     "name": "stdout",
     "output_type": "stream",
     "text": [
      "    children  days_employed  dob_years            education  education_id  \\\n",
      "0          1   -8437.673028         42               высшее             0   \n",
      "1          1   -4024.803754         36              среднее             1   \n",
      "2          0   -5623.422610         33              Среднее             1   \n",
      "3          3   -4124.747207         32              среднее             1   \n",
      "4          0  340266.072047         53              среднее             1   \n",
      "5          0    -926.185831         27               высшее             0   \n",
      "6          0   -2879.202052         43               высшее             0   \n",
      "7          0    -152.779569         50              СРЕДНЕЕ             1   \n",
      "8          2   -6929.865299         35               ВЫСШЕЕ             0   \n",
      "9          0   -2188.756445         41              среднее             1   \n",
      "10         2   -4171.483647         36               высшее             0   \n",
      "11         0    -792.701887         40              среднее             1   \n",
      "12         0            NaN         65              среднее             1   \n",
      "13         0   -1846.641941         54  неоконченное высшее             2   \n",
      "14         0   -1844.956182         56               высшее             0   \n",
      "15         1    -972.364419         26              среднее             1   \n",
      "16         0   -1719.934226         35              среднее             1   \n",
      "17         0   -2369.999720         33               высшее             0   \n",
      "18         0  400281.136913         53              среднее             1   \n",
      "19         0  -10038.818549         48              СРЕДНЕЕ             1   \n",
      "\n",
      "       family_status  family_status_id gender income_type  debt  \\\n",
      "0    женат / замужем                 0      F   сотрудник     0   \n",
      "1    женат / замужем                 0      F   сотрудник     0   \n",
      "2    женат / замужем                 0      M   сотрудник     0   \n",
      "3    женат / замужем                 0      M   сотрудник     0   \n",
      "4   гражданский брак                 1      F   пенсионер     0   \n",
      "5   гражданский брак                 1      M   компаньон     0   \n",
      "6    женат / замужем                 0      F   компаньон     0   \n",
      "7    женат / замужем                 0      M   сотрудник     0   \n",
      "8   гражданский брак                 1      F   сотрудник     0   \n",
      "9    женат / замужем                 0      M   сотрудник     0   \n",
      "10   женат / замужем                 0      M   компаньон     0   \n",
      "11   женат / замужем                 0      F   сотрудник     0   \n",
      "12  гражданский брак                 1      M   пенсионер     0   \n",
      "13   женат / замужем                 0      F   сотрудник     0   \n",
      "14  гражданский брак                 1      F   компаньон     1   \n",
      "15   женат / замужем                 0      F   сотрудник     0   \n",
      "16   женат / замужем                 0      F   сотрудник     0   \n",
      "17  гражданский брак                 1      M   сотрудник     0   \n",
      "18    вдовец / вдова                 2      F   пенсионер     0   \n",
      "19         в разводе                 3      F   сотрудник     0   \n",
      "\n",
      "     total_income                                 purpose  \n",
      "0   253875.639453                           покупка жилья  \n",
      "1   112080.014102                 приобретение автомобиля  \n",
      "2   145885.952297                           покупка жилья  \n",
      "3   267628.550329              дополнительное образование  \n",
      "4   158616.077870                         сыграть свадьбу  \n",
      "5   255763.565419                           покупка жилья  \n",
      "6   240525.971920                       операции с жильем  \n",
      "7   135823.934197                             образование  \n",
      "8    95856.832424                   на проведение свадьбы  \n",
      "9   144425.938277                 покупка жилья для семьи  \n",
      "10  113943.491460                    покупка недвижимости  \n",
      "11   77069.234271       покупка коммерческой недвижимости  \n",
      "12            NaN                         сыграть свадьбу  \n",
      "13  130458.228857                 приобретение автомобиля  \n",
      "14  165127.911772              покупка жилой недвижимости  \n",
      "15  116820.904450  строительство собственной недвижимости  \n",
      "16  289202.704229                            недвижимость  \n",
      "17   90410.586745              строительство недвижимости  \n",
      "18   56823.777243      на покупку подержанного автомобиля  \n",
      "19  242831.107982            на покупку своего автомобиля  \n"
     ]
    }
   ],
   "source": [
    "# ваш код здесь\n",
    "print(data.head(20))"
   ]
  },
  {
   "cell_type": "markdown",
   "id": "1c12e233",
   "metadata": {
    "deletable": false,
    "editable": false,
    "id": "1c12e233",
    "tags": [
     "start_task"
    ]
   },
   "source": [
    "**Задание 3. Выведите основную информацию о датафрейме с помощью метода `info()`.**"
   ]
  },
  {
   "cell_type": "code",
   "execution_count": 4,
   "id": "2b757bca",
   "metadata": {
    "id": "2b757bca"
   },
   "outputs": [
    {
     "name": "stdout",
     "output_type": "stream",
     "text": [
      "<class 'pandas.core.frame.DataFrame'>\n",
      "RangeIndex: 21525 entries, 0 to 21524\n",
      "Data columns (total 12 columns):\n",
      " #   Column            Non-Null Count  Dtype  \n",
      "---  ------            --------------  -----  \n",
      " 0   children          21525 non-null  int64  \n",
      " 1   days_employed     19351 non-null  float64\n",
      " 2   dob_years         21525 non-null  int64  \n",
      " 3   education         21525 non-null  object \n",
      " 4   education_id      21525 non-null  int64  \n",
      " 5   family_status     21525 non-null  object \n",
      " 6   family_status_id  21525 non-null  int64  \n",
      " 7   gender            21525 non-null  object \n",
      " 8   income_type       21525 non-null  object \n",
      " 9   debt              21525 non-null  int64  \n",
      " 10  total_income      19351 non-null  float64\n",
      " 11  purpose           21525 non-null  object \n",
      "dtypes: float64(2), int64(5), object(5)\n",
      "memory usage: 2.0+ MB\n"
     ]
    }
   ],
   "source": [
    "# ваш код здесь\n",
    "data.info()"
   ]
  },
  {
   "cell_type": "markdown",
   "id": "333ec665",
   "metadata": {
    "deletable": false,
    "editable": false,
    "id": "333ec665"
   },
   "source": [
    "## Предобработка данных"
   ]
  },
  {
   "cell_type": "markdown",
   "id": "02d92d53",
   "metadata": {
    "deletable": false,
    "editable": false,
    "id": "02d92d53"
   },
   "source": [
    "### Удаление пропусков"
   ]
  },
  {
   "cell_type": "markdown",
   "id": "cd84967c",
   "metadata": {
    "deletable": false,
    "editable": false,
    "id": "cd84967c",
    "tags": [
     "start_task"
    ]
   },
   "source": [
    "**Задание 4. Выведите количество пропущенных значений для каждого столбца. Используйте комбинацию двух методов.**"
   ]
  },
  {
   "cell_type": "code",
   "execution_count": 5,
   "id": "7f9b2309",
   "metadata": {
    "id": "7f9b2309"
   },
   "outputs": [
    {
     "data": {
      "text/plain": [
       "children               0\n",
       "days_employed       2174\n",
       "dob_years              0\n",
       "education              0\n",
       "education_id           0\n",
       "family_status          0\n",
       "family_status_id       0\n",
       "gender                 0\n",
       "income_type            0\n",
       "debt                   0\n",
       "total_income        2174\n",
       "purpose                0\n",
       "dtype: int64"
      ]
     },
     "execution_count": 5,
     "metadata": {},
     "output_type": "execute_result"
    }
   ],
   "source": [
    "# ваш код здесь\n",
    "data.isna().sum()"
   ]
  },
  {
   "cell_type": "markdown",
   "id": "db86e27b",
   "metadata": {
    "deletable": false,
    "editable": false,
    "id": "db86e27b",
    "tags": [
     "start_task"
    ]
   },
   "source": [
    "**Задание 5. В двух столбцах есть пропущенные значения. Один из них — `days_employed`. Пропуски в этом столбце вы обработаете на следующем этапе. Другой столбец с пропущенными значениями — `total_income` — хранит данные о доходах. На сумму дохода сильнее всего влияет тип занятости, поэтому заполнить пропуски в этом столбце нужно медианным значением по каждому типу из столбца `income_type`. Например, у человека с типом занятости `сотрудник` пропуск в столбце `total_income` должен быть заполнен медианным доходом среди всех записей с тем же типом.**"
   ]
  },
  {
   "cell_type": "code",
   "execution_count": 6,
   "id": "42006a93",
   "metadata": {
    "id": "42006a93"
   },
   "outputs": [],
   "source": [
    "# ваш код здесь\n",
    "for value in data['income_type'].unique():\n",
    "    data.loc[(data['income_type'] == value) & (data['total_income'].isna()), 'total_income'] = \\\n",
    "    data.loc[(data['income_type'] == value), 'total_income'].median()"
   ]
  },
  {
   "cell_type": "code",
   "execution_count": null,
   "id": "7cf08923",
   "metadata": {},
   "outputs": [],
   "source": []
  },
  {
   "cell_type": "markdown",
   "id": "89da5ece",
   "metadata": {
    "deletable": false,
    "editable": false,
    "id": "89da5ece"
   },
   "source": [
    "### Обработка аномальных значений"
   ]
  },
  {
   "cell_type": "markdown",
   "id": "57964554",
   "metadata": {
    "deletable": false,
    "editable": false,
    "id": "57964554",
    "tags": [
     "start_task"
    ]
   },
   "source": [
    "**Задание 6. В данных могут встречаться артефакты (аномалии) — значения, которые не отражают действительность и появились по какой-то ошибке. Таким артефактом будет отрицательное количество дней трудового стажа в столбце `days_employed`. Для реальных данных это нормально. Обработайте значения в этом столбце: замените все отрицательные значения положительными с помощью метода `abs()`.**"
   ]
  },
  {
   "cell_type": "code",
   "execution_count": 7,
   "id": "f6f055bf",
   "metadata": {
    "id": "f6f055bf"
   },
   "outputs": [],
   "source": [
    "# ваш код здесь\n",
    "data['days_employed'] = data['days_employed'].abs()"
   ]
  },
  {
   "cell_type": "markdown",
   "id": "6107dd2f",
   "metadata": {
    "deletable": false,
    "editable": false,
    "id": "6107dd2f",
    "tags": [
     "start_task"
    ]
   },
   "source": [
    "**Задание 7. Для каждого типа занятости выведите медианное значение трудового стажа `days_employed` в днях.**"
   ]
  },
  {
   "cell_type": "code",
   "execution_count": 8,
   "id": "85a5faf6",
   "metadata": {
    "id": "85a5faf6"
   },
   "outputs": [
    {
     "name": "stdout",
     "output_type": "stream",
     "text": [
      "income_type\n",
      "безработный        366413.652744\n",
      "в декрете            3296.759962\n",
      "госслужащий          2689.368353\n",
      "компаньон            1547.382223\n",
      "пенсионер          365213.306266\n",
      "предприниматель       520.848083\n",
      "сотрудник            1574.202821\n",
      "студент               578.751554\n",
      "Name: days_employed, dtype: float64\n"
     ]
    }
   ],
   "source": [
    "# ваш код здесь\n",
    "\n",
    "print(data.groupby('income_type')['days_employed'].median())"
   ]
  },
  {
   "cell_type": "markdown",
   "id": "38d1a030",
   "metadata": {
    "deletable": false,
    "editable": false,
    "id": "38d1a030"
   },
   "source": [
    "У двух типов (безработные и пенсионеры) получатся аномально большие значения. Исправить такие значения сложно, поэтому оставьте их как есть. Тем более этот столбец не понадобится вам для исследования."
   ]
  },
  {
   "cell_type": "markdown",
   "id": "d8a9f147",
   "metadata": {
    "deletable": false,
    "editable": false,
    "id": "d8a9f147",
    "tags": [
     "start_task"
    ]
   },
   "source": [
    "**Задание 8. Выведите перечень уникальных значений столбца `children`.**"
   ]
  },
  {
   "cell_type": "code",
   "execution_count": 9,
   "id": "ef5056eb",
   "metadata": {
    "id": "ef5056eb"
   },
   "outputs": [
    {
     "data": {
      "text/plain": [
       "array([ 1,  0,  3,  2, -1,  4, 20,  5])"
      ]
     },
     "execution_count": 9,
     "metadata": {},
     "output_type": "execute_result"
    }
   ],
   "source": [
    "# ваш код здесь\n",
    "data['children'].unique()"
   ]
  },
  {
   "cell_type": "markdown",
   "id": "40b9ebf2",
   "metadata": {
    "deletable": false,
    "editable": false,
    "id": "40b9ebf2",
    "tags": [
     "start_task"
    ]
   },
   "source": [
    "**Задание 9. В столбце `children` есть два аномальных значения. Удалите строки, в которых встречаются такие аномальные значения из датафрейма `data`.**"
   ]
  },
  {
   "cell_type": "code",
   "execution_count": 10,
   "id": "3ff9801d",
   "metadata": {
    "id": "3ff9801d"
   },
   "outputs": [],
   "source": [
    "# ваш код здесь\n",
    "data = data.loc[(data['children'] >= 0) & (data['children'] != 20)]\n"
   ]
  },
  {
   "cell_type": "markdown",
   "id": "bbc4d0ce",
   "metadata": {
    "deletable": false,
    "editable": false,
    "id": "bbc4d0ce",
    "tags": [
     "start_task"
    ]
   },
   "source": [
    "**Задание 10. Ещё раз выведите перечень уникальных значений столбца `children`, чтобы убедиться, что артефакты удалены.**"
   ]
  },
  {
   "cell_type": "code",
   "execution_count": 11,
   "id": "ad4fa8b7",
   "metadata": {
    "id": "ad4fa8b7"
   },
   "outputs": [
    {
     "data": {
      "text/plain": [
       "array([1, 0, 3, 2, 4, 5])"
      ]
     },
     "execution_count": 11,
     "metadata": {},
     "output_type": "execute_result"
    }
   ],
   "source": [
    "# ваш код здесь\n",
    "data['children'].unique()"
   ]
  },
  {
   "cell_type": "markdown",
   "id": "75440b63",
   "metadata": {
    "deletable": false,
    "editable": false,
    "id": "75440b63"
   },
   "source": [
    "### Удаление пропусков (продолжение)"
   ]
  },
  {
   "cell_type": "markdown",
   "id": "f4ea573f",
   "metadata": {
    "deletable": false,
    "editable": false,
    "id": "f4ea573f",
    "tags": [
     "start_task"
    ]
   },
   "source": [
    "**Задание 11. Заполните пропуски в столбце `days_employed` медианными значениями по каждому типу занятости `income_type`.**"
   ]
  },
  {
   "cell_type": "code",
   "execution_count": 12,
   "id": "af6b1a7e",
   "metadata": {
    "id": "af6b1a7e"
   },
   "outputs": [],
   "source": [
    "# ваш код здесь\n",
    "for value in data['income_type'].unique():\n",
    "    data.loc[(data['income_type'] == value) & (data['days_employed'].isna()), 'days_employed'] = \\\n",
    "    data.loc[(data['income_type'] == value), 'days_employed'].median()"
   ]
  },
  {
   "cell_type": "markdown",
   "id": "2753f40d",
   "metadata": {
    "deletable": false,
    "editable": false,
    "id": "2753f40d",
    "tags": [
     "start_task"
    ]
   },
   "source": [
    "**Задание 12. Убедитесь, что все пропуски заполнены. Проверьте себя и ещё раз выведите количество пропущенных значений для каждого столбца с помощью двух методов.**"
   ]
  },
  {
   "cell_type": "code",
   "execution_count": 13,
   "id": "55f78bc2",
   "metadata": {
    "id": "55f78bc2"
   },
   "outputs": [
    {
     "data": {
      "text/plain": [
       "children            0\n",
       "days_employed       0\n",
       "dob_years           0\n",
       "education           0\n",
       "education_id        0\n",
       "family_status       0\n",
       "family_status_id    0\n",
       "gender              0\n",
       "income_type         0\n",
       "debt                0\n",
       "total_income        0\n",
       "purpose             0\n",
       "dtype: int64"
      ]
     },
     "execution_count": 13,
     "metadata": {},
     "output_type": "execute_result"
    }
   ],
   "source": [
    "# ваш код здесь\n",
    "data.isna().sum()"
   ]
  },
  {
   "cell_type": "markdown",
   "id": "ddc81e43",
   "metadata": {
    "deletable": false,
    "editable": false,
    "id": "ddc81e43"
   },
   "source": [
    "### Изменение типов данных"
   ]
  },
  {
   "cell_type": "markdown",
   "id": "42d19d24",
   "metadata": {
    "deletable": false,
    "editable": false,
    "id": "42d19d24",
    "tags": [
     "start_task"
    ]
   },
   "source": [
    "**Задание 13. Замените вещественный тип данных в столбце `total_income` на целочисленный с помощью метода `astype()`.**"
   ]
  },
  {
   "cell_type": "code",
   "execution_count": 14,
   "id": "920b65ad",
   "metadata": {
    "id": "920b65ad"
   },
   "outputs": [],
   "source": [
    "# ваш код здесь\n",
    "data['total_income'] = data['total_income'].astype('int')"
   ]
  },
  {
   "cell_type": "markdown",
   "id": "80c420ba",
   "metadata": {
    "deletable": false,
    "editable": false,
    "id": "80c420ba"
   },
   "source": [
    "### Обработка дубликатов"
   ]
  },
  {
   "cell_type": "markdown",
   "id": "dc587695",
   "metadata": {
    "deletable": false,
    "editable": false,
    "id": "dc587695",
    "tags": [
     "start_task"
    ]
   },
   "source": [
    "**Задание 14. Обработайте неявные дубликаты в столбце `education`. В этом столбце есть одни и те же значения, но записанные по-разному: с использованием заглавных и строчных букв. Приведите их к нижнему регистру.**"
   ]
  },
  {
   "cell_type": "code",
   "execution_count": 15,
   "id": "a9f8e2bf",
   "metadata": {
    "id": "a9f8e2bf"
   },
   "outputs": [],
   "source": [
    "# ваш код здесь\n",
    "data['education'] = data['education'].str.lower()"
   ]
  },
  {
   "cell_type": "code",
   "execution_count": null,
   "id": "b73820cd",
   "metadata": {},
   "outputs": [],
   "source": []
  },
  {
   "cell_type": "markdown",
   "id": "9771a76c",
   "metadata": {
    "deletable": false,
    "editable": false,
    "id": "9771a76c",
    "tags": [
     "start_task"
    ]
   },
   "source": [
    "**Задание 15. Выведите на экран количество строк-дубликатов в данных. Если такие строки присутствуют, удалите их. Сбрасывать индексы после удаления строк дубликатов с помощью `reset_index(drop=True)` здесь не требуется.**"
   ]
  },
  {
   "cell_type": "code",
   "execution_count": 16,
   "id": "3ee445e4",
   "metadata": {
    "id": "3ee445e4"
   },
   "outputs": [
    {
     "data": {
      "text/plain": [
       "71"
      ]
     },
     "execution_count": 16,
     "metadata": {},
     "output_type": "execute_result"
    }
   ],
   "source": [
    "# посчитайте дубликаты\n",
    "data.duplicated().sum()"
   ]
  },
  {
   "cell_type": "code",
   "execution_count": 17,
   "id": "8575fe05",
   "metadata": {
    "id": "8575fe05"
   },
   "outputs": [],
   "source": [
    "# удалите дубликаты\n",
    "data = data.drop_duplicates()"
   ]
  },
  {
   "cell_type": "markdown",
   "id": "9904cf55",
   "metadata": {
    "deletable": false,
    "editable": false,
    "id": "9904cf55"
   },
   "source": [
    "### Категоризация данных"
   ]
  },
  {
   "cell_type": "markdown",
   "id": "72fcc8a2",
   "metadata": {
    "deletable": false,
    "editable": false,
    "id": "72fcc8a2",
    "tags": [
     "start_task"
    ]
   },
   "source": [
    "**Задание 16. На основании диапазонов, указанных ниже, создайте в датафрейме `data` столбец `total_income_category` с категориями:**\n",
    "\n",
    "- 0–30000 — `'E'`;\n",
    "- 30001–50000 — `'D'`;\n",
    "- 50001–200000 — `'C'`;\n",
    "- 200001–1000000 — `'B'`;\n",
    "- 1000001 и выше — `'A'`.\n",
    "\n",
    "\n",
    "**Например, кредитополучателю с доходом 25000 нужно назначить категорию `'E'`, а клиенту, получающему 235000, — `'B'`. Используйте собственную функцию с именем `categorize_income()` и метод `apply()`.**"
   ]
  },
  {
   "cell_type": "code",
   "execution_count": 21,
   "id": "e1771346",
   "metadata": {
    "id": "e1771346"
   },
   "outputs": [],
   "source": [
    "# создайте функцию categorize_income()\n",
    "def categorize_income(total_income):\n",
    "    if 0 <= total_income <= 30000:\n",
    "        return 'E'\n",
    "    elif 30001 <= total_income <= 50000:\n",
    "        return 'D'\n",
    "    elif 50001 <= total_income <= 200000:\n",
    "        return 'C'\n",
    "    elif 200001 <= total_income <= 1000000:\n",
    "        return 'B'\n",
    "    else:\n",
    "        return 'A'"
   ]
  },
  {
   "cell_type": "code",
   "execution_count": 23,
   "id": "d5f3586d",
   "metadata": {
    "id": "d5f3586d"
   },
   "outputs": [],
   "source": [
    "# примените функцию методом apply()\n",
    "data['total_income_category'] = data['total_income'].apply(categorize_income)"
   ]
  },
  {
   "cell_type": "markdown",
   "id": "dde49b5c",
   "metadata": {
    "deletable": false,
    "editable": false,
    "id": "dde49b5c",
    "tags": [
     "start_task"
    ]
   },
   "source": [
    "**Задание 17. Выведите на экран перечень уникальных целей взятия кредита из столбца `purpose`.**"
   ]
  },
  {
   "cell_type": "code",
   "execution_count": 24,
   "id": "f67ce9b3",
   "metadata": {
    "id": "f67ce9b3"
   },
   "outputs": [
    {
     "data": {
      "text/plain": [
       "array(['покупка жилья', 'приобретение автомобиля',\n",
       "       'дополнительное образование', 'сыграть свадьбу',\n",
       "       'операции с жильем', 'образование', 'на проведение свадьбы',\n",
       "       'покупка жилья для семьи', 'покупка недвижимости',\n",
       "       'покупка коммерческой недвижимости', 'покупка жилой недвижимости',\n",
       "       'строительство собственной недвижимости', 'недвижимость',\n",
       "       'строительство недвижимости', 'на покупку подержанного автомобиля',\n",
       "       'на покупку своего автомобиля',\n",
       "       'операции с коммерческой недвижимостью',\n",
       "       'строительство жилой недвижимости', 'жилье',\n",
       "       'операции со своей недвижимостью', 'автомобили',\n",
       "       'заняться образованием', 'сделка с подержанным автомобилем',\n",
       "       'получение образования', 'автомобиль', 'свадьба',\n",
       "       'получение дополнительного образования', 'покупка своего жилья',\n",
       "       'операции с недвижимостью', 'получение высшего образования',\n",
       "       'свой автомобиль', 'сделка с автомобилем',\n",
       "       'профильное образование', 'высшее образование',\n",
       "       'покупка жилья для сдачи', 'на покупку автомобиля', 'ремонт жилью',\n",
       "       'заняться высшим образованием'], dtype=object)"
      ]
     },
     "execution_count": 24,
     "metadata": {},
     "output_type": "execute_result"
    }
   ],
   "source": [
    "# ваш код здесь\n",
    "data['purpose'].unique()"
   ]
  },
  {
   "cell_type": "markdown",
   "id": "85d0aef0",
   "metadata": {
    "deletable": false,
    "editable": false,
    "id": "85d0aef0",
    "tags": [
     "start_task"
    ]
   },
   "source": [
    "**Задание 18. Создайте функцию, которая на основании данных из столбца `purpose` сформирует новый столбец `purpose_category`, в который войдут следующие категории:**\n",
    "\n",
    "- `'операции с автомобилем'`,\n",
    "- `'операции с недвижимостью'`,\n",
    "- `'проведение свадьбы'`,\n",
    "- `'получение образования'`.\n",
    "\n",
    "**Например, если в столбце `purpose` находится подстрока `'на покупку автомобиля'`, то в столбце `purpose_category` должна появиться строка `'операции с автомобилем'`.**\n",
    "\n",
    "**Используйте собственную функцию с именем `categorize_purpose()` и метод `apply()`. Изучите данные в столбце `purpose` и определите, какие подстроки помогут вам правильно определить категорию.**"
   ]
  },
  {
   "cell_type": "code",
   "execution_count": 65,
   "id": "e149fab4",
   "metadata": {
    "id": "e149fab4"
   },
   "outputs": [],
   "source": [
    "# создайте функцию categorize_purpose()\n",
    "def categorize_purpose(purpose):\n",
    "    if purpose.find('жил') >= 0 or purpose.find('недвиж') >= 0:\n",
    "        return 'операции с недвижимостью'\n",
    "    elif purpose.find('автомобил') >= 0:\n",
    "        return 'операции с автомобилем'\n",
    "    elif purpose.find('образов') >= 0:\n",
    "        return 'получение образования'\n",
    "    elif purpose.find('свадьб') >= 0:\n",
    "        return 'проведение свадьбы'"
   ]
  },
  {
   "cell_type": "code",
   "execution_count": 66,
   "id": "bf36e69b",
   "metadata": {
    "id": "bf36e69b"
   },
   "outputs": [
    {
     "data": {
      "text/html": [
       "<div>\n",
       "<style scoped>\n",
       "    .dataframe tbody tr th:only-of-type {\n",
       "        vertical-align: middle;\n",
       "    }\n",
       "\n",
       "    .dataframe tbody tr th {\n",
       "        vertical-align: top;\n",
       "    }\n",
       "\n",
       "    .dataframe thead th {\n",
       "        text-align: right;\n",
       "    }\n",
       "</style>\n",
       "<table border=\"1\" class=\"dataframe\">\n",
       "  <thead>\n",
       "    <tr style=\"text-align: right;\">\n",
       "      <th></th>\n",
       "      <th>children</th>\n",
       "      <th>days_employed</th>\n",
       "      <th>dob_years</th>\n",
       "      <th>education</th>\n",
       "      <th>education_id</th>\n",
       "      <th>family_status</th>\n",
       "      <th>family_status_id</th>\n",
       "      <th>gender</th>\n",
       "      <th>income_type</th>\n",
       "      <th>debt</th>\n",
       "      <th>total_income</th>\n",
       "      <th>purpose</th>\n",
       "      <th>total_income_category</th>\n",
       "      <th>purpose_category</th>\n",
       "    </tr>\n",
       "  </thead>\n",
       "  <tbody>\n",
       "  </tbody>\n",
       "</table>\n",
       "</div>"
      ],
      "text/plain": [
       "Empty DataFrame\n",
       "Columns: [children, days_employed, dob_years, education, education_id, family_status, family_status_id, gender, income_type, debt, total_income, purpose, total_income_category, purpose_category]\n",
       "Index: []"
      ]
     },
     "execution_count": 66,
     "metadata": {},
     "output_type": "execute_result"
    }
   ],
   "source": [
    "# примените функцию методом apply()\n",
    "data['purpose_category'] = data['purpose'].apply(categorize_purpose)\n",
    "data.loc[data['purpose_category'].isna()]"
   ]
  },
  {
   "cell_type": "code",
   "execution_count": null,
   "id": "83f392a5",
   "metadata": {},
   "outputs": [],
   "source": []
  }
 ],
 "metadata": {
  "ExecuteTimeLog": [
   {
    "duration": 64,
    "start_time": "2022-12-01T15:57:02.523Z"
   },
   {
    "duration": 381,
    "start_time": "2022-12-01T15:57:07.074Z"
   },
   {
    "duration": 350,
    "start_time": "2022-12-01T15:57:07.549Z"
   },
   {
    "duration": 11,
    "start_time": "2022-12-01T15:57:08.825Z"
   },
   {
    "duration": 15,
    "start_time": "2022-12-01T15:57:57.199Z"
   },
   {
    "duration": 35,
    "start_time": "2022-12-01T15:59:31.806Z"
   },
   {
    "duration": 11,
    "start_time": "2022-12-01T15:59:43.642Z"
   },
   {
    "duration": 467,
    "start_time": "2022-12-01T16:12:10.612Z"
   },
   {
    "duration": 86,
    "start_time": "2022-12-01T16:12:11.081Z"
   },
   {
    "duration": 11,
    "start_time": "2022-12-01T16:12:11.170Z"
   },
   {
    "duration": 32,
    "start_time": "2022-12-01T16:12:11.184Z"
   },
   {
    "duration": 33,
    "start_time": "2022-12-01T16:12:11.220Z"
   },
   {
    "duration": 14,
    "start_time": "2022-12-01T16:12:11.256Z"
   },
   {
    "duration": 22,
    "start_time": "2022-12-01T16:12:11.273Z"
   },
   {
    "duration": 10,
    "start_time": "2022-12-01T16:12:11.297Z"
   },
   {
    "duration": 10,
    "start_time": "2022-12-01T16:12:11.309Z"
   },
   {
    "duration": 8,
    "start_time": "2022-12-01T16:12:11.321Z"
   },
   {
    "duration": 20,
    "start_time": "2022-12-01T16:12:11.330Z"
   },
   {
    "duration": 15,
    "start_time": "2022-12-01T16:12:11.352Z"
   },
   {
    "duration": 9,
    "start_time": "2022-12-01T16:12:11.369Z"
   },
   {
    "duration": 9,
    "start_time": "2022-12-01T16:12:11.381Z"
   },
   {
    "duration": 11,
    "start_time": "2022-12-01T16:12:11.391Z"
   },
   {
    "duration": 15,
    "start_time": "2022-12-01T16:12:11.404Z"
   },
   {
    "duration": 8,
    "start_time": "2022-12-01T16:12:11.421Z"
   },
   {
    "duration": 11,
    "start_time": "2022-12-01T16:12:11.431Z"
   },
   {
    "duration": 13,
    "start_time": "2022-12-01T16:12:11.444Z"
   },
   {
    "duration": 13,
    "start_time": "2022-12-01T16:12:11.460Z"
   },
   {
    "duration": 20,
    "start_time": "2022-12-01T16:12:11.475Z"
   },
   {
    "duration": 11,
    "start_time": "2022-12-01T16:12:11.497Z"
   },
   {
    "duration": 13,
    "start_time": "2022-12-01T16:13:38.977Z"
   },
   {
    "duration": 13,
    "start_time": "2022-12-01T16:33:13.365Z"
   },
   {
    "duration": 8,
    "start_time": "2022-12-01T16:33:19.812Z"
   },
   {
    "duration": 136,
    "start_time": "2022-12-01T16:44:44.128Z"
   },
   {
    "duration": 57,
    "start_time": "2022-12-01T16:46:21.761Z"
   },
   {
    "duration": 317,
    "start_time": "2022-12-01T16:46:46.557Z"
   },
   {
    "duration": 448,
    "start_time": "2022-12-01T16:47:02.326Z"
   },
   {
    "duration": 91,
    "start_time": "2022-12-01T16:47:02.777Z"
   },
   {
    "duration": 11,
    "start_time": "2022-12-01T16:47:02.869Z"
   },
   {
    "duration": 16,
    "start_time": "2022-12-01T16:47:02.882Z"
   },
   {
    "duration": 14,
    "start_time": "2022-12-01T16:47:02.899Z"
   },
   {
    "duration": 309,
    "start_time": "2022-12-01T16:47:02.936Z"
   },
   {
    "duration": 0,
    "start_time": "2022-12-01T16:47:03.249Z"
   },
   {
    "duration": 0,
    "start_time": "2022-12-01T16:47:03.251Z"
   },
   {
    "duration": 0,
    "start_time": "2022-12-01T16:47:03.252Z"
   },
   {
    "duration": 0,
    "start_time": "2022-12-01T16:47:03.254Z"
   },
   {
    "duration": 0,
    "start_time": "2022-12-01T16:47:03.256Z"
   },
   {
    "duration": 0,
    "start_time": "2022-12-01T16:47:03.258Z"
   },
   {
    "duration": 0,
    "start_time": "2022-12-01T16:47:03.259Z"
   },
   {
    "duration": 0,
    "start_time": "2022-12-01T16:47:03.261Z"
   },
   {
    "duration": 0,
    "start_time": "2022-12-01T16:47:03.263Z"
   },
   {
    "duration": 0,
    "start_time": "2022-12-01T16:47:03.265Z"
   },
   {
    "duration": 0,
    "start_time": "2022-12-01T16:47:03.267Z"
   },
   {
    "duration": 0,
    "start_time": "2022-12-01T16:47:03.270Z"
   },
   {
    "duration": 0,
    "start_time": "2022-12-01T16:47:03.272Z"
   },
   {
    "duration": 0,
    "start_time": "2022-12-01T16:47:03.274Z"
   },
   {
    "duration": 0,
    "start_time": "2022-12-01T16:47:03.277Z"
   },
   {
    "duration": 0,
    "start_time": "2022-12-01T16:47:03.278Z"
   },
   {
    "duration": 20,
    "start_time": "2022-12-01T16:50:50.963Z"
   },
   {
    "duration": 422,
    "start_time": "2022-12-01T16:50:59.324Z"
   },
   {
    "duration": 78,
    "start_time": "2022-12-01T16:50:59.748Z"
   },
   {
    "duration": 42,
    "start_time": "2022-12-01T16:50:59.828Z"
   },
   {
    "duration": 18,
    "start_time": "2022-12-01T16:50:59.873Z"
   },
   {
    "duration": 28,
    "start_time": "2022-12-01T16:50:59.893Z"
   },
   {
    "duration": 90,
    "start_time": "2022-12-01T16:50:59.923Z"
   },
   {
    "duration": 0,
    "start_time": "2022-12-01T16:51:00.016Z"
   },
   {
    "duration": 0,
    "start_time": "2022-12-01T16:51:00.017Z"
   },
   {
    "duration": 0,
    "start_time": "2022-12-01T16:51:00.019Z"
   },
   {
    "duration": 0,
    "start_time": "2022-12-01T16:51:00.020Z"
   },
   {
    "duration": 0,
    "start_time": "2022-12-01T16:51:00.021Z"
   },
   {
    "duration": 0,
    "start_time": "2022-12-01T16:51:00.039Z"
   },
   {
    "duration": 0,
    "start_time": "2022-12-01T16:51:00.041Z"
   },
   {
    "duration": 0,
    "start_time": "2022-12-01T16:51:00.043Z"
   },
   {
    "duration": 0,
    "start_time": "2022-12-01T16:51:00.044Z"
   },
   {
    "duration": 0,
    "start_time": "2022-12-01T16:51:00.044Z"
   },
   {
    "duration": 0,
    "start_time": "2022-12-01T16:51:00.045Z"
   },
   {
    "duration": 0,
    "start_time": "2022-12-01T16:51:00.046Z"
   },
   {
    "duration": 0,
    "start_time": "2022-12-01T16:51:00.046Z"
   },
   {
    "duration": 0,
    "start_time": "2022-12-01T16:51:00.047Z"
   },
   {
    "duration": 0,
    "start_time": "2022-12-01T16:51:00.051Z"
   },
   {
    "duration": 0,
    "start_time": "2022-12-01T16:51:00.054Z"
   },
   {
    "duration": 6,
    "start_time": "2022-12-01T16:51:42.717Z"
   },
   {
    "duration": 19,
    "start_time": "2022-12-01T16:51:59.614Z"
   },
   {
    "duration": 6,
    "start_time": "2022-12-01T16:53:01.609Z"
   },
   {
    "duration": 70,
    "start_time": "2022-12-01T16:53:14.108Z"
   },
   {
    "duration": 34,
    "start_time": "2022-12-01T16:53:56.563Z"
   },
   {
    "duration": 33,
    "start_time": "2022-12-01T16:53:59.764Z"
   },
   {
    "duration": 3,
    "start_time": "2022-12-01T16:54:13.654Z"
   },
   {
    "duration": 78,
    "start_time": "2022-12-01T16:54:14.111Z"
   },
   {
    "duration": 8,
    "start_time": "2022-12-01T16:54:15.421Z"
   },
   {
    "duration": 16,
    "start_time": "2022-12-01T16:54:16.983Z"
   },
   {
    "duration": 11,
    "start_time": "2022-12-01T16:54:19.507Z"
   },
   {
    "duration": 41,
    "start_time": "2022-12-01T16:54:21.259Z"
   },
   {
    "duration": 92,
    "start_time": "2022-12-01T16:55:27.084Z"
   },
   {
    "duration": 70,
    "start_time": "2022-12-01T16:55:34.592Z"
   },
   {
    "duration": 71,
    "start_time": "2022-12-01T16:56:36.762Z"
   },
   {
    "duration": 45,
    "start_time": "2022-12-01T16:56:49.734Z"
   },
   {
    "duration": 13,
    "start_time": "2022-12-01T17:01:45.863Z"
   },
   {
    "duration": 10,
    "start_time": "2022-12-01T17:01:59.485Z"
   },
   {
    "duration": 10,
    "start_time": "2022-12-01T17:03:44.104Z"
   },
   {
    "duration": 16,
    "start_time": "2022-12-01T17:04:59.165Z"
   },
   {
    "duration": 21,
    "start_time": "2022-12-01T17:05:22.641Z"
   },
   {
    "duration": 22,
    "start_time": "2022-12-01T17:05:34.193Z"
   },
   {
    "duration": 10,
    "start_time": "2022-12-01T17:05:51.710Z"
   },
   {
    "duration": 8,
    "start_time": "2022-12-01T17:06:14.735Z"
   },
   {
    "duration": 6,
    "start_time": "2022-12-01T17:06:19.336Z"
   },
   {
    "duration": 10,
    "start_time": "2022-12-01T17:10:43.511Z"
   },
   {
    "duration": 32,
    "start_time": "2022-12-01T17:10:49.160Z"
   },
   {
    "duration": 28,
    "start_time": "2022-12-01T17:11:07.339Z"
   },
   {
    "duration": 12,
    "start_time": "2022-12-01T17:11:35.638Z"
   },
   {
    "duration": 10,
    "start_time": "2022-12-01T17:11:39.811Z"
   },
   {
    "duration": 5,
    "start_time": "2022-12-01T17:13:21.287Z"
   },
   {
    "duration": 47,
    "start_time": "2022-12-03T16:10:42.928Z"
   },
   {
    "duration": 397,
    "start_time": "2022-12-03T16:10:53.016Z"
   },
   {
    "duration": 282,
    "start_time": "2022-12-03T16:10:53.415Z"
   },
   {
    "duration": 11,
    "start_time": "2022-12-03T16:10:53.698Z"
   },
   {
    "duration": 18,
    "start_time": "2022-12-03T16:10:53.711Z"
   },
   {
    "duration": 14,
    "start_time": "2022-12-03T16:10:53.731Z"
   },
   {
    "duration": 58,
    "start_time": "2022-12-03T16:10:53.746Z"
   },
   {
    "duration": 4,
    "start_time": "2022-12-03T16:10:53.805Z"
   },
   {
    "duration": 11,
    "start_time": "2022-12-03T16:10:53.810Z"
   },
   {
    "duration": 5,
    "start_time": "2022-12-03T16:10:53.822Z"
   },
   {
    "duration": 28,
    "start_time": "2022-12-03T16:10:53.829Z"
   },
   {
    "duration": 2,
    "start_time": "2022-12-03T16:10:53.859Z"
   },
   {
    "duration": 6,
    "start_time": "2022-12-03T16:10:53.862Z"
   },
   {
    "duration": 3,
    "start_time": "2022-12-03T16:10:53.896Z"
   },
   {
    "duration": 8,
    "start_time": "2022-12-03T16:10:53.902Z"
   },
   {
    "duration": 9,
    "start_time": "2022-12-03T16:10:53.912Z"
   },
   {
    "duration": 5,
    "start_time": "2022-12-03T16:10:53.923Z"
   },
   {
    "duration": 6,
    "start_time": "2022-12-03T16:10:53.930Z"
   },
   {
    "duration": 12,
    "start_time": "2022-12-03T16:10:53.938Z"
   },
   {
    "duration": 11,
    "start_time": "2022-12-03T16:10:53.952Z"
   },
   {
    "duration": 5,
    "start_time": "2022-12-03T16:10:53.965Z"
   },
   {
    "duration": 10,
    "start_time": "2022-12-03T16:10:53.971Z"
   },
   {
    "duration": 4,
    "start_time": "2022-12-03T16:10:53.983Z"
   },
   {
    "duration": 7,
    "start_time": "2022-12-03T16:13:34.086Z"
   },
   {
    "duration": 5,
    "start_time": "2022-12-03T16:13:37.374Z"
   },
   {
    "duration": 5,
    "start_time": "2022-12-03T16:15:44.692Z"
   },
   {
    "duration": 374,
    "start_time": "2022-12-03T16:44:23.228Z"
   },
   {
    "duration": 70,
    "start_time": "2022-12-03T16:44:23.604Z"
   },
   {
    "duration": 10,
    "start_time": "2022-12-03T16:44:23.676Z"
   },
   {
    "duration": 16,
    "start_time": "2022-12-03T16:44:23.689Z"
   },
   {
    "duration": 15,
    "start_time": "2022-12-03T16:44:23.707Z"
   },
   {
    "duration": 36,
    "start_time": "2022-12-03T16:44:23.724Z"
   },
   {
    "duration": 4,
    "start_time": "2022-12-03T16:44:23.762Z"
   },
   {
    "duration": 33,
    "start_time": "2022-12-03T16:44:23.767Z"
   },
   {
    "duration": 4,
    "start_time": "2022-12-03T16:44:23.801Z"
   },
   {
    "duration": 6,
    "start_time": "2022-12-03T16:44:23.808Z"
   },
   {
    "duration": 2,
    "start_time": "2022-12-03T16:44:23.816Z"
   },
   {
    "duration": 5,
    "start_time": "2022-12-03T16:44:23.820Z"
   },
   {
    "duration": 5,
    "start_time": "2022-12-03T16:44:23.826Z"
   },
   {
    "duration": 5,
    "start_time": "2022-12-03T16:44:23.832Z"
   },
   {
    "duration": 5,
    "start_time": "2022-12-03T16:44:23.838Z"
   },
   {
    "duration": 5,
    "start_time": "2022-12-03T16:44:23.845Z"
   },
   {
    "duration": 6,
    "start_time": "2022-12-03T16:44:23.852Z"
   },
   {
    "duration": 6,
    "start_time": "2022-12-03T16:44:23.859Z"
   },
   {
    "duration": 30,
    "start_time": "2022-12-03T16:44:23.867Z"
   },
   {
    "duration": 7,
    "start_time": "2022-12-03T16:44:23.900Z"
   },
   {
    "duration": 4,
    "start_time": "2022-12-03T16:44:23.909Z"
   },
   {
    "duration": 5,
    "start_time": "2022-12-03T16:44:23.915Z"
   },
   {
    "duration": 6,
    "start_time": "2022-12-03T16:44:52.371Z"
   },
   {
    "duration": 5,
    "start_time": "2022-12-03T16:45:17.496Z"
   },
   {
    "duration": 17,
    "start_time": "2022-12-03T16:48:23.580Z"
   },
   {
    "duration": 7,
    "start_time": "2022-12-03T16:51:56.925Z"
   },
   {
    "duration": 6,
    "start_time": "2022-12-03T16:52:23.222Z"
   },
   {
    "duration": 62,
    "start_time": "2022-12-03T16:54:29.651Z"
   },
   {
    "duration": 8,
    "start_time": "2022-12-03T16:54:34.349Z"
   },
   {
    "duration": 8,
    "start_time": "2022-12-03T16:54:37.574Z"
   },
   {
    "duration": 3,
    "start_time": "2022-12-03T16:57:46.274Z"
   },
   {
    "duration": 3,
    "start_time": "2022-12-03T16:58:34.299Z"
   },
   {
    "duration": 13,
    "start_time": "2022-12-03T16:59:02.351Z"
   },
   {
    "duration": 14,
    "start_time": "2022-12-03T16:59:07.874Z"
   },
   {
    "duration": 13,
    "start_time": "2022-12-03T16:59:12.274Z"
   },
   {
    "duration": 4,
    "start_time": "2022-12-03T16:59:31.325Z"
   },
   {
    "duration": 9,
    "start_time": "2022-12-03T17:10:09.261Z"
   },
   {
    "duration": 377,
    "start_time": "2022-12-03T17:10:41.958Z"
   },
   {
    "duration": 71,
    "start_time": "2022-12-03T17:10:42.337Z"
   },
   {
    "duration": 11,
    "start_time": "2022-12-03T17:10:42.410Z"
   },
   {
    "duration": 15,
    "start_time": "2022-12-03T17:10:42.424Z"
   },
   {
    "duration": 15,
    "start_time": "2022-12-03T17:10:42.441Z"
   },
   {
    "duration": 57,
    "start_time": "2022-12-03T17:10:42.458Z"
   },
   {
    "duration": 3,
    "start_time": "2022-12-03T17:10:42.517Z"
   },
   {
    "duration": 12,
    "start_time": "2022-12-03T17:10:42.522Z"
   },
   {
    "duration": 4,
    "start_time": "2022-12-03T17:10:42.535Z"
   },
   {
    "duration": 7,
    "start_time": "2022-12-03T17:10:42.541Z"
   },
   {
    "duration": 4,
    "start_time": "2022-12-03T17:10:42.550Z"
   },
   {
    "duration": 56,
    "start_time": "2022-12-03T17:10:42.555Z"
   },
   {
    "duration": 9,
    "start_time": "2022-12-03T17:10:42.613Z"
   },
   {
    "duration": 3,
    "start_time": "2022-12-03T17:10:42.624Z"
   },
   {
    "duration": 13,
    "start_time": "2022-12-03T17:10:42.629Z"
   },
   {
    "duration": 4,
    "start_time": "2022-12-03T17:10:42.644Z"
   },
   {
    "duration": 5,
    "start_time": "2022-12-03T17:10:42.650Z"
   },
   {
    "duration": 6,
    "start_time": "2022-12-03T17:10:42.656Z"
   },
   {
    "duration": 5,
    "start_time": "2022-12-03T17:10:42.663Z"
   },
   {
    "duration": 28,
    "start_time": "2022-12-03T17:10:42.669Z"
   },
   {
    "duration": 6,
    "start_time": "2022-12-03T17:10:42.699Z"
   },
   {
    "duration": 8,
    "start_time": "2022-12-03T17:10:42.706Z"
   },
   {
    "duration": 10,
    "start_time": "2022-12-03T17:10:58.724Z"
   },
   {
    "duration": 67,
    "start_time": "2022-12-03T17:11:34.276Z"
   },
   {
    "duration": 19,
    "start_time": "2022-12-03T17:12:29.153Z"
   },
   {
    "duration": 33,
    "start_time": "2022-12-03T17:12:52.428Z"
   },
   {
    "duration": 20,
    "start_time": "2022-12-03T17:13:11.336Z"
   },
   {
    "duration": 5,
    "start_time": "2022-12-03T17:17:43.615Z"
   },
   {
    "duration": 403,
    "start_time": "2022-12-03T17:19:19.401Z"
   },
   {
    "duration": 69,
    "start_time": "2022-12-03T17:19:19.806Z"
   },
   {
    "duration": 9,
    "start_time": "2022-12-03T17:19:19.877Z"
   },
   {
    "duration": 50,
    "start_time": "2022-12-03T17:19:19.888Z"
   },
   {
    "duration": 26,
    "start_time": "2022-12-03T17:19:19.940Z"
   },
   {
    "duration": 49,
    "start_time": "2022-12-03T17:19:19.968Z"
   },
   {
    "duration": 11,
    "start_time": "2022-12-03T17:19:20.018Z"
   },
   {
    "duration": 28,
    "start_time": "2022-12-03T17:19:20.030Z"
   },
   {
    "duration": 34,
    "start_time": "2022-12-03T17:19:20.059Z"
   },
   {
    "duration": 20,
    "start_time": "2022-12-03T17:19:20.095Z"
   },
   {
    "duration": 37,
    "start_time": "2022-12-03T17:19:20.117Z"
   },
   {
    "duration": 41,
    "start_time": "2022-12-03T17:19:20.155Z"
   },
   {
    "duration": 9,
    "start_time": "2022-12-03T17:19:20.198Z"
   },
   {
    "duration": 19,
    "start_time": "2022-12-03T17:19:20.209Z"
   },
   {
    "duration": 21,
    "start_time": "2022-12-03T17:19:20.229Z"
   },
   {
    "duration": 36,
    "start_time": "2022-12-03T17:19:20.252Z"
   },
   {
    "duration": 21,
    "start_time": "2022-12-03T17:19:20.290Z"
   },
   {
    "duration": 7,
    "start_time": "2022-12-03T17:19:20.313Z"
   },
   {
    "duration": 47,
    "start_time": "2022-12-03T17:19:20.322Z"
   },
   {
    "duration": 20,
    "start_time": "2022-12-03T17:19:20.371Z"
   },
   {
    "duration": 24,
    "start_time": "2022-12-03T17:19:20.393Z"
   },
   {
    "duration": 31,
    "start_time": "2022-12-03T17:19:20.419Z"
   },
   {
    "duration": 65,
    "start_time": "2022-12-03T17:20:21.704Z"
   },
   {
    "duration": 3,
    "start_time": "2022-12-03T17:20:35.476Z"
   },
   {
    "duration": 362,
    "start_time": "2022-12-03T17:23:31.751Z"
   },
   {
    "duration": 74,
    "start_time": "2022-12-03T17:23:32.115Z"
   },
   {
    "duration": 10,
    "start_time": "2022-12-03T17:23:32.191Z"
   },
   {
    "duration": 14,
    "start_time": "2022-12-03T17:23:32.203Z"
   },
   {
    "duration": 13,
    "start_time": "2022-12-03T17:23:32.219Z"
   },
   {
    "duration": 33,
    "start_time": "2022-12-03T17:23:32.234Z"
   },
   {
    "duration": 30,
    "start_time": "2022-12-03T17:23:32.268Z"
   },
   {
    "duration": 12,
    "start_time": "2022-12-03T17:23:32.300Z"
   },
   {
    "duration": 5,
    "start_time": "2022-12-03T17:23:32.313Z"
   },
   {
    "duration": 8,
    "start_time": "2022-12-03T17:23:32.320Z"
   },
   {
    "duration": 4,
    "start_time": "2022-12-03T17:23:32.330Z"
   },
   {
    "duration": 36,
    "start_time": "2022-12-03T17:23:32.336Z"
   },
   {
    "duration": 10,
    "start_time": "2022-12-03T17:23:32.397Z"
   },
   {
    "duration": 16,
    "start_time": "2022-12-03T17:23:32.409Z"
   },
   {
    "duration": 19,
    "start_time": "2022-12-03T17:23:32.426Z"
   },
   {
    "duration": 25,
    "start_time": "2022-12-03T17:23:32.447Z"
   },
   {
    "duration": 23,
    "start_time": "2022-12-03T17:23:32.473Z"
   },
   {
    "duration": 4,
    "start_time": "2022-12-03T17:23:32.498Z"
   },
   {
    "duration": 66,
    "start_time": "2022-12-03T17:23:32.503Z"
   },
   {
    "duration": 0,
    "start_time": "2022-12-03T17:23:32.571Z"
   },
   {
    "duration": 0,
    "start_time": "2022-12-03T17:23:32.572Z"
   },
   {
    "duration": 0,
    "start_time": "2022-12-03T17:23:32.573Z"
   },
   {
    "duration": 58,
    "start_time": "2022-12-03T17:23:41.602Z"
   },
   {
    "duration": 2,
    "start_time": "2022-12-03T17:23:49.577Z"
   },
   {
    "duration": 48,
    "start_time": "2022-12-03T17:23:51.836Z"
   },
   {
    "duration": 10,
    "start_time": "2022-12-03T17:24:03.703Z"
   },
   {
    "duration": 5,
    "start_time": "2022-12-03T17:25:37.378Z"
   },
   {
    "duration": 48,
    "start_time": "2022-12-03T17:30:18.603Z"
   },
   {
    "duration": 3,
    "start_time": "2022-12-03T17:30:29.054Z"
   },
   {
    "duration": 2,
    "start_time": "2022-12-03T17:31:50.804Z"
   },
   {
    "duration": 41,
    "start_time": "2022-12-03T17:31:57.934Z"
   },
   {
    "duration": 3,
    "start_time": "2022-12-03T17:32:14.978Z"
   },
   {
    "duration": 191,
    "start_time": "2022-12-03T17:32:16.478Z"
   },
   {
    "duration": 3,
    "start_time": "2022-12-03T17:33:11.431Z"
   },
   {
    "duration": 181,
    "start_time": "2022-12-03T17:33:13.636Z"
   },
   {
    "duration": 3,
    "start_time": "2022-12-03T17:33:23.752Z"
   },
   {
    "duration": 10,
    "start_time": "2022-12-03T17:33:25.453Z"
   },
   {
    "duration": 13,
    "start_time": "2022-12-03T17:33:39.478Z"
   },
   {
    "duration": 11,
    "start_time": "2022-12-03T17:34:06.854Z"
   },
   {
    "duration": 10,
    "start_time": "2022-12-03T17:35:27.204Z"
   },
   {
    "duration": 17,
    "start_time": "2022-12-03T17:36:14.704Z"
   },
   {
    "duration": 15,
    "start_time": "2022-12-03T17:36:57.179Z"
   },
   {
    "duration": 16,
    "start_time": "2022-12-03T17:37:31.979Z"
   },
   {
    "duration": 3,
    "start_time": "2022-12-03T17:37:53.854Z"
   },
   {
    "duration": 9,
    "start_time": "2022-12-03T17:37:56.378Z"
   },
   {
    "duration": 13,
    "start_time": "2022-12-03T17:38:08.478Z"
   },
   {
    "duration": 4,
    "start_time": "2022-12-03T17:41:26.155Z"
   },
   {
    "duration": 19,
    "start_time": "2022-12-03T17:41:28.779Z"
   },
   {
    "duration": 17,
    "start_time": "2022-12-03T17:41:53.506Z"
   },
   {
    "duration": 15,
    "start_time": "2022-12-03T17:42:14.405Z"
   },
   {
    "duration": 13,
    "start_time": "2022-12-03T17:42:17.207Z"
   },
   {
    "duration": 3,
    "start_time": "2022-12-03T17:42:57.106Z"
   },
   {
    "duration": 17,
    "start_time": "2022-12-03T17:42:58.254Z"
   },
   {
    "duration": 40,
    "start_time": "2022-12-03T17:44:19.205Z"
   },
   {
    "duration": 3,
    "start_time": "2022-12-03T17:45:06.155Z"
   },
   {
    "duration": 30,
    "start_time": "2022-12-03T17:45:06.866Z"
   },
   {
    "duration": 4,
    "start_time": "2022-12-03T17:45:15.155Z"
   },
   {
    "duration": 18,
    "start_time": "2022-12-03T17:45:15.835Z"
   },
   {
    "duration": 11,
    "start_time": "2022-12-03T17:45:30.155Z"
   },
   {
    "duration": 662,
    "start_time": "2022-12-03T17:46:07.004Z"
   },
   {
    "duration": 14,
    "start_time": "2022-12-03T17:46:23.133Z"
   },
   {
    "duration": 18,
    "start_time": "2022-12-03T17:46:31.984Z"
   },
   {
    "duration": 16,
    "start_time": "2022-12-03T17:46:38.580Z"
   },
   {
    "duration": 4,
    "start_time": "2022-12-03T17:48:01.606Z"
   },
   {
    "duration": 13,
    "start_time": "2022-12-03T17:48:03.179Z"
   },
   {
    "duration": 17,
    "start_time": "2022-12-03T17:48:22.805Z"
   },
   {
    "duration": 30,
    "start_time": "2022-12-03T17:48:38.857Z"
   },
   {
    "duration": 4,
    "start_time": "2022-12-03T17:49:17.692Z"
   },
   {
    "duration": 20,
    "start_time": "2022-12-03T17:49:18.405Z"
   }
  ],
  "colab": {
   "provenance": []
  },
  "kernelspec": {
   "display_name": "Python 3 (ipykernel)",
   "language": "python",
   "name": "python3"
  },
  "language_info": {
   "codemirror_mode": {
    "name": "ipython",
    "version": 3
   },
   "file_extension": ".py",
   "mimetype": "text/x-python",
   "name": "python",
   "nbconvert_exporter": "python",
   "pygments_lexer": "ipython3",
   "version": "3.9.5"
  },
  "toc": {
   "base_numbering": 1,
   "nav_menu": {},
   "number_sections": true,
   "sideBar": true,
   "skip_h1_title": true,
   "title_cell": "Table of Contents",
   "title_sidebar": "Contents",
   "toc_cell": false,
   "toc_position": {},
   "toc_section_display": true,
   "toc_window_display": false
  }
 },
 "nbformat": 4,
 "nbformat_minor": 5
}
