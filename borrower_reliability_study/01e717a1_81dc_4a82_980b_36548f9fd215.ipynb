{
  "cells": [
    {
      "cell_type": "markdown",
      "id": "b033ddde",
      "metadata": {
        "deletable": false,
        "editable": false,
        "id": "b033ddde"
      },
      "source": [
        "# Исследование надежности заемщиков\n"
      ]
    },
    {
      "cell_type": "markdown",
      "source": [
        "**Описание проекта** \\\n",
        "Заказчик — кредитный отдел банка. Нужно разобраться, влияет ли семейное положение и количество детей клиента на факт погашения кредита в срок."
      ],
      "metadata": {
        "id": "20_Ey0UAfZAa"
      },
      "id": "20_Ey0UAfZAa"
    },
    {
      "cell_type": "markdown",
      "source": [
        "**Цель исследования** \\\n",
        " Исследование данных для формирования выводов о заемщиках различных категорий."
      ],
      "metadata": {
        "id": "wh6qhMGrgLnl"
      },
      "id": "wh6qhMGrgLnl"
    },
    {
      "cell_type": "markdown",
      "source": [
        "**Описание данных** \\\n",
        "children — количество детей в семье \\\n",
        "days_employed — общий трудовой стаж в днях \\\n",
        "dob_years — возраст клиента в годах \\\n",
        "education — уровень образования клиента \\\n",
        "education_id — идентификатор уровня образования \\\n",
        "family_status — семейное положение \\\n",
        "family_status_id — идентификатор семейного положения \\\n",
        "gender — пол клиента \\\n",
        "income_type — тип занятости \\\n",
        "debt — имел ли задолженность по возврату кредитов \\\n",
        "total_income — ежемесячный доход \\\n",
        "purpose — цель получения кредита"
      ],
      "metadata": {
        "id": "fpZQDG-8g2Ac"
      },
      "id": "fpZQDG-8g2Ac"
    },
    {
      "cell_type": "markdown",
      "id": "45f2fbb8",
      "metadata": {
        "deletable": false,
        "editable": false,
        "id": "45f2fbb8"
      },
      "source": [
        "## Откройте таблицу и изучите общую информацию о данных"
      ]
    },
    {
      "cell_type": "markdown",
      "id": "39a4b826",
      "metadata": {
        "deletable": false,
        "editable": false,
        "id": "39a4b826"
      },
      "source": [
        "**Задание 1. Импортируйте библиотеку pandas. Считайте данные из csv-файла в датафрейм и сохраните в переменную `data`. Путь к файлу:**\n",
        "\n",
        "`/datasets/data.csv`"
      ]
    },
    {
      "cell_type": "code",
      "execution_count": null,
      "id": "e0fd9ebb",
      "metadata": {
        "deletable": false,
        "id": "e0fd9ebb"
      },
      "outputs": [],
      "source": [
        "import pandas as pd\n",
        "\n",
        "try:\n",
        "    data = pd.read_csv('/datasets/data.csv')\n",
        "except:\n",
        "    data = pd.read_csv('https://code.s3.yandex.net/datasets/data.csv')"
      ]
    },
    {
      "cell_type": "markdown",
      "id": "4544e2f9",
      "metadata": {
        "deletable": false,
        "editable": false,
        "id": "4544e2f9"
      },
      "source": [
        "**Задание 2. Выведите первые 20 строчек датафрейма `data` на экран.**"
      ]
    },
    {
      "cell_type": "code",
      "execution_count": null,
      "id": "ef41d8e4",
      "metadata": {
        "deletable": false,
        "id": "ef41d8e4",
        "outputId": "1a8f3ef2-d323-4ec2-ddf7-89670b5944c4"
      },
      "outputs": [
        {
          "data": {
            "text/html": [
              "<div>\n",
              "<style scoped>\n",
              "    .dataframe tbody tr th:only-of-type {\n",
              "        vertical-align: middle;\n",
              "    }\n",
              "\n",
              "    .dataframe tbody tr th {\n",
              "        vertical-align: top;\n",
              "    }\n",
              "\n",
              "    .dataframe thead th {\n",
              "        text-align: right;\n",
              "    }\n",
              "</style>\n",
              "<table border=\"1\" class=\"dataframe\">\n",
              "  <thead>\n",
              "    <tr style=\"text-align: right;\">\n",
              "      <th></th>\n",
              "      <th>children</th>\n",
              "      <th>days_employed</th>\n",
              "      <th>dob_years</th>\n",
              "      <th>education</th>\n",
              "      <th>education_id</th>\n",
              "      <th>family_status</th>\n",
              "      <th>family_status_id</th>\n",
              "      <th>gender</th>\n",
              "      <th>income_type</th>\n",
              "      <th>debt</th>\n",
              "      <th>total_income</th>\n",
              "      <th>purpose</th>\n",
              "    </tr>\n",
              "  </thead>\n",
              "  <tbody>\n",
              "    <tr>\n",
              "      <th>0</th>\n",
              "      <td>1</td>\n",
              "      <td>-8437.673028</td>\n",
              "      <td>42</td>\n",
              "      <td>высшее</td>\n",
              "      <td>0</td>\n",
              "      <td>женат / замужем</td>\n",
              "      <td>0</td>\n",
              "      <td>F</td>\n",
              "      <td>сотрудник</td>\n",
              "      <td>0</td>\n",
              "      <td>253875.639453</td>\n",
              "      <td>покупка жилья</td>\n",
              "    </tr>\n",
              "    <tr>\n",
              "      <th>1</th>\n",
              "      <td>1</td>\n",
              "      <td>-4024.803754</td>\n",
              "      <td>36</td>\n",
              "      <td>среднее</td>\n",
              "      <td>1</td>\n",
              "      <td>женат / замужем</td>\n",
              "      <td>0</td>\n",
              "      <td>F</td>\n",
              "      <td>сотрудник</td>\n",
              "      <td>0</td>\n",
              "      <td>112080.014102</td>\n",
              "      <td>приобретение автомобиля</td>\n",
              "    </tr>\n",
              "    <tr>\n",
              "      <th>2</th>\n",
              "      <td>0</td>\n",
              "      <td>-5623.422610</td>\n",
              "      <td>33</td>\n",
              "      <td>Среднее</td>\n",
              "      <td>1</td>\n",
              "      <td>женат / замужем</td>\n",
              "      <td>0</td>\n",
              "      <td>M</td>\n",
              "      <td>сотрудник</td>\n",
              "      <td>0</td>\n",
              "      <td>145885.952297</td>\n",
              "      <td>покупка жилья</td>\n",
              "    </tr>\n",
              "    <tr>\n",
              "      <th>3</th>\n",
              "      <td>3</td>\n",
              "      <td>-4124.747207</td>\n",
              "      <td>32</td>\n",
              "      <td>среднее</td>\n",
              "      <td>1</td>\n",
              "      <td>женат / замужем</td>\n",
              "      <td>0</td>\n",
              "      <td>M</td>\n",
              "      <td>сотрудник</td>\n",
              "      <td>0</td>\n",
              "      <td>267628.550329</td>\n",
              "      <td>дополнительное образование</td>\n",
              "    </tr>\n",
              "    <tr>\n",
              "      <th>4</th>\n",
              "      <td>0</td>\n",
              "      <td>340266.072047</td>\n",
              "      <td>53</td>\n",
              "      <td>среднее</td>\n",
              "      <td>1</td>\n",
              "      <td>гражданский брак</td>\n",
              "      <td>1</td>\n",
              "      <td>F</td>\n",
              "      <td>пенсионер</td>\n",
              "      <td>0</td>\n",
              "      <td>158616.077870</td>\n",
              "      <td>сыграть свадьбу</td>\n",
              "    </tr>\n",
              "    <tr>\n",
              "      <th>5</th>\n",
              "      <td>0</td>\n",
              "      <td>-926.185831</td>\n",
              "      <td>27</td>\n",
              "      <td>высшее</td>\n",
              "      <td>0</td>\n",
              "      <td>гражданский брак</td>\n",
              "      <td>1</td>\n",
              "      <td>M</td>\n",
              "      <td>компаньон</td>\n",
              "      <td>0</td>\n",
              "      <td>255763.565419</td>\n",
              "      <td>покупка жилья</td>\n",
              "    </tr>\n",
              "    <tr>\n",
              "      <th>6</th>\n",
              "      <td>0</td>\n",
              "      <td>-2879.202052</td>\n",
              "      <td>43</td>\n",
              "      <td>высшее</td>\n",
              "      <td>0</td>\n",
              "      <td>женат / замужем</td>\n",
              "      <td>0</td>\n",
              "      <td>F</td>\n",
              "      <td>компаньон</td>\n",
              "      <td>0</td>\n",
              "      <td>240525.971920</td>\n",
              "      <td>операции с жильем</td>\n",
              "    </tr>\n",
              "    <tr>\n",
              "      <th>7</th>\n",
              "      <td>0</td>\n",
              "      <td>-152.779569</td>\n",
              "      <td>50</td>\n",
              "      <td>СРЕДНЕЕ</td>\n",
              "      <td>1</td>\n",
              "      <td>женат / замужем</td>\n",
              "      <td>0</td>\n",
              "      <td>M</td>\n",
              "      <td>сотрудник</td>\n",
              "      <td>0</td>\n",
              "      <td>135823.934197</td>\n",
              "      <td>образование</td>\n",
              "    </tr>\n",
              "    <tr>\n",
              "      <th>8</th>\n",
              "      <td>2</td>\n",
              "      <td>-6929.865299</td>\n",
              "      <td>35</td>\n",
              "      <td>ВЫСШЕЕ</td>\n",
              "      <td>0</td>\n",
              "      <td>гражданский брак</td>\n",
              "      <td>1</td>\n",
              "      <td>F</td>\n",
              "      <td>сотрудник</td>\n",
              "      <td>0</td>\n",
              "      <td>95856.832424</td>\n",
              "      <td>на проведение свадьбы</td>\n",
              "    </tr>\n",
              "    <tr>\n",
              "      <th>9</th>\n",
              "      <td>0</td>\n",
              "      <td>-2188.756445</td>\n",
              "      <td>41</td>\n",
              "      <td>среднее</td>\n",
              "      <td>1</td>\n",
              "      <td>женат / замужем</td>\n",
              "      <td>0</td>\n",
              "      <td>M</td>\n",
              "      <td>сотрудник</td>\n",
              "      <td>0</td>\n",
              "      <td>144425.938277</td>\n",
              "      <td>покупка жилья для семьи</td>\n",
              "    </tr>\n",
              "    <tr>\n",
              "      <th>10</th>\n",
              "      <td>2</td>\n",
              "      <td>-4171.483647</td>\n",
              "      <td>36</td>\n",
              "      <td>высшее</td>\n",
              "      <td>0</td>\n",
              "      <td>женат / замужем</td>\n",
              "      <td>0</td>\n",
              "      <td>M</td>\n",
              "      <td>компаньон</td>\n",
              "      <td>0</td>\n",
              "      <td>113943.491460</td>\n",
              "      <td>покупка недвижимости</td>\n",
              "    </tr>\n",
              "    <tr>\n",
              "      <th>11</th>\n",
              "      <td>0</td>\n",
              "      <td>-792.701887</td>\n",
              "      <td>40</td>\n",
              "      <td>среднее</td>\n",
              "      <td>1</td>\n",
              "      <td>женат / замужем</td>\n",
              "      <td>0</td>\n",
              "      <td>F</td>\n",
              "      <td>сотрудник</td>\n",
              "      <td>0</td>\n",
              "      <td>77069.234271</td>\n",
              "      <td>покупка коммерческой недвижимости</td>\n",
              "    </tr>\n",
              "    <tr>\n",
              "      <th>12</th>\n",
              "      <td>0</td>\n",
              "      <td>NaN</td>\n",
              "      <td>65</td>\n",
              "      <td>среднее</td>\n",
              "      <td>1</td>\n",
              "      <td>гражданский брак</td>\n",
              "      <td>1</td>\n",
              "      <td>M</td>\n",
              "      <td>пенсионер</td>\n",
              "      <td>0</td>\n",
              "      <td>NaN</td>\n",
              "      <td>сыграть свадьбу</td>\n",
              "    </tr>\n",
              "    <tr>\n",
              "      <th>13</th>\n",
              "      <td>0</td>\n",
              "      <td>-1846.641941</td>\n",
              "      <td>54</td>\n",
              "      <td>неоконченное высшее</td>\n",
              "      <td>2</td>\n",
              "      <td>женат / замужем</td>\n",
              "      <td>0</td>\n",
              "      <td>F</td>\n",
              "      <td>сотрудник</td>\n",
              "      <td>0</td>\n",
              "      <td>130458.228857</td>\n",
              "      <td>приобретение автомобиля</td>\n",
              "    </tr>\n",
              "    <tr>\n",
              "      <th>14</th>\n",
              "      <td>0</td>\n",
              "      <td>-1844.956182</td>\n",
              "      <td>56</td>\n",
              "      <td>высшее</td>\n",
              "      <td>0</td>\n",
              "      <td>гражданский брак</td>\n",
              "      <td>1</td>\n",
              "      <td>F</td>\n",
              "      <td>компаньон</td>\n",
              "      <td>1</td>\n",
              "      <td>165127.911772</td>\n",
              "      <td>покупка жилой недвижимости</td>\n",
              "    </tr>\n",
              "    <tr>\n",
              "      <th>15</th>\n",
              "      <td>1</td>\n",
              "      <td>-972.364419</td>\n",
              "      <td>26</td>\n",
              "      <td>среднее</td>\n",
              "      <td>1</td>\n",
              "      <td>женат / замужем</td>\n",
              "      <td>0</td>\n",
              "      <td>F</td>\n",
              "      <td>сотрудник</td>\n",
              "      <td>0</td>\n",
              "      <td>116820.904450</td>\n",
              "      <td>строительство собственной недвижимости</td>\n",
              "    </tr>\n",
              "    <tr>\n",
              "      <th>16</th>\n",
              "      <td>0</td>\n",
              "      <td>-1719.934226</td>\n",
              "      <td>35</td>\n",
              "      <td>среднее</td>\n",
              "      <td>1</td>\n",
              "      <td>женат / замужем</td>\n",
              "      <td>0</td>\n",
              "      <td>F</td>\n",
              "      <td>сотрудник</td>\n",
              "      <td>0</td>\n",
              "      <td>289202.704229</td>\n",
              "      <td>недвижимость</td>\n",
              "    </tr>\n",
              "    <tr>\n",
              "      <th>17</th>\n",
              "      <td>0</td>\n",
              "      <td>-2369.999720</td>\n",
              "      <td>33</td>\n",
              "      <td>высшее</td>\n",
              "      <td>0</td>\n",
              "      <td>гражданский брак</td>\n",
              "      <td>1</td>\n",
              "      <td>M</td>\n",
              "      <td>сотрудник</td>\n",
              "      <td>0</td>\n",
              "      <td>90410.586745</td>\n",
              "      <td>строительство недвижимости</td>\n",
              "    </tr>\n",
              "    <tr>\n",
              "      <th>18</th>\n",
              "      <td>0</td>\n",
              "      <td>400281.136913</td>\n",
              "      <td>53</td>\n",
              "      <td>среднее</td>\n",
              "      <td>1</td>\n",
              "      <td>вдовец / вдова</td>\n",
              "      <td>2</td>\n",
              "      <td>F</td>\n",
              "      <td>пенсионер</td>\n",
              "      <td>0</td>\n",
              "      <td>56823.777243</td>\n",
              "      <td>на покупку подержанного автомобиля</td>\n",
              "    </tr>\n",
              "    <tr>\n",
              "      <th>19</th>\n",
              "      <td>0</td>\n",
              "      <td>-10038.818549</td>\n",
              "      <td>48</td>\n",
              "      <td>СРЕДНЕЕ</td>\n",
              "      <td>1</td>\n",
              "      <td>в разводе</td>\n",
              "      <td>3</td>\n",
              "      <td>F</td>\n",
              "      <td>сотрудник</td>\n",
              "      <td>0</td>\n",
              "      <td>242831.107982</td>\n",
              "      <td>на покупку своего автомобиля</td>\n",
              "    </tr>\n",
              "  </tbody>\n",
              "</table>\n",
              "</div>"
            ],
            "text/plain": [
              "    children  days_employed  dob_years            education  education_id  \\\n",
              "0          1   -8437.673028         42               высшее             0   \n",
              "1          1   -4024.803754         36              среднее             1   \n",
              "2          0   -5623.422610         33              Среднее             1   \n",
              "3          3   -4124.747207         32              среднее             1   \n",
              "4          0  340266.072047         53              среднее             1   \n",
              "5          0    -926.185831         27               высшее             0   \n",
              "6          0   -2879.202052         43               высшее             0   \n",
              "7          0    -152.779569         50              СРЕДНЕЕ             1   \n",
              "8          2   -6929.865299         35               ВЫСШЕЕ             0   \n",
              "9          0   -2188.756445         41              среднее             1   \n",
              "10         2   -4171.483647         36               высшее             0   \n",
              "11         0    -792.701887         40              среднее             1   \n",
              "12         0            NaN         65              среднее             1   \n",
              "13         0   -1846.641941         54  неоконченное высшее             2   \n",
              "14         0   -1844.956182         56               высшее             0   \n",
              "15         1    -972.364419         26              среднее             1   \n",
              "16         0   -1719.934226         35              среднее             1   \n",
              "17         0   -2369.999720         33               высшее             0   \n",
              "18         0  400281.136913         53              среднее             1   \n",
              "19         0  -10038.818549         48              СРЕДНЕЕ             1   \n",
              "\n",
              "       family_status  family_status_id gender income_type  debt  \\\n",
              "0    женат / замужем                 0      F   сотрудник     0   \n",
              "1    женат / замужем                 0      F   сотрудник     0   \n",
              "2    женат / замужем                 0      M   сотрудник     0   \n",
              "3    женат / замужем                 0      M   сотрудник     0   \n",
              "4   гражданский брак                 1      F   пенсионер     0   \n",
              "5   гражданский брак                 1      M   компаньон     0   \n",
              "6    женат / замужем                 0      F   компаньон     0   \n",
              "7    женат / замужем                 0      M   сотрудник     0   \n",
              "8   гражданский брак                 1      F   сотрудник     0   \n",
              "9    женат / замужем                 0      M   сотрудник     0   \n",
              "10   женат / замужем                 0      M   компаньон     0   \n",
              "11   женат / замужем                 0      F   сотрудник     0   \n",
              "12  гражданский брак                 1      M   пенсионер     0   \n",
              "13   женат / замужем                 0      F   сотрудник     0   \n",
              "14  гражданский брак                 1      F   компаньон     1   \n",
              "15   женат / замужем                 0      F   сотрудник     0   \n",
              "16   женат / замужем                 0      F   сотрудник     0   \n",
              "17  гражданский брак                 1      M   сотрудник     0   \n",
              "18    вдовец / вдова                 2      F   пенсионер     0   \n",
              "19         в разводе                 3      F   сотрудник     0   \n",
              "\n",
              "     total_income                                 purpose  \n",
              "0   253875.639453                           покупка жилья  \n",
              "1   112080.014102                 приобретение автомобиля  \n",
              "2   145885.952297                           покупка жилья  \n",
              "3   267628.550329              дополнительное образование  \n",
              "4   158616.077870                         сыграть свадьбу  \n",
              "5   255763.565419                           покупка жилья  \n",
              "6   240525.971920                       операции с жильем  \n",
              "7   135823.934197                             образование  \n",
              "8    95856.832424                   на проведение свадьбы  \n",
              "9   144425.938277                 покупка жилья для семьи  \n",
              "10  113943.491460                    покупка недвижимости  \n",
              "11   77069.234271       покупка коммерческой недвижимости  \n",
              "12            NaN                         сыграть свадьбу  \n",
              "13  130458.228857                 приобретение автомобиля  \n",
              "14  165127.911772              покупка жилой недвижимости  \n",
              "15  116820.904450  строительство собственной недвижимости  \n",
              "16  289202.704229                            недвижимость  \n",
              "17   90410.586745              строительство недвижимости  \n",
              "18   56823.777243      на покупку подержанного автомобиля  \n",
              "19  242831.107982            на покупку своего автомобиля  "
            ]
          },
          "execution_count": 2,
          "metadata": {},
          "output_type": "execute_result"
        }
      ],
      "source": [
        "data.head(20)\n",
        "#нижние ячейки использовались для поиска ответа на задание 2.7.5\n",
        "#data.loc[data['days_employed'].isna()]\n",
        "#data.groupby('income_type').count()"
      ]
    },
    {
      "cell_type": "markdown",
      "id": "27e52b9c",
      "metadata": {
        "deletable": false,
        "editable": false,
        "id": "27e52b9c"
      },
      "source": [
        "**Задание 3. Выведите основную информацию о датафрейме с помощью метода `info()`.**"
      ]
    },
    {
      "cell_type": "code",
      "execution_count": null,
      "id": "aeaccd4e",
      "metadata": {
        "deletable": false,
        "id": "aeaccd4e",
        "outputId": "15376089-8dad-46c9-b520-c05248d43158"
      },
      "outputs": [
        {
          "name": "stdout",
          "output_type": "stream",
          "text": [
            "<class 'pandas.core.frame.DataFrame'>\n",
            "RangeIndex: 21525 entries, 0 to 21524\n",
            "Data columns (total 12 columns):\n",
            " #   Column            Non-Null Count  Dtype  \n",
            "---  ------            --------------  -----  \n",
            " 0   children          21525 non-null  int64  \n",
            " 1   days_employed     19351 non-null  float64\n",
            " 2   dob_years         21525 non-null  int64  \n",
            " 3   education         21525 non-null  object \n",
            " 4   education_id      21525 non-null  int64  \n",
            " 5   family_status     21525 non-null  object \n",
            " 6   family_status_id  21525 non-null  int64  \n",
            " 7   gender            21525 non-null  object \n",
            " 8   income_type       21525 non-null  object \n",
            " 9   debt              21525 non-null  int64  \n",
            " 10  total_income      19351 non-null  float64\n",
            " 11  purpose           21525 non-null  object \n",
            "dtypes: float64(2), int64(5), object(5)\n",
            "memory usage: 2.0+ MB\n"
          ]
        }
      ],
      "source": [
        "data.info()"
      ]
    },
    {
      "cell_type": "markdown",
      "id": "ab5d1791",
      "metadata": {
        "deletable": false,
        "editable": false,
        "id": "ab5d1791"
      },
      "source": [
        "## Предобработка данных"
      ]
    },
    {
      "cell_type": "markdown",
      "id": "018a2d56",
      "metadata": {
        "deletable": false,
        "editable": false,
        "id": "018a2d56"
      },
      "source": [
        "### Удаление пропусков"
      ]
    },
    {
      "cell_type": "markdown",
      "id": "cb941b87",
      "metadata": {
        "deletable": false,
        "editable": false,
        "id": "cb941b87"
      },
      "source": [
        "**Задание 4. Выведите количество пропущенных значений для каждого столбца. Используйте комбинацию двух методов.**"
      ]
    },
    {
      "cell_type": "code",
      "execution_count": null,
      "id": "9ace6867",
      "metadata": {
        "deletable": false,
        "id": "9ace6867",
        "outputId": "81f4d817-781c-465c-ed15-91ce4446810d"
      },
      "outputs": [
        {
          "data": {
            "text/plain": [
              "children               0\n",
              "days_employed       2174\n",
              "dob_years              0\n",
              "education              0\n",
              "education_id           0\n",
              "family_status          0\n",
              "family_status_id       0\n",
              "gender                 0\n",
              "income_type            0\n",
              "debt                   0\n",
              "total_income        2174\n",
              "purpose                0\n",
              "dtype: int64"
            ]
          },
          "execution_count": 4,
          "metadata": {},
          "output_type": "execute_result"
        }
      ],
      "source": [
        "data.isna().sum()"
      ]
    },
    {
      "cell_type": "markdown",
      "id": "2b9d1ba6",
      "metadata": {
        "deletable": false,
        "editable": false,
        "id": "2b9d1ba6"
      },
      "source": [
        "**Задание 5. В двух столбцах есть пропущенные значения. Один из них — `days_employed`. Пропуски в этом столбце вы обработаете на следующем этапе. Другой столбец с пропущенными значениями — `total_income` — хранит данные о доходах. На сумму дохода сильнее всего влияет тип занятости, поэтому заполнить пропуски в этом столбце нужно медианным значением по каждому типу из столбца `income_type`. Например, у человека с типом занятости `сотрудник` пропуск в столбце `total_income` должен быть заполнен медианным доходом среди всех записей с тем же типом.**"
      ]
    },
    {
      "cell_type": "code",
      "execution_count": null,
      "id": "dea798f6",
      "metadata": {
        "deletable": false,
        "id": "dea798f6"
      },
      "outputs": [],
      "source": [
        "for t in data['income_type'].unique():\n",
        "    data.loc[(data['income_type'] == t) & (data['total_income'].isna()), 'total_income'] = \\\n",
        "    data.loc[(data['income_type'] == t), 'total_income'].median()"
      ]
    },
    {
      "cell_type": "markdown",
      "id": "3330f5d9",
      "metadata": {
        "deletable": false,
        "editable": false,
        "id": "3330f5d9"
      },
      "source": [
        "### Обработка аномальных значений"
      ]
    },
    {
      "cell_type": "markdown",
      "id": "af069a36",
      "metadata": {
        "deletable": false,
        "editable": false,
        "id": "af069a36"
      },
      "source": [
        "**Задание 6. В данных могут встречаться артефакты (аномалии) — значения, которые не отражают действительность и появились по какой-то ошибке. таким артефактом будет отрицательное количество дней трудового стажа в столбце `days_employed`. Для реальных данных это нормально. Обработайте значения в этом столбце: замените все отрицательные значения положительными с помощью метода `abs()`.**"
      ]
    },
    {
      "cell_type": "code",
      "execution_count": null,
      "id": "87343281",
      "metadata": {
        "deletable": false,
        "id": "87343281"
      },
      "outputs": [],
      "source": [
        "data['days_employed'] = data['days_employed'].abs()"
      ]
    },
    {
      "cell_type": "markdown",
      "id": "7ca632b8",
      "metadata": {
        "deletable": false,
        "editable": false,
        "id": "7ca632b8"
      },
      "source": [
        "**Задание 7. Для каждого типа занятости выведите медианное значение трудового стажа `days_employed` в днях.**"
      ]
    },
    {
      "cell_type": "code",
      "execution_count": null,
      "id": "2c8c3a3c",
      "metadata": {
        "deletable": false,
        "id": "2c8c3a3c",
        "outputId": "801ef80e-522b-4668-f34e-565af7432bcf"
      },
      "outputs": [
        {
          "data": {
            "text/plain": [
              "income_type\n",
              "безработный        366413.652744\n",
              "в декрете            3296.759962\n",
              "госслужащий          2689.368353\n",
              "компаньон            1547.382223\n",
              "пенсионер          365213.306266\n",
              "предприниматель       520.848083\n",
              "сотрудник            1574.202821\n",
              "студент               578.751554\n",
              "Name: days_employed, dtype: float64"
            ]
          },
          "execution_count": 7,
          "metadata": {},
          "output_type": "execute_result"
        }
      ],
      "source": [
        "data.groupby('income_type')['days_employed'].agg('median')"
      ]
    },
    {
      "cell_type": "markdown",
      "id": "aeb9e828",
      "metadata": {
        "deletable": false,
        "editable": false,
        "id": "aeb9e828"
      },
      "source": [
        "У двух типов (безработные и пенсионеры) получатся аномально большие значения. Исправить такие значения сложно, поэтому оставьте их как есть. Тем более этот столбец не понадобится вам для исследования."
      ]
    },
    {
      "cell_type": "markdown",
      "id": "23ada541",
      "metadata": {
        "deletable": false,
        "editable": false,
        "id": "23ada541"
      },
      "source": [
        "**Задание 8. Выведите перечень уникальных значений столбца `children`.**"
      ]
    },
    {
      "cell_type": "code",
      "execution_count": null,
      "id": "fb111a9e",
      "metadata": {
        "deletable": false,
        "id": "fb111a9e",
        "outputId": "6975b15c-7f95-4697-d16d-a0c79b657b03"
      },
      "outputs": [
        {
          "data": {
            "text/plain": [
              "array([ 1,  0,  3,  2, -1,  4, 20,  5])"
            ]
          },
          "execution_count": 8,
          "metadata": {},
          "output_type": "execute_result"
        }
      ],
      "source": [
        "data['children'].unique()"
      ]
    },
    {
      "cell_type": "markdown",
      "id": "172b044e",
      "metadata": {
        "deletable": false,
        "editable": false,
        "id": "172b044e"
      },
      "source": [
        "**Задание 9. В столбце `children` есть два аномальных значения. Удалите строки, в которых встречаются такие аномальные значения из датафрейма `data`.**"
      ]
    },
    {
      "cell_type": "code",
      "execution_count": null,
      "id": "c9415b86",
      "metadata": {
        "deletable": false,
        "id": "c9415b86"
      },
      "outputs": [],
      "source": [
        "data = data[(data['children'] != -1) & (data['children'] != 20)]"
      ]
    },
    {
      "cell_type": "markdown",
      "id": "8665e9fd",
      "metadata": {
        "deletable": false,
        "editable": false,
        "id": "8665e9fd"
      },
      "source": [
        "**Задание 10. Ещё раз выведите перечень уникальных значений столбца `children`, чтобы убедиться, что артефакты удалены.**"
      ]
    },
    {
      "cell_type": "code",
      "execution_count": null,
      "id": "74de1328",
      "metadata": {
        "deletable": false,
        "id": "74de1328",
        "outputId": "b2097101-d49d-44d9-901b-32a65c9463d1"
      },
      "outputs": [
        {
          "data": {
            "text/plain": [
              "array([1, 0, 3, 2, 4, 5])"
            ]
          },
          "execution_count": 10,
          "metadata": {},
          "output_type": "execute_result"
        }
      ],
      "source": [
        "data['children'].unique()"
      ]
    },
    {
      "cell_type": "markdown",
      "id": "5180df9a",
      "metadata": {
        "deletable": false,
        "editable": false,
        "id": "5180df9a"
      },
      "source": [
        "### Удаление пропусков (продолжение)"
      ]
    },
    {
      "cell_type": "markdown",
      "id": "7ee2b263",
      "metadata": {
        "deletable": false,
        "editable": false,
        "id": "7ee2b263"
      },
      "source": [
        "**Задание 11. Заполните пропуски в столбце `days_employed` медианными значениями по каждого типа занятости `income_type`.**"
      ]
    },
    {
      "cell_type": "code",
      "execution_count": null,
      "id": "20bd8654",
      "metadata": {
        "deletable": false,
        "id": "20bd8654"
      },
      "outputs": [],
      "source": [
        "for t in data['income_type'].unique():\n",
        "    data.loc[(data['income_type'] == t) & (data['days_employed'].isna()), 'days_employed'] = \\\n",
        "    data.loc[(data['income_type'] == t), 'days_employed'].median()"
      ]
    },
    {
      "cell_type": "markdown",
      "id": "e2a83c25",
      "metadata": {
        "deletable": false,
        "editable": false,
        "id": "e2a83c25"
      },
      "source": [
        "**Задание 12. Убедитесь, что все пропуски заполнены. Проверьте себя и ещё раз выведите количество пропущенных значений для каждого столбца с помощью двух методов.**"
      ]
    },
    {
      "cell_type": "code",
      "execution_count": null,
      "id": "fcef4333",
      "metadata": {
        "deletable": false,
        "id": "fcef4333",
        "outputId": "8da1e4e1-358e-4e87-98c9-f261bce0a7b2"
      },
      "outputs": [
        {
          "data": {
            "text/plain": [
              "children            0\n",
              "days_employed       0\n",
              "dob_years           0\n",
              "education           0\n",
              "education_id        0\n",
              "family_status       0\n",
              "family_status_id    0\n",
              "gender              0\n",
              "income_type         0\n",
              "debt                0\n",
              "total_income        0\n",
              "purpose             0\n",
              "dtype: int64"
            ]
          },
          "execution_count": 12,
          "metadata": {},
          "output_type": "execute_result"
        }
      ],
      "source": [
        "data.isna().sum()"
      ]
    },
    {
      "cell_type": "markdown",
      "id": "6c641661",
      "metadata": {
        "deletable": false,
        "editable": false,
        "id": "6c641661"
      },
      "source": [
        "### Изменение типов данных"
      ]
    },
    {
      "cell_type": "markdown",
      "id": "f3be146d",
      "metadata": {
        "deletable": false,
        "editable": false,
        "id": "f3be146d"
      },
      "source": [
        "**Задание 13. Замените вещественный тип данных в столбце `total_income` на целочисленный с помощью метода `astype()`.**"
      ]
    },
    {
      "cell_type": "code",
      "execution_count": null,
      "id": "763658fc",
      "metadata": {
        "deletable": false,
        "id": "763658fc"
      },
      "outputs": [],
      "source": [
        "data['total_income'] = data['total_income'].astype(int)"
      ]
    },
    {
      "cell_type": "markdown",
      "id": "900e54bb",
      "metadata": {
        "deletable": false,
        "editable": false,
        "id": "900e54bb"
      },
      "source": [
        "### Обработка дубликатов"
      ]
    },
    {
      "cell_type": "markdown",
      "id": "d4e17337",
      "metadata": {
        "deletable": false,
        "editable": false,
        "id": "d4e17337"
      },
      "source": [
        "**Задание 14. Обработайте неявные дубликаты в столбце `education`. В этом столбце есть одни и те же значения, но записанные по-разному: с использованием заглавных и строчных букв. Приведите их к нижнему регистру. Проверьте остальные столбцы.**"
      ]
    },
    {
      "cell_type": "code",
      "execution_count": null,
      "id": "f8b279ee",
      "metadata": {
        "deletable": false,
        "id": "f8b279ee"
      },
      "outputs": [],
      "source": [
        "data['education'] = data['education'].str.lower()"
      ]
    },
    {
      "cell_type": "markdown",
      "id": "eeb94e26",
      "metadata": {
        "deletable": false,
        "editable": false,
        "id": "eeb94e26"
      },
      "source": [
        "**Задание 15. Выведите на экран количество строк-дубликатов в данных. Если такие строки присутствуют, удалите их.**"
      ]
    },
    {
      "cell_type": "code",
      "execution_count": null,
      "id": "169aaa82",
      "metadata": {
        "deletable": false,
        "id": "169aaa82",
        "outputId": "9684deba-1934-42d1-99e1-cda61740f822"
      },
      "outputs": [
        {
          "data": {
            "text/plain": [
              "71"
            ]
          },
          "execution_count": 15,
          "metadata": {},
          "output_type": "execute_result"
        }
      ],
      "source": [
        "data.duplicated().sum()"
      ]
    },
    {
      "cell_type": "code",
      "execution_count": null,
      "id": "42e7966a",
      "metadata": {
        "deletable": false,
        "id": "42e7966a"
      },
      "outputs": [],
      "source": [
        "data = data.drop_duplicates()"
      ]
    },
    {
      "cell_type": "markdown",
      "id": "fabc1099",
      "metadata": {
        "deletable": false,
        "editable": false,
        "id": "fabc1099"
      },
      "source": [
        "### Категоризация данных"
      ]
    },
    {
      "cell_type": "markdown",
      "id": "d626904c",
      "metadata": {
        "deletable": false,
        "editable": false,
        "id": "d626904c"
      },
      "source": [
        "**Задание 16. На основании диапазонов, указанных ниже, создайте в датафрейме `data` столбец `total_income_category` с категориями:**\n",
        "\n",
        "- 0–30000 — `'E'`;\n",
        "- 30001–50000 — `'D'`;\n",
        "- 50001–200000 — `'C'`;\n",
        "- 200001–1000000 — `'B'`;\n",
        "- 1000001 и выше — `'A'`.\n",
        "\n",
        "\n",
        "**Например, кредитополучателю с доходом 25000 нужно назначить категорию `'E'`, а клиенту, получающему 235000, — `'B'`. Используйте собственную функцию с именем `categorize_income()` и метод `apply()`.**"
      ]
    },
    {
      "cell_type": "code",
      "execution_count": null,
      "id": "8ac19208",
      "metadata": {
        "deletable": false,
        "id": "8ac19208"
      },
      "outputs": [],
      "source": [
        "def categorize_income(income):\n",
        "    try:\n",
        "        if 0 <= income <= 30000:\n",
        "            return 'E'\n",
        "        elif 30001 <= income <= 50000:\n",
        "            return 'D'\n",
        "        elif 50001 <= income <= 200000:\n",
        "            return 'C'\n",
        "        elif 200001 <= income <= 1000000:\n",
        "            return 'B'\n",
        "        elif income >= 1000001:\n",
        "            return 'A'\n",
        "    except:\n",
        "        pass"
      ]
    },
    {
      "cell_type": "code",
      "execution_count": null,
      "id": "36f9cf1c",
      "metadata": {
        "deletable": false,
        "id": "36f9cf1c"
      },
      "outputs": [],
      "source": [
        "data['total_income_category'] = data['total_income'].apply(categorize_income)"
      ]
    },
    {
      "cell_type": "markdown",
      "id": "58ca7228",
      "metadata": {
        "deletable": false,
        "editable": false,
        "id": "58ca7228"
      },
      "source": [
        "**Задание 17. Выведите на экран перечень уникальных целей взятия кредита из столбца `purpose`.**"
      ]
    },
    {
      "cell_type": "code",
      "execution_count": null,
      "id": "9f208f8a",
      "metadata": {
        "deletable": false,
        "id": "9f208f8a",
        "outputId": "673c12d9-7d7e-4ae0-9812-c622c89dd244"
      },
      "outputs": [
        {
          "data": {
            "text/plain": [
              "array(['покупка жилья', 'приобретение автомобиля',\n",
              "       'дополнительное образование', 'сыграть свадьбу',\n",
              "       'операции с жильем', 'образование', 'на проведение свадьбы',\n",
              "       'покупка жилья для семьи', 'покупка недвижимости',\n",
              "       'покупка коммерческой недвижимости', 'покупка жилой недвижимости',\n",
              "       'строительство собственной недвижимости', 'недвижимость',\n",
              "       'строительство недвижимости', 'на покупку подержанного автомобиля',\n",
              "       'на покупку своего автомобиля',\n",
              "       'операции с коммерческой недвижимостью',\n",
              "       'строительство жилой недвижимости', 'жилье',\n",
              "       'операции со своей недвижимостью', 'автомобили',\n",
              "       'заняться образованием', 'сделка с подержанным автомобилем',\n",
              "       'получение образования', 'автомобиль', 'свадьба',\n",
              "       'получение дополнительного образования', 'покупка своего жилья',\n",
              "       'операции с недвижимостью', 'получение высшего образования',\n",
              "       'свой автомобиль', 'сделка с автомобилем',\n",
              "       'профильное образование', 'высшее образование',\n",
              "       'покупка жилья для сдачи', 'на покупку автомобиля', 'ремонт жилью',\n",
              "       'заняться высшим образованием'], dtype=object)"
            ]
          },
          "execution_count": 19,
          "metadata": {},
          "output_type": "execute_result"
        }
      ],
      "source": [
        "data['purpose'].unique()"
      ]
    },
    {
      "cell_type": "markdown",
      "id": "29efacc6",
      "metadata": {
        "deletable": false,
        "editable": false,
        "id": "29efacc6"
      },
      "source": [
        "**Задание 18. Создайте функцию, которая на основании данных из столбца `purpose` сформирует новый столбец `purpose_category`, в который войдут следующие категории:**\n",
        "\n",
        "- `'операции с автомобилем'`,\n",
        "- `'операции с недвижимостью'`,\n",
        "- `'проведение свадьбы'`,\n",
        "- `'получение образования'`.\n",
        "\n",
        "**Например, если в столбце `purpose` находится подстрока `'на покупку автомобиля'`, то в столбце `purpose_category` должна появиться строка `'операции с автомобилем'`.**\n",
        "\n",
        "**Используйте собственную функцию с именем `categorize_purpose()` и метод `apply()`. Изучите данные в столбце `purpose` и определите, какие подстроки помогут вам правильно определить категорию.**"
      ]
    },
    {
      "cell_type": "code",
      "execution_count": null,
      "id": "9da9a1a4",
      "metadata": {
        "deletable": false,
        "id": "9da9a1a4"
      },
      "outputs": [],
      "source": [
        "def categorize_purpose(row):\n",
        "    try:\n",
        "        if 'автом' in row:\n",
        "            return 'операции с автомобилем'\n",
        "        elif 'жил' in row or 'недвиж' in row:\n",
        "            return 'операции с недвижимостью'\n",
        "        elif 'свад' in row:\n",
        "            return 'проведение свадьбы'\n",
        "        elif 'образов' in row:\n",
        "            return 'получение образования'\n",
        "    except:\n",
        "        return 'нет категории'"
      ]
    },
    {
      "cell_type": "code",
      "execution_count": null,
      "id": "b7e3578a",
      "metadata": {
        "deletable": false,
        "id": "b7e3578a"
      },
      "outputs": [],
      "source": [
        "data['purpose_category'] = data['purpose'].apply(categorize_purpose)"
      ]
    },
    {
      "cell_type": "markdown",
      "id": "6dd7d2d3",
      "metadata": {
        "deletable": false,
        "editable": false,
        "id": "6dd7d2d3"
      },
      "source": [
        "### Шаг 3. Исследуйте данные и ответьте на вопросы"
      ]
    },
    {
      "cell_type": "markdown",
      "id": "19a45862",
      "metadata": {
        "deletable": false,
        "editable": false,
        "id": "19a45862"
      },
      "source": [
        "#### 3.1 Есть ли зависимость между количеством детей и возвратом кредита в срок?"
      ]
    },
    {
      "cell_type": "code",
      "execution_count": null,
      "id": "8bb4108e",
      "metadata": {
        "deletable": false,
        "id": "8bb4108e",
        "outputId": "cb573226-0909-42bb-8db3-38052dc571e5"
      },
      "outputs": [
        {
          "data": {
            "text/html": [
              "<div>\n",
              "<style scoped>\n",
              "    .dataframe tbody tr th:only-of-type {\n",
              "        vertical-align: middle;\n",
              "    }\n",
              "\n",
              "    .dataframe tbody tr th {\n",
              "        vertical-align: top;\n",
              "    }\n",
              "\n",
              "    .dataframe thead tr th {\n",
              "        text-align: left;\n",
              "    }\n",
              "\n",
              "    .dataframe thead tr:last-of-type th {\n",
              "        text-align: right;\n",
              "    }\n",
              "</style>\n",
              "<table border=\"1\" class=\"dataframe\">\n",
              "  <thead>\n",
              "    <tr>\n",
              "      <th></th>\n",
              "      <th>sum</th>\n",
              "      <th>count</th>\n",
              "      <th>mean</th>\n",
              "    </tr>\n",
              "    <tr>\n",
              "      <th></th>\n",
              "      <th>debt</th>\n",
              "      <th>debt</th>\n",
              "      <th></th>\n",
              "    </tr>\n",
              "    <tr>\n",
              "      <th>children</th>\n",
              "      <th></th>\n",
              "      <th></th>\n",
              "      <th></th>\n",
              "    </tr>\n",
              "  </thead>\n",
              "  <tbody>\n",
              "    <tr>\n",
              "      <th>0</th>\n",
              "      <td>1063</td>\n",
              "      <td>14091</td>\n",
              "      <td>0.075438</td>\n",
              "    </tr>\n",
              "    <tr>\n",
              "      <th>1</th>\n",
              "      <td>444</td>\n",
              "      <td>4808</td>\n",
              "      <td>0.092346</td>\n",
              "    </tr>\n",
              "    <tr>\n",
              "      <th>2</th>\n",
              "      <td>194</td>\n",
              "      <td>2052</td>\n",
              "      <td>0.094542</td>\n",
              "    </tr>\n",
              "  </tbody>\n",
              "</table>\n",
              "</div>"
            ],
            "text/plain": [
              "           sum  count      mean\n",
              "          debt   debt          \n",
              "children                       \n",
              "0         1063  14091  0.075438\n",
              "1          444   4808  0.092346\n",
              "2          194   2052  0.094542"
            ]
          },
          "metadata": {},
          "output_type": "display_data"
        },
        {
          "data": {
            "text/html": [
              "<div>\n",
              "<style scoped>\n",
              "    .dataframe tbody tr th:only-of-type {\n",
              "        vertical-align: middle;\n",
              "    }\n",
              "\n",
              "    .dataframe tbody tr th {\n",
              "        vertical-align: top;\n",
              "    }\n",
              "\n",
              "    .dataframe thead tr th {\n",
              "        text-align: left;\n",
              "    }\n",
              "\n",
              "    .dataframe thead tr:last-of-type th {\n",
              "        text-align: right;\n",
              "    }\n",
              "</style>\n",
              "<table border=\"1\" class=\"dataframe\">\n",
              "  <thead>\n",
              "    <tr>\n",
              "      <th></th>\n",
              "      <th>sum</th>\n",
              "      <th>count</th>\n",
              "      <th>mean</th>\n",
              "    </tr>\n",
              "    <tr>\n",
              "      <th></th>\n",
              "      <th>debt</th>\n",
              "      <th>debt</th>\n",
              "      <th></th>\n",
              "    </tr>\n",
              "    <tr>\n",
              "      <th>children</th>\n",
              "      <th></th>\n",
              "      <th></th>\n",
              "      <th></th>\n",
              "    </tr>\n",
              "  </thead>\n",
              "  <tbody>\n",
              "    <tr>\n",
              "      <th>0</th>\n",
              "      <td>1063</td>\n",
              "      <td>14091</td>\n",
              "      <td>0.075438</td>\n",
              "    </tr>\n",
              "    <tr>\n",
              "      <th>1</th>\n",
              "      <td>444</td>\n",
              "      <td>4808</td>\n",
              "      <td>0.092346</td>\n",
              "    </tr>\n",
              "    <tr>\n",
              "      <th>2</th>\n",
              "      <td>194</td>\n",
              "      <td>2052</td>\n",
              "      <td>0.094542</td>\n",
              "    </tr>\n",
              "    <tr>\n",
              "      <th>3</th>\n",
              "      <td>27</td>\n",
              "      <td>330</td>\n",
              "      <td>0.081818</td>\n",
              "    </tr>\n",
              "    <tr>\n",
              "      <th>4</th>\n",
              "      <td>4</td>\n",
              "      <td>41</td>\n",
              "      <td>0.097561</td>\n",
              "    </tr>\n",
              "    <tr>\n",
              "      <th>5</th>\n",
              "      <td>0</td>\n",
              "      <td>9</td>\n",
              "      <td>0.000000</td>\n",
              "    </tr>\n",
              "  </tbody>\n",
              "</table>\n",
              "</div>"
            ],
            "text/plain": [
              "           sum  count      mean\n",
              "          debt   debt          \n",
              "children                       \n",
              "0         1063  14091  0.075438\n",
              "1          444   4808  0.092346\n",
              "2          194   2052  0.094542\n",
              "3           27    330  0.081818\n",
              "4            4     41  0.097561\n",
              "5            0      9  0.000000"
            ]
          },
          "metadata": {},
          "output_type": "display_data"
        }
      ],
      "source": [
        "# Ваш код будет здесь. Вы можете создавать новые ячейки.\n",
        "#import seaborn\n",
        "#seaborn.barplot(x = data['children'], y = data['debt'])\n",
        "data_pivot = data.loc[data['children'] < 3].pivot_table(index = 'children', values = 'debt', aggfunc = ['sum', 'count'])\n",
        "data_pivot['mean'] = data_pivot['sum']/data_pivot['count']\n",
        "display(data_pivot)\n",
        "data_debtors = data.pivot_table(index = 'children', values = 'debt', aggfunc = ['sum','count'])\n",
        "data_debtors['mean'] = data_debtors['sum']/data_debtors['count']\n",
        "display(data_debtors)"
      ]
    },
    {
      "cell_type": "markdown",
      "id": "a9ff038b",
      "metadata": {
        "deletable": false,
        "id": "a9ff038b"
      },
      "source": [
        "**Вывод:** количество детей незначительно влияет на возврат кредита в срок. Данных о многодетных заемщиках очень мало, чтобы сделать точные выводы."
      ]
    },
    {
      "cell_type": "markdown",
      "id": "42620359",
      "metadata": {
        "deletable": false,
        "editable": false,
        "id": "42620359"
      },
      "source": [
        "#### 3.2 Есть ли зависимость между семейным положением и возвратом кредита в срок?"
      ]
    },
    {
      "cell_type": "code",
      "execution_count": null,
      "id": "be334029",
      "metadata": {
        "deletable": false,
        "id": "be334029",
        "outputId": "30d005c4-fa62-4871-937e-63dba76b0e41"
      },
      "outputs": [
        {
          "data": {
            "text/plain": [
              "<AxesSubplot:xlabel='family_status', ylabel='debt'>"
            ]
          },
          "execution_count": 23,
          "metadata": {},
          "output_type": "execute_result"
        },
        {
          "data": {
            "image/png": "[encoded data removed]",
            "text/plain": [
              "<Figure size 432x288 with 1 Axes>"
            ]
          },
          "metadata": {
            "needs_background": "light"
          },
          "output_type": "display_data"
        }
      ],
      "source": [
        "# Ваш код будет здесь. Вы можете создавать новые ячейки.\n",
        "import seaborn\n",
        "seaborn.barplot(x = data['family_status'], y = data['debt'])"
      ]
    },
    {
      "cell_type": "code",
      "execution_count": null,
      "id": "490541fe",
      "metadata": {
        "id": "490541fe",
        "outputId": "117da197-3a92-4950-f8a3-7a23093cdfc0"
      },
      "outputs": [
        {
          "data": {
            "text/plain": [
              "<AxesSubplot:xlabel='debt', ylabel='family_status'>"
            ]
          },
          "execution_count": 24,
          "metadata": {},
          "output_type": "execute_result"
        },
        {
          "data": {
            "image/png": "[encoded data removed]",
            "text/plain": [
              "<Figure size 432x288 with 1 Axes>"
            ]
          },
          "metadata": {
            "needs_background": "light"
          },
          "output_type": "display_data"
        }
      ],
      "source": [
        "seaborn.barplot(x = data['debt'], y = data['family_status'])"
      ]
    },
    {
      "cell_type": "code",
      "execution_count": null,
      "id": "1d47d5bc",
      "metadata": {
        "id": "1d47d5bc",
        "outputId": "48d0d0b2-7bf3-4ea3-c286-2a445466dcca"
      },
      "outputs": [
        {
          "data": {
            "text/html": [
              "<div>\n",
              "<style scoped>\n",
              "    .dataframe tbody tr th:only-of-type {\n",
              "        vertical-align: middle;\n",
              "    }\n",
              "\n",
              "    .dataframe tbody tr th {\n",
              "        vertical-align: top;\n",
              "    }\n",
              "\n",
              "    .dataframe thead tr th {\n",
              "        text-align: left;\n",
              "    }\n",
              "\n",
              "    .dataframe thead tr:last-of-type th {\n",
              "        text-align: right;\n",
              "    }\n",
              "</style>\n",
              "<table border=\"1\" class=\"dataframe\">\n",
              "  <thead>\n",
              "    <tr>\n",
              "      <th></th>\n",
              "      <th>sum</th>\n",
              "      <th>count</th>\n",
              "      <th>mean</th>\n",
              "    </tr>\n",
              "    <tr>\n",
              "      <th></th>\n",
              "      <th>debt</th>\n",
              "      <th>debt</th>\n",
              "      <th></th>\n",
              "    </tr>\n",
              "    <tr>\n",
              "      <th>family_status</th>\n",
              "      <th></th>\n",
              "      <th></th>\n",
              "      <th></th>\n",
              "    </tr>\n",
              "  </thead>\n",
              "  <tbody>\n",
              "    <tr>\n",
              "      <th>Не женат / не замужем</th>\n",
              "      <td>273</td>\n",
              "      <td>2796</td>\n",
              "      <td>0.097639</td>\n",
              "    </tr>\n",
              "    <tr>\n",
              "      <th>в разводе</th>\n",
              "      <td>84</td>\n",
              "      <td>1189</td>\n",
              "      <td>0.070648</td>\n",
              "    </tr>\n",
              "    <tr>\n",
              "      <th>вдовец / вдова</th>\n",
              "      <td>63</td>\n",
              "      <td>951</td>\n",
              "      <td>0.066246</td>\n",
              "    </tr>\n",
              "    <tr>\n",
              "      <th>гражданский брак</th>\n",
              "      <td>385</td>\n",
              "      <td>4134</td>\n",
              "      <td>0.093130</td>\n",
              "    </tr>\n",
              "    <tr>\n",
              "      <th>женат / замужем</th>\n",
              "      <td>927</td>\n",
              "      <td>12261</td>\n",
              "      <td>0.075606</td>\n",
              "    </tr>\n",
              "  </tbody>\n",
              "</table>\n",
              "</div>"
            ],
            "text/plain": [
              "                       sum  count      mean\n",
              "                      debt   debt          \n",
              "family_status                              \n",
              "Не женат / не замужем  273   2796  0.097639\n",
              "в разводе               84   1189  0.070648\n",
              "вдовец / вдова          63    951  0.066246\n",
              "гражданский брак       385   4134  0.093130\n",
              "женат / замужем        927  12261  0.075606"
            ]
          },
          "metadata": {},
          "output_type": "display_data"
        }
      ],
      "source": [
        "data_debtors = data.pivot_table(index = 'family_status', values = 'debt', aggfunc = ['sum','count'])\n",
        "data_debtors['mean'] = data_debtors['sum']/data_debtors['count']\n",
        "display(data_debtors)"
      ]
    },
    {
      "cell_type": "markdown",
      "id": "fbbb6cc3",
      "metadata": {
        "deletable": false,
        "id": "fbbb6cc3"
      },
      "source": [
        "**Вывод:** те, кто не был женат имеют проблемы с возвратом кредита в срок, в отличие от женатых пар. Наиболее часто допускают просрочки неженатые люди. Вероятно, это связано с более юным возрастом и неумением до конца планировать свою жизнь. Наиболее редко допускают просрочки вдовцы, что также может быть связано с возрастом заемщиков"
      ]
    },
    {
      "cell_type": "markdown",
      "id": "6f0382ed",
      "metadata": {
        "deletable": false,
        "editable": false,
        "id": "6f0382ed"
      },
      "source": [
        "#### 3.3 Есть ли зависимость между уровнем дохода и возвратом кредита в срок?"
      ]
    },
    {
      "cell_type": "code",
      "execution_count": null,
      "id": "5ff713f2",
      "metadata": {
        "deletable": false,
        "id": "5ff713f2",
        "outputId": "3114e602-c098-4b33-9831-9b220efd4ebb"
      },
      "outputs": [
        {
          "data": {
            "text/plain": [
              "<AxesSubplot:xlabel='total_income_category', ylabel='debt'>"
            ]
          },
          "execution_count": 26,
          "metadata": {},
          "output_type": "execute_result"
        },
        {
          "data": {
            "image/png": "[encoded data removed]",
            "text/plain": [
              "<Figure size 432x288 with 1 Axes>"
            ]
          },
          "metadata": {
            "needs_background": "light"
          },
          "output_type": "display_data"
        }
      ],
      "source": [
        "# Ваш код будет здесь. Вы можете создавать новые ячейки.\n",
        "import seaborn\n",
        "data_barplot = data.loc[(data['total_income_category'] == 'C') | (data['total_income_category'] == 'B')]\n",
        "seaborn.barplot(x = data_barplot['total_income_category'], y = data_barplot['debt'])"
      ]
    },
    {
      "cell_type": "code",
      "execution_count": null,
      "id": "1de8251d",
      "metadata": {
        "id": "1de8251d",
        "outputId": "14ef5fd4-4526-43a1-8d99-6ec22d5ddaea"
      },
      "outputs": [
        {
          "data": {
            "text/html": [
              "<div>\n",
              "<style scoped>\n",
              "    .dataframe tbody tr th:only-of-type {\n",
              "        vertical-align: middle;\n",
              "    }\n",
              "\n",
              "    .dataframe tbody tr th {\n",
              "        vertical-align: top;\n",
              "    }\n",
              "\n",
              "    .dataframe thead tr th {\n",
              "        text-align: left;\n",
              "    }\n",
              "\n",
              "    .dataframe thead tr:last-of-type th {\n",
              "        text-align: right;\n",
              "    }\n",
              "</style>\n",
              "<table border=\"1\" class=\"dataframe\">\n",
              "  <thead>\n",
              "    <tr>\n",
              "      <th></th>\n",
              "      <th>sum</th>\n",
              "      <th>count</th>\n",
              "      <th>mean</th>\n",
              "    </tr>\n",
              "    <tr>\n",
              "      <th></th>\n",
              "      <th>debt</th>\n",
              "      <th>debt</th>\n",
              "      <th></th>\n",
              "    </tr>\n",
              "    <tr>\n",
              "      <th>total_income_category</th>\n",
              "      <th></th>\n",
              "      <th></th>\n",
              "      <th></th>\n",
              "    </tr>\n",
              "  </thead>\n",
              "  <tbody>\n",
              "    <tr>\n",
              "      <th>A</th>\n",
              "      <td>2</td>\n",
              "      <td>25</td>\n",
              "      <td>0.080000</td>\n",
              "    </tr>\n",
              "    <tr>\n",
              "      <th>B</th>\n",
              "      <td>354</td>\n",
              "      <td>5014</td>\n",
              "      <td>0.070602</td>\n",
              "    </tr>\n",
              "    <tr>\n",
              "      <th>C</th>\n",
              "      <td>1353</td>\n",
              "      <td>15921</td>\n",
              "      <td>0.084982</td>\n",
              "    </tr>\n",
              "    <tr>\n",
              "      <th>D</th>\n",
              "      <td>21</td>\n",
              "      <td>349</td>\n",
              "      <td>0.060172</td>\n",
              "    </tr>\n",
              "    <tr>\n",
              "      <th>E</th>\n",
              "      <td>2</td>\n",
              "      <td>22</td>\n",
              "      <td>0.090909</td>\n",
              "    </tr>\n",
              "  </tbody>\n",
              "</table>\n",
              "</div>"
            ],
            "text/plain": [
              "                        sum  count      mean\n",
              "                       debt   debt          \n",
              "total_income_category                       \n",
              "A                         2     25  0.080000\n",
              "B                       354   5014  0.070602\n",
              "C                      1353  15921  0.084982\n",
              "D                        21    349  0.060172\n",
              "E                         2     22  0.090909"
            ]
          },
          "metadata": {},
          "output_type": "display_data"
        }
      ],
      "source": [
        "data_debtors = data.pivot_table(index = 'total_income_category', values = 'debt', aggfunc = ['sum','count'])\n",
        "data_debtors['mean'] = data_debtors['sum']/data_debtors['count']\n",
        "display(data_debtors)"
      ]
    },
    {
      "cell_type": "markdown",
      "id": "61e042be",
      "metadata": {
        "deletable": false,
        "id": "61e042be"
      },
      "source": [
        "**Вывод:** представители среднего класса B реже допускают просрочек по кредитам"
      ]
    },
    {
      "cell_type": "markdown",
      "id": "9953d329",
      "metadata": {
        "deletable": false,
        "editable": false,
        "id": "9953d329"
      },
      "source": [
        "#### 3.4 Как разные цели кредита влияют на его возврат в срок?"
      ]
    },
    {
      "cell_type": "code",
      "execution_count": null,
      "id": "adc43161",
      "metadata": {
        "deletable": false,
        "id": "adc43161",
        "outputId": "25713183-bd72-405c-c83d-39a148987749"
      },
      "outputs": [
        {
          "data": {
            "text/plain": [
              "<AxesSubplot:xlabel='debt', ylabel='purpose_category'>"
            ]
          },
          "execution_count": 28,
          "metadata": {},
          "output_type": "execute_result"
        },
        {
          "data": {
            "image/png": "[encoded data removed]",
            "text/plain": [
              "<Figure size 432x288 with 1 Axes>"
            ]
          },
          "metadata": {
            "needs_background": "light"
          },
          "output_type": "display_data"
        }
      ],
      "source": [
        "# Ваш код будет здесь. Вы можете создавать новые ячейки.\n",
        "import seaborn\n",
        "seaborn.barplot(x = data['debt'], y = data['purpose_category'])"
      ]
    },
    {
      "cell_type": "code",
      "execution_count": null,
      "id": "7800c7b2",
      "metadata": {
        "id": "7800c7b2",
        "outputId": "cc9ba07f-e079-4bfb-e4eb-9dd44fefaee1"
      },
      "outputs": [
        {
          "data": {
            "text/html": [
              "<div>\n",
              "<style scoped>\n",
              "    .dataframe tbody tr th:only-of-type {\n",
              "        vertical-align: middle;\n",
              "    }\n",
              "\n",
              "    .dataframe tbody tr th {\n",
              "        vertical-align: top;\n",
              "    }\n",
              "\n",
              "    .dataframe thead tr th {\n",
              "        text-align: left;\n",
              "    }\n",
              "\n",
              "    .dataframe thead tr:last-of-type th {\n",
              "        text-align: right;\n",
              "    }\n",
              "</style>\n",
              "<table border=\"1\" class=\"dataframe\">\n",
              "  <thead>\n",
              "    <tr>\n",
              "      <th></th>\n",
              "      <th>sum</th>\n",
              "      <th>count</th>\n",
              "      <th>mean</th>\n",
              "    </tr>\n",
              "    <tr>\n",
              "      <th></th>\n",
              "      <th>debt</th>\n",
              "      <th>debt</th>\n",
              "      <th></th>\n",
              "    </tr>\n",
              "    <tr>\n",
              "      <th>purpose_category</th>\n",
              "      <th></th>\n",
              "      <th></th>\n",
              "      <th></th>\n",
              "    </tr>\n",
              "  </thead>\n",
              "  <tbody>\n",
              "    <tr>\n",
              "      <th>операции с автомобилем</th>\n",
              "      <td>400</td>\n",
              "      <td>4279</td>\n",
              "      <td>0.093480</td>\n",
              "    </tr>\n",
              "    <tr>\n",
              "      <th>операции с недвижимостью</th>\n",
              "      <td>780</td>\n",
              "      <td>10751</td>\n",
              "      <td>0.072551</td>\n",
              "    </tr>\n",
              "    <tr>\n",
              "      <th>получение образования</th>\n",
              "      <td>369</td>\n",
              "      <td>3988</td>\n",
              "      <td>0.092528</td>\n",
              "    </tr>\n",
              "    <tr>\n",
              "      <th>проведение свадьбы</th>\n",
              "      <td>183</td>\n",
              "      <td>2313</td>\n",
              "      <td>0.079118</td>\n",
              "    </tr>\n",
              "  </tbody>\n",
              "</table>\n",
              "</div>"
            ],
            "text/plain": [
              "                          sum  count      mean\n",
              "                         debt   debt          \n",
              "purpose_category                              \n",
              "операции с автомобилем    400   4279  0.093480\n",
              "операции с недвижимостью  780  10751  0.072551\n",
              "получение образования     369   3988  0.092528\n",
              "проведение свадьбы        183   2313  0.079118"
            ]
          },
          "metadata": {},
          "output_type": "display_data"
        }
      ],
      "source": [
        "data_debtors = data.pivot_table(index = 'purpose_category', values = 'debt', aggfunc = ['sum','count'])\n",
        "data_debtors['mean'] = data_debtors['sum']/data_debtors['count']\n",
        "display(data_debtors)"
      ]
    },
    {
      "cell_type": "markdown",
      "id": "63b46b56",
      "metadata": {
        "deletable": false,
        "id": "63b46b56"
      },
      "source": [
        "**Вывод:** кредиты, взятые на приобретение автомобиля или на получение образования наиболее подвержены риску невозврата. Объяснить можно тем, что данные категории не могут давать никаких гарантий. Автомобиль может создать для заемщика дополнительные расходы. Оплата образования еще не означает ее получения, качество образования и востребованность будущего специалиста зависит от индивидуальных качеств заемщика."
      ]
    },
    {
      "cell_type": "markdown",
      "id": "96d7ac4b",
      "metadata": {
        "deletable": false,
        "editable": false,
        "id": "96d7ac4b"
      },
      "source": [
        "#### 3.5 Приведите возможные причины появления пропусков в исходных данных."
      ]
    },
    {
      "cell_type": "markdown",
      "id": "ae1f09ec",
      "metadata": {
        "deletable": false,
        "id": "ae1f09ec"
      },
      "source": [
        "*Ответ:* данные могли быть утеряны при копировании или выгрузке или не быть указаны самими заемщиками"
      ]
    },
    {
      "cell_type": "markdown",
      "id": "9d762147",
      "metadata": {
        "deletable": false,
        "editable": false,
        "id": "9d762147"
      },
      "source": [
        "#### 3.6 Объясните, почему заполнить пропуски медианным значением — лучшее решение для количественных переменных."
      ]
    },
    {
      "cell_type": "markdown",
      "id": "2b09165d",
      "metadata": {
        "deletable": false,
        "id": "2b09165d"
      },
      "source": [
        "*Ответ:* медиана наиболее точно отражает среднюю величину в наборе данных, так как аномально большие и аномально маленькие значения отсеиваются самыми первыми."
      ]
    },
    {
      "cell_type": "markdown",
      "id": "f1c317ef",
      "metadata": {
        "deletable": false,
        "editable": false,
        "id": "f1c317ef"
      },
      "source": [
        "### Шаг 4: общий вывод."
      ]
    },
    {
      "cell_type": "markdown",
      "id": "c4032cbb",
      "metadata": {
        "deletable": false,
        "id": "c4032cbb"
      },
      "source": [
        "В данной работе была обработана информация о кредитах. Для этого была проведена предобработка данных: были проверены типы данных, заполнены пропуски.\n",
        "В ходе исследования было выявлено, что на платежеспособность заемщика влияет множество факторов: семейное положение, уровень дохода, количество детей, а также цель кредита. Так, женатые пары меньше подвержены риску невозврата кредита. Кредиты, выданные на покупку недвижимости или оплату свадьбы будут возвращены с большей вероятностью, чем кредиты, выданные на покупку автомобиля или оплату образования.\n",
        "Для того, чтобы исключить в дальнейшем пропуски в данных заказчик может создать электронную форму, где потенциальный заемщик может выбирать те или иные позиции, так будет меньше опечаток в данных и при переносе их в другие системы ничего не будет утеряно."
      ]
    },
    {
      "cell_type": "code",
      "source": [],
      "metadata": {
        "id": "3NAcPZzNhoL9"
      },
      "id": "3NAcPZzNhoL9",
      "execution_count": null,
      "outputs": []
    }
  ],
  "metadata": {
    "ExecuteTimeLog": [
      {
        "duration": 416,
        "start_time": "2022-12-03T18:07:36.942Z"
      },
      {
        "duration": 22,
        "start_time": "2022-12-03T18:07:39.034Z"
      },
      {
        "duration": 15,
        "start_time": "2022-12-03T18:07:44.034Z"
      },
      {
        "duration": 12,
        "start_time": "2022-12-03T18:07:47.883Z"
      },
      {
        "duration": 52,
        "start_time": "2022-12-03T18:07:50.045Z"
      },
      {
        "duration": 4,
        "start_time": "2022-12-03T18:07:50.657Z"
      },
      {
        "duration": 7,
        "start_time": "2022-12-03T18:07:51.009Z"
      },
      {
        "duration": 4,
        "start_time": "2022-12-03T18:07:52.409Z"
      },
      {
        "duration": 7,
        "start_time": "2022-12-03T18:07:53.258Z"
      },
      {
        "duration": 5,
        "start_time": "2022-12-03T18:07:54.008Z"
      },
      {
        "duration": 31,
        "start_time": "2022-12-03T18:07:54.534Z"
      },
      {
        "duration": 9,
        "start_time": "2022-12-03T18:07:55.008Z"
      },
      {
        "duration": 4,
        "start_time": "2022-12-03T18:07:55.758Z"
      },
      {
        "duration": 11,
        "start_time": "2022-12-03T18:07:56.383Z"
      },
      {
        "duration": 20,
        "start_time": "2022-12-03T18:07:56.783Z"
      },
      {
        "duration": 18,
        "start_time": "2022-12-03T18:07:57.009Z"
      },
      {
        "duration": 3,
        "start_time": "2022-12-03T18:07:57.633Z"
      },
      {
        "duration": 10,
        "start_time": "2022-12-03T18:07:57.833Z"
      },
      {
        "duration": 6,
        "start_time": "2022-12-03T18:07:58.259Z"
      },
      {
        "duration": 4,
        "start_time": "2022-12-03T18:07:58.658Z"
      },
      {
        "duration": 9,
        "start_time": "2022-12-03T18:07:58.883Z"
      },
      {
        "duration": 2,
        "start_time": "2022-12-03T18:08:00.136Z"
      },
      {
        "duration": 1271,
        "start_time": "2022-12-03T18:13:03.490Z"
      },
      {
        "duration": 453,
        "start_time": "2022-12-03T18:16:36.038Z"
      },
      {
        "duration": 169,
        "start_time": "2022-12-03T18:16:49.995Z"
      },
      {
        "duration": 471,
        "start_time": "2022-12-03T18:17:53.094Z"
      },
      {
        "duration": 316,
        "start_time": "2022-12-03T18:19:51.663Z"
      },
      {
        "duration": 342,
        "start_time": "2022-12-03T18:20:06.637Z"
      },
      {
        "duration": 48,
        "start_time": "2022-12-03T18:25:50.213Z"
      },
      {
        "duration": 320,
        "start_time": "2022-12-03T18:25:58.648Z"
      },
      {
        "duration": 375,
        "start_time": "2022-12-03T18:27:28.190Z"
      },
      {
        "duration": 310,
        "start_time": "2022-12-03T18:28:08.514Z"
      },
      {
        "duration": 14,
        "start_time": "2022-12-03T18:42:42.878Z"
      },
      {
        "duration": 8,
        "start_time": "2022-12-03T18:42:54.625Z"
      },
      {
        "duration": 12,
        "start_time": "2022-12-03T18:42:56.542Z"
      },
      {
        "duration": 463,
        "start_time": "2022-12-03T18:43:11.014Z"
      },
      {
        "duration": 26,
        "start_time": "2022-12-03T18:43:11.479Z"
      },
      {
        "duration": 15,
        "start_time": "2022-12-03T18:43:11.507Z"
      },
      {
        "duration": 10,
        "start_time": "2022-12-03T18:43:11.524Z"
      },
      {
        "duration": 34,
        "start_time": "2022-12-03T18:43:11.536Z"
      },
      {
        "duration": 25,
        "start_time": "2022-12-03T18:43:11.572Z"
      },
      {
        "duration": 9,
        "start_time": "2022-12-03T18:43:11.599Z"
      },
      {
        "duration": 4,
        "start_time": "2022-12-03T18:43:11.610Z"
      },
      {
        "duration": 9,
        "start_time": "2022-12-03T18:43:11.616Z"
      },
      {
        "duration": 5,
        "start_time": "2022-12-03T18:43:11.627Z"
      },
      {
        "duration": 65,
        "start_time": "2022-12-03T18:43:11.633Z"
      },
      {
        "duration": 11,
        "start_time": "2022-12-03T18:43:11.700Z"
      },
      {
        "duration": 3,
        "start_time": "2022-12-03T18:43:11.713Z"
      },
      {
        "duration": 13,
        "start_time": "2022-12-03T18:43:11.718Z"
      },
      {
        "duration": 21,
        "start_time": "2022-12-03T18:43:11.733Z"
      },
      {
        "duration": 50,
        "start_time": "2022-12-03T18:43:11.756Z"
      },
      {
        "duration": 4,
        "start_time": "2022-12-03T18:43:11.807Z"
      },
      {
        "duration": 13,
        "start_time": "2022-12-03T18:43:11.812Z"
      },
      {
        "duration": 6,
        "start_time": "2022-12-03T18:43:11.827Z"
      },
      {
        "duration": 4,
        "start_time": "2022-12-03T18:43:11.835Z"
      },
      {
        "duration": 14,
        "start_time": "2022-12-03T18:43:11.841Z"
      },
      {
        "duration": 1162,
        "start_time": "2022-12-03T18:43:11.856Z"
      },
      {
        "duration": 367,
        "start_time": "2022-12-03T18:43:13.019Z"
      },
      {
        "duration": 332,
        "start_time": "2022-12-03T18:43:13.388Z"
      },
      {
        "duration": 340,
        "start_time": "2022-12-03T18:43:13.721Z"
      },
      {
        "duration": 12,
        "start_time": "2022-12-03T18:43:56.193Z"
      },
      {
        "duration": 7,
        "start_time": "2022-12-03T18:44:11.797Z"
      },
      {
        "duration": 131,
        "start_time": "2022-12-03T18:44:36.075Z"
      },
      {
        "duration": 21,
        "start_time": "2022-12-03T18:44:46.418Z"
      },
      {
        "duration": 437,
        "start_time": "2022-12-03T18:45:19.841Z"
      },
      {
        "duration": 28,
        "start_time": "2022-12-03T18:45:20.281Z"
      },
      {
        "duration": 15,
        "start_time": "2022-12-03T18:45:20.311Z"
      },
      {
        "duration": 13,
        "start_time": "2022-12-03T18:45:20.331Z"
      },
      {
        "duration": 53,
        "start_time": "2022-12-03T18:45:20.345Z"
      },
      {
        "duration": 4,
        "start_time": "2022-12-03T18:45:20.400Z"
      },
      {
        "duration": 14,
        "start_time": "2022-12-03T18:45:20.406Z"
      },
      {
        "duration": 5,
        "start_time": "2022-12-03T18:45:20.422Z"
      },
      {
        "duration": 12,
        "start_time": "2022-12-03T18:45:20.428Z"
      },
      {
        "duration": 6,
        "start_time": "2022-12-03T18:45:20.443Z"
      },
      {
        "duration": 65,
        "start_time": "2022-12-03T18:45:20.450Z"
      },
      {
        "duration": 9,
        "start_time": "2022-12-03T18:45:20.516Z"
      },
      {
        "duration": 4,
        "start_time": "2022-12-03T18:45:20.527Z"
      },
      {
        "duration": 13,
        "start_time": "2022-12-03T18:45:20.533Z"
      },
      {
        "duration": 23,
        "start_time": "2022-12-03T18:45:20.547Z"
      },
      {
        "duration": 36,
        "start_time": "2022-12-03T18:45:20.571Z"
      },
      {
        "duration": 4,
        "start_time": "2022-12-03T18:45:20.609Z"
      },
      {
        "duration": 13,
        "start_time": "2022-12-03T18:45:20.614Z"
      },
      {
        "duration": 5,
        "start_time": "2022-12-03T18:45:20.628Z"
      },
      {
        "duration": 3,
        "start_time": "2022-12-03T18:45:20.635Z"
      },
      {
        "duration": 10,
        "start_time": "2022-12-03T18:45:20.639Z"
      },
      {
        "duration": 1149,
        "start_time": "2022-12-03T18:45:20.651Z"
      },
      {
        "duration": 358,
        "start_time": "2022-12-03T18:45:21.801Z"
      },
      {
        "duration": 326,
        "start_time": "2022-12-03T18:45:22.160Z"
      },
      {
        "duration": 316,
        "start_time": "2022-12-03T18:45:22.489Z"
      },
      {
        "duration": 512,
        "start_time": "2022-12-03T19:02:41.465Z"
      },
      {
        "duration": 24,
        "start_time": "2022-12-03T19:02:41.979Z"
      },
      {
        "duration": 24,
        "start_time": "2022-12-03T19:02:42.005Z"
      },
      {
        "duration": 17,
        "start_time": "2022-12-03T19:02:42.051Z"
      },
      {
        "duration": 61,
        "start_time": "2022-12-03T19:02:42.069Z"
      },
      {
        "duration": 5,
        "start_time": "2022-12-03T19:02:42.131Z"
      },
      {
        "duration": 26,
        "start_time": "2022-12-03T19:02:42.138Z"
      },
      {
        "duration": 29,
        "start_time": "2022-12-03T19:02:42.166Z"
      },
      {
        "duration": 31,
        "start_time": "2022-12-03T19:02:42.198Z"
      },
      {
        "duration": 17,
        "start_time": "2022-12-03T19:02:42.232Z"
      },
      {
        "duration": 61,
        "start_time": "2022-12-03T19:02:42.251Z"
      },
      {
        "duration": 12,
        "start_time": "2022-12-03T19:02:42.314Z"
      },
      {
        "duration": 15,
        "start_time": "2022-12-03T19:02:42.328Z"
      },
      {
        "duration": 35,
        "start_time": "2022-12-03T19:02:42.344Z"
      },
      {
        "duration": 31,
        "start_time": "2022-12-03T19:02:42.380Z"
      },
      {
        "duration": 27,
        "start_time": "2022-12-03T19:02:42.413Z"
      },
      {
        "duration": 10,
        "start_time": "2022-12-03T19:02:42.442Z"
      },
      {
        "duration": 34,
        "start_time": "2022-12-03T19:02:42.454Z"
      },
      {
        "duration": 17,
        "start_time": "2022-12-03T19:02:42.489Z"
      },
      {
        "duration": 23,
        "start_time": "2022-12-03T19:02:42.508Z"
      },
      {
        "duration": 59,
        "start_time": "2022-12-03T19:02:42.533Z"
      },
      {
        "duration": 1222,
        "start_time": "2022-12-03T19:02:42.594Z"
      },
      {
        "duration": 391,
        "start_time": "2022-12-03T19:02:43.817Z"
      },
      {
        "duration": 367,
        "start_time": "2022-12-03T19:02:44.210Z"
      },
      {
        "duration": 358,
        "start_time": "2022-12-03T19:02:44.579Z"
      },
      {
        "duration": 109,
        "start_time": "2022-12-03T19:07:50.364Z"
      },
      {
        "duration": 376,
        "start_time": "2022-12-03T19:15:42.539Z"
      },
      {
        "duration": 95,
        "start_time": "2022-12-03T19:44:58.162Z"
      },
      {
        "duration": 19,
        "start_time": "2022-12-03T19:46:44.609Z"
      },
      {
        "duration": 18,
        "start_time": "2022-12-03T19:47:41.550Z"
      },
      {
        "duration": 12,
        "start_time": "2022-12-03T19:48:54.835Z"
      },
      {
        "duration": 19,
        "start_time": "2022-12-03T19:49:10.207Z"
      },
      {
        "duration": 19,
        "start_time": "2022-12-03T19:49:14.126Z"
      },
      {
        "duration": 22,
        "start_time": "2022-12-03T19:49:27.308Z"
      },
      {
        "duration": 19,
        "start_time": "2022-12-03T19:49:28.374Z"
      },
      {
        "duration": 19,
        "start_time": "2022-12-03T19:49:41.350Z"
      },
      {
        "duration": 20,
        "start_time": "2022-12-03T19:49:43.824Z"
      },
      {
        "duration": 14,
        "start_time": "2022-12-03T19:56:15.794Z"
      },
      {
        "duration": 13,
        "start_time": "2022-12-03T19:56:51.003Z"
      },
      {
        "duration": 19,
        "start_time": "2022-12-03T19:57:27.451Z"
      },
      {
        "duration": 17,
        "start_time": "2022-12-03T19:57:46.554Z"
      },
      {
        "duration": 84,
        "start_time": "2022-12-04T04:00:18.039Z"
      },
      {
        "duration": 81,
        "start_time": "2022-12-04T04:00:48.912Z"
      },
      {
        "duration": 67,
        "start_time": "2022-12-04T04:01:10.560Z"
      },
      {
        "duration": 95,
        "start_time": "2022-12-04T04:01:35.778Z"
      },
      {
        "duration": 77,
        "start_time": "2022-12-04T04:01:47.103Z"
      },
      {
        "duration": 56,
        "start_time": "2022-12-04T04:02:08.803Z"
      },
      {
        "duration": 511,
        "start_time": "2022-12-04T04:02:19.342Z"
      },
      {
        "duration": 20,
        "start_time": "2022-12-04T04:02:19.855Z"
      },
      {
        "duration": 14,
        "start_time": "2022-12-04T04:02:19.877Z"
      },
      {
        "duration": 8,
        "start_time": "2022-12-04T04:02:19.894Z"
      },
      {
        "duration": 30,
        "start_time": "2022-12-04T04:02:19.904Z"
      },
      {
        "duration": 4,
        "start_time": "2022-12-04T04:02:19.936Z"
      },
      {
        "duration": 38,
        "start_time": "2022-12-04T04:02:19.941Z"
      },
      {
        "duration": 4,
        "start_time": "2022-12-04T04:02:19.980Z"
      },
      {
        "duration": 10,
        "start_time": "2022-12-04T04:02:19.985Z"
      },
      {
        "duration": 4,
        "start_time": "2022-12-04T04:02:19.998Z"
      },
      {
        "duration": 33,
        "start_time": "2022-12-04T04:02:20.004Z"
      },
      {
        "duration": 11,
        "start_time": "2022-12-04T04:02:20.038Z"
      },
      {
        "duration": 4,
        "start_time": "2022-12-04T04:02:20.078Z"
      },
      {
        "duration": 27,
        "start_time": "2022-12-04T04:02:20.084Z"
      },
      {
        "duration": 27,
        "start_time": "2022-12-04T04:02:20.113Z"
      },
      {
        "duration": 29,
        "start_time": "2022-12-04T04:02:20.142Z"
      },
      {
        "duration": 4,
        "start_time": "2022-12-04T04:02:20.173Z"
      },
      {
        "duration": 40,
        "start_time": "2022-12-04T04:02:20.179Z"
      },
      {
        "duration": 14,
        "start_time": "2022-12-04T04:02:20.221Z"
      },
      {
        "duration": 7,
        "start_time": "2022-12-04T04:02:20.237Z"
      },
      {
        "duration": 37,
        "start_time": "2022-12-04T04:02:20.247Z"
      },
      {
        "duration": 81,
        "start_time": "2022-12-04T04:02:20.286Z"
      },
      {
        "duration": 0,
        "start_time": "2022-12-04T04:02:20.369Z"
      },
      {
        "duration": 0,
        "start_time": "2022-12-04T04:02:20.370Z"
      },
      {
        "duration": 0,
        "start_time": "2022-12-04T04:02:20.378Z"
      },
      {
        "duration": 0,
        "start_time": "2022-12-04T04:02:20.379Z"
      },
      {
        "duration": 23,
        "start_time": "2022-12-04T04:03:09.629Z"
      },
      {
        "duration": 20,
        "start_time": "2022-12-04T04:03:35.704Z"
      },
      {
        "duration": 90,
        "start_time": "2022-12-04T04:04:00.528Z"
      },
      {
        "duration": 10,
        "start_time": "2022-12-04T04:04:43.485Z"
      },
      {
        "duration": 3,
        "start_time": "2022-12-04T04:04:46.777Z"
      },
      {
        "duration": 11,
        "start_time": "2022-12-04T04:04:48.852Z"
      },
      {
        "duration": 20,
        "start_time": "2022-12-04T04:04:51.328Z"
      },
      {
        "duration": 20,
        "start_time": "2022-12-04T04:04:53.403Z"
      },
      {
        "duration": 445,
        "start_time": "2022-12-04T04:05:01.945Z"
      },
      {
        "duration": 22,
        "start_time": "2022-12-04T04:05:02.392Z"
      },
      {
        "duration": 14,
        "start_time": "2022-12-04T04:05:02.416Z"
      },
      {
        "duration": 8,
        "start_time": "2022-12-04T04:05:02.432Z"
      },
      {
        "duration": 61,
        "start_time": "2022-12-04T04:05:02.441Z"
      },
      {
        "duration": 3,
        "start_time": "2022-12-04T04:05:02.503Z"
      },
      {
        "duration": 11,
        "start_time": "2022-12-04T04:05:02.508Z"
      },
      {
        "duration": 5,
        "start_time": "2022-12-04T04:05:02.521Z"
      },
      {
        "duration": 8,
        "start_time": "2022-12-04T04:05:02.527Z"
      },
      {
        "duration": 4,
        "start_time": "2022-12-04T04:05:02.539Z"
      },
      {
        "duration": 55,
        "start_time": "2022-12-04T04:05:02.544Z"
      },
      {
        "duration": 9,
        "start_time": "2022-12-04T04:05:02.600Z"
      },
      {
        "duration": 11,
        "start_time": "2022-12-04T04:05:02.611Z"
      },
      {
        "duration": 15,
        "start_time": "2022-12-04T04:05:02.624Z"
      },
      {
        "duration": 18,
        "start_time": "2022-12-04T04:05:02.641Z"
      },
      {
        "duration": 33,
        "start_time": "2022-12-04T04:05:02.661Z"
      },
      {
        "duration": 4,
        "start_time": "2022-12-04T04:05:02.696Z"
      },
      {
        "duration": 13,
        "start_time": "2022-12-04T04:05:02.702Z"
      },
      {
        "duration": 12,
        "start_time": "2022-12-04T04:05:02.718Z"
      },
      {
        "duration": 4,
        "start_time": "2022-12-04T04:05:02.731Z"
      },
      {
        "duration": 15,
        "start_time": "2022-12-04T04:05:02.736Z"
      },
      {
        "duration": 96,
        "start_time": "2022-12-04T04:05:02.752Z"
      },
      {
        "duration": 1464,
        "start_time": "2022-12-04T04:05:02.850Z"
      },
      {
        "duration": 322,
        "start_time": "2022-12-04T04:05:04.316Z"
      },
      {
        "duration": 300,
        "start_time": "2022-12-04T04:05:04.639Z"
      },
      {
        "duration": 306,
        "start_time": "2022-12-04T04:05:04.941Z"
      },
      {
        "duration": 102,
        "start_time": "2022-12-04T04:05:43.329Z"
      },
      {
        "duration": 21,
        "start_time": "2022-12-04T04:05:53.080Z"
      },
      {
        "duration": 20,
        "start_time": "2022-12-04T04:06:38.905Z"
      },
      {
        "duration": 35,
        "start_time": "2022-12-04T04:07:22.681Z"
      },
      {
        "duration": 18,
        "start_time": "2022-12-04T04:07:59.431Z"
      },
      {
        "duration": 29,
        "start_time": "2022-12-04T04:08:40.355Z"
      },
      {
        "duration": 13,
        "start_time": "2022-12-04T04:09:56.930Z"
      },
      {
        "duration": 15,
        "start_time": "2022-12-04T04:10:21.261Z"
      },
      {
        "duration": 455,
        "start_time": "2022-12-04T04:14:23.612Z"
      },
      {
        "duration": 20,
        "start_time": "2022-12-04T04:14:24.069Z"
      },
      {
        "duration": 14,
        "start_time": "2022-12-04T04:14:24.091Z"
      },
      {
        "duration": 9,
        "start_time": "2022-12-04T04:14:24.106Z"
      },
      {
        "duration": 32,
        "start_time": "2022-12-04T04:14:24.117Z"
      },
      {
        "duration": 4,
        "start_time": "2022-12-04T04:14:24.150Z"
      },
      {
        "duration": 29,
        "start_time": "2022-12-04T04:14:24.155Z"
      },
      {
        "duration": 12,
        "start_time": "2022-12-04T04:14:24.185Z"
      },
      {
        "duration": 11,
        "start_time": "2022-12-04T04:14:24.199Z"
      },
      {
        "duration": 4,
        "start_time": "2022-12-04T04:14:24.212Z"
      },
      {
        "duration": 36,
        "start_time": "2022-12-04T04:14:24.218Z"
      },
      {
        "duration": 23,
        "start_time": "2022-12-04T04:14:24.256Z"
      },
      {
        "duration": 3,
        "start_time": "2022-12-04T04:14:24.281Z"
      },
      {
        "duration": 11,
        "start_time": "2022-12-04T04:14:24.286Z"
      },
      {
        "duration": 20,
        "start_time": "2022-12-04T04:14:24.298Z"
      },
      {
        "duration": 16,
        "start_time": "2022-12-04T04:14:24.320Z"
      },
      {
        "duration": 3,
        "start_time": "2022-12-04T04:14:24.338Z"
      },
      {
        "duration": 38,
        "start_time": "2022-12-04T04:14:24.342Z"
      },
      {
        "duration": 7,
        "start_time": "2022-12-04T04:14:24.382Z"
      },
      {
        "duration": 7,
        "start_time": "2022-12-04T04:14:24.391Z"
      },
      {
        "duration": 13,
        "start_time": "2022-12-04T04:14:24.399Z"
      },
      {
        "duration": 75,
        "start_time": "2022-12-04T04:14:24.413Z"
      },
      {
        "duration": 0,
        "start_time": "2022-12-04T04:14:24.490Z"
      },
      {
        "duration": 0,
        "start_time": "2022-12-04T04:14:24.491Z"
      },
      {
        "duration": 0,
        "start_time": "2022-12-04T04:14:24.493Z"
      },
      {
        "duration": 0,
        "start_time": "2022-12-04T04:14:24.494Z"
      },
      {
        "duration": 474,
        "start_time": "2022-12-04T04:45:41.970Z"
      },
      {
        "duration": 22,
        "start_time": "2022-12-04T04:45:42.446Z"
      },
      {
        "duration": 15,
        "start_time": "2022-12-04T04:45:42.469Z"
      },
      {
        "duration": 10,
        "start_time": "2022-12-04T04:45:42.487Z"
      },
      {
        "duration": 30,
        "start_time": "2022-12-04T04:45:42.499Z"
      },
      {
        "duration": 3,
        "start_time": "2022-12-04T04:45:42.531Z"
      },
      {
        "duration": 12,
        "start_time": "2022-12-04T04:45:42.536Z"
      },
      {
        "duration": 30,
        "start_time": "2022-12-04T04:45:42.549Z"
      },
      {
        "duration": 12,
        "start_time": "2022-12-04T04:45:42.580Z"
      },
      {
        "duration": 4,
        "start_time": "2022-12-04T04:45:42.596Z"
      },
      {
        "duration": 35,
        "start_time": "2022-12-04T04:45:42.602Z"
      },
      {
        "duration": 9,
        "start_time": "2022-12-04T04:45:42.638Z"
      },
      {
        "duration": 7,
        "start_time": "2022-12-04T04:45:42.649Z"
      },
      {
        "duration": 29,
        "start_time": "2022-12-04T04:45:42.657Z"
      },
      {
        "duration": 19,
        "start_time": "2022-12-04T04:45:42.688Z"
      },
      {
        "duration": 16,
        "start_time": "2022-12-04T04:45:42.709Z"
      },
      {
        "duration": 3,
        "start_time": "2022-12-04T04:45:42.727Z"
      },
      {
        "duration": 16,
        "start_time": "2022-12-04T04:45:42.732Z"
      },
      {
        "duration": 30,
        "start_time": "2022-12-04T04:45:42.750Z"
      },
      {
        "duration": 4,
        "start_time": "2022-12-04T04:45:42.782Z"
      },
      {
        "duration": 14,
        "start_time": "2022-12-04T04:45:42.787Z"
      },
      {
        "duration": 65,
        "start_time": "2022-12-04T04:45:42.803Z"
      },
      {
        "duration": 0,
        "start_time": "2022-12-04T04:45:42.870Z"
      },
      {
        "duration": 0,
        "start_time": "2022-12-04T04:45:42.872Z"
      },
      {
        "duration": 0,
        "start_time": "2022-12-04T04:45:42.872Z"
      },
      {
        "duration": 0,
        "start_time": "2022-12-04T04:45:42.874Z"
      },
      {
        "duration": 34,
        "start_time": "2022-12-04T04:46:34.585Z"
      },
      {
        "duration": 24,
        "start_time": "2022-12-04T04:47:54.011Z"
      },
      {
        "duration": 30,
        "start_time": "2022-12-04T04:48:03.809Z"
      },
      {
        "duration": 1210,
        "start_time": "2022-12-04T04:48:35.536Z"
      },
      {
        "duration": 1197,
        "start_time": "2022-12-04T04:48:54.185Z"
      },
      {
        "duration": 1128,
        "start_time": "2022-12-04T04:48:57.036Z"
      },
      {
        "duration": 32,
        "start_time": "2022-12-04T04:49:15.867Z"
      },
      {
        "duration": 40,
        "start_time": "2022-12-04T04:53:21.136Z"
      },
      {
        "duration": 25,
        "start_time": "2022-12-04T04:53:35.587Z"
      },
      {
        "duration": 24,
        "start_time": "2022-12-04T04:53:37.512Z"
      },
      {
        "duration": 26,
        "start_time": "2022-12-04T04:53:50.511Z"
      },
      {
        "duration": 30,
        "start_time": "2022-12-04T04:54:11.812Z"
      },
      {
        "duration": 11,
        "start_time": "2022-12-04T05:04:01.141Z"
      },
      {
        "duration": 564,
        "start_time": "2022-12-04T05:04:17.769Z"
      },
      {
        "duration": 20,
        "start_time": "2022-12-04T05:04:18.335Z"
      },
      {
        "duration": 19,
        "start_time": "2022-12-04T05:04:18.359Z"
      },
      {
        "duration": 37,
        "start_time": "2022-12-04T05:04:18.379Z"
      },
      {
        "duration": 58,
        "start_time": "2022-12-04T05:04:18.417Z"
      },
      {
        "duration": 5,
        "start_time": "2022-12-04T05:04:18.477Z"
      },
      {
        "duration": 42,
        "start_time": "2022-12-04T05:04:18.484Z"
      },
      {
        "duration": 13,
        "start_time": "2022-12-04T05:04:18.528Z"
      },
      {
        "duration": 35,
        "start_time": "2022-12-04T05:04:18.545Z"
      },
      {
        "duration": 10,
        "start_time": "2022-12-04T05:04:18.582Z"
      },
      {
        "duration": 57,
        "start_time": "2022-12-04T05:04:18.593Z"
      },
      {
        "duration": 10,
        "start_time": "2022-12-04T05:04:18.652Z"
      },
      {
        "duration": 31,
        "start_time": "2022-12-04T05:04:18.663Z"
      },
      {
        "duration": 39,
        "start_time": "2022-12-04T05:04:18.696Z"
      },
      {
        "duration": 41,
        "start_time": "2022-12-04T05:04:18.737Z"
      },
      {
        "duration": 39,
        "start_time": "2022-12-04T05:04:18.780Z"
      },
      {
        "duration": 3,
        "start_time": "2022-12-04T05:04:18.821Z"
      },
      {
        "duration": 54,
        "start_time": "2022-12-04T05:04:18.826Z"
      },
      {
        "duration": 40,
        "start_time": "2022-12-04T05:04:18.882Z"
      },
      {
        "duration": 36,
        "start_time": "2022-12-04T05:04:18.924Z"
      },
      {
        "duration": 29,
        "start_time": "2022-12-04T05:04:18.962Z"
      },
      {
        "duration": 139,
        "start_time": "2022-12-04T05:04:18.992Z"
      },
      {
        "duration": 0,
        "start_time": "2022-12-04T05:04:19.133Z"
      },
      {
        "duration": 0,
        "start_time": "2022-12-04T05:04:19.134Z"
      },
      {
        "duration": 0,
        "start_time": "2022-12-04T05:04:19.136Z"
      },
      {
        "duration": 0,
        "start_time": "2022-12-04T05:04:19.137Z"
      },
      {
        "duration": 11,
        "start_time": "2022-12-04T05:04:29.868Z"
      },
      {
        "duration": 10,
        "start_time": "2022-12-04T05:04:50.813Z"
      },
      {
        "duration": 10,
        "start_time": "2022-12-04T05:05:10.337Z"
      },
      {
        "duration": 10,
        "start_time": "2022-12-04T05:05:51.563Z"
      },
      {
        "duration": 10,
        "start_time": "2022-12-04T05:06:04.387Z"
      },
      {
        "duration": 11,
        "start_time": "2022-12-04T05:06:12.038Z"
      },
      {
        "duration": 10,
        "start_time": "2022-12-04T05:06:20.087Z"
      },
      {
        "duration": 29,
        "start_time": "2022-12-04T05:06:44.737Z"
      },
      {
        "duration": 16,
        "start_time": "2022-12-04T05:06:56.137Z"
      },
      {
        "duration": 12,
        "start_time": "2022-12-04T05:07:05.863Z"
      },
      {
        "duration": 18,
        "start_time": "2022-12-04T05:07:12.812Z"
      },
      {
        "duration": 15,
        "start_time": "2022-12-04T05:07:29.463Z"
      },
      {
        "duration": 10,
        "start_time": "2022-12-04T05:08:40.691Z"
      },
      {
        "duration": 18,
        "start_time": "2022-12-04T05:08:45.714Z"
      },
      {
        "duration": 18,
        "start_time": "2022-12-04T05:08:48.298Z"
      },
      {
        "duration": 20,
        "start_time": "2022-12-04T05:08:51.763Z"
      },
      {
        "duration": 19,
        "start_time": "2022-12-04T05:10:01.314Z"
      },
      {
        "duration": 28,
        "start_time": "2022-12-04T05:27:01.965Z"
      },
      {
        "duration": 24,
        "start_time": "2022-12-04T05:27:09.664Z"
      },
      {
        "duration": 8,
        "start_time": "2022-12-04T05:30:38.764Z"
      },
      {
        "duration": 465,
        "start_time": "2022-12-04T05:30:46.919Z"
      },
      {
        "duration": 21,
        "start_time": "2022-12-04T05:30:47.386Z"
      },
      {
        "duration": 21,
        "start_time": "2022-12-04T05:30:47.408Z"
      },
      {
        "duration": 12,
        "start_time": "2022-12-04T05:30:47.431Z"
      },
      {
        "duration": 64,
        "start_time": "2022-12-04T05:30:47.444Z"
      },
      {
        "duration": 3,
        "start_time": "2022-12-04T05:30:47.510Z"
      },
      {
        "duration": 16,
        "start_time": "2022-12-04T05:30:47.515Z"
      },
      {
        "duration": 11,
        "start_time": "2022-12-04T05:30:47.532Z"
      },
      {
        "duration": 9,
        "start_time": "2022-12-04T05:30:47.545Z"
      },
      {
        "duration": 20,
        "start_time": "2022-12-04T05:30:47.558Z"
      },
      {
        "duration": 30,
        "start_time": "2022-12-04T05:30:47.580Z"
      },
      {
        "duration": 10,
        "start_time": "2022-12-04T05:30:47.613Z"
      },
      {
        "duration": 9,
        "start_time": "2022-12-04T05:30:47.624Z"
      },
      {
        "duration": 19,
        "start_time": "2022-12-04T05:30:47.634Z"
      },
      {
        "duration": 41,
        "start_time": "2022-12-04T05:30:47.655Z"
      },
      {
        "duration": 18,
        "start_time": "2022-12-04T05:30:47.698Z"
      },
      {
        "duration": 4,
        "start_time": "2022-12-04T05:30:47.718Z"
      },
      {
        "duration": 17,
        "start_time": "2022-12-04T05:30:47.723Z"
      },
      {
        "duration": 17,
        "start_time": "2022-12-04T05:30:47.742Z"
      },
      {
        "duration": 8,
        "start_time": "2022-12-04T05:30:47.761Z"
      },
      {
        "duration": 14,
        "start_time": "2022-12-04T05:30:47.771Z"
      },
      {
        "duration": 32,
        "start_time": "2022-12-04T05:30:47.786Z"
      },
      {
        "duration": 1136,
        "start_time": "2022-12-04T05:30:47.820Z"
      },
      {
        "duration": 372,
        "start_time": "2022-12-04T05:30:48.957Z"
      },
      {
        "duration": 324,
        "start_time": "2022-12-04T05:30:49.331Z"
      },
      {
        "duration": 298,
        "start_time": "2022-12-04T05:30:49.657Z"
      },
      {
        "duration": 70,
        "start_time": "2022-12-04T05:31:38.016Z"
      },
      {
        "duration": 73,
        "start_time": "2022-12-04T05:31:58.522Z"
      },
      {
        "duration": 299,
        "start_time": "2022-12-04T05:32:03.465Z"
      },
      {
        "duration": 372,
        "start_time": "2022-12-04T05:32:28.364Z"
      },
      {
        "duration": 73,
        "start_time": "2022-12-04T05:32:58.590Z"
      },
      {
        "duration": 21,
        "start_time": "2022-12-04T05:33:17.465Z"
      },
      {
        "duration": 74,
        "start_time": "2022-12-04T05:33:40.344Z"
      },
      {
        "duration": 844,
        "start_time": "2022-12-04T05:33:58.944Z"
      },
      {
        "duration": 164,
        "start_time": "2022-12-04T05:35:06.891Z"
      },
      {
        "duration": 100,
        "start_time": "2022-12-04T05:35:35.841Z"
      },
      {
        "duration": 84,
        "start_time": "2022-12-04T05:35:47.816Z"
      },
      {
        "duration": 150,
        "start_time": "2022-12-04T05:35:57.915Z"
      },
      {
        "duration": 10,
        "start_time": "2022-12-04T05:36:22.541Z"
      },
      {
        "duration": 11,
        "start_time": "2022-12-04T05:36:49.865Z"
      },
      {
        "duration": 12,
        "start_time": "2022-12-04T05:53:26.246Z"
      },
      {
        "duration": 86,
        "start_time": "2022-12-04T05:53:40.844Z"
      },
      {
        "duration": 15,
        "start_time": "2022-12-04T05:53:44.269Z"
      },
      {
        "duration": 12,
        "start_time": "2022-12-04T05:53:57.870Z"
      },
      {
        "duration": 15,
        "start_time": "2022-12-04T05:54:14.045Z"
      },
      {
        "duration": 11,
        "start_time": "2022-12-04T05:54:18.372Z"
      },
      {
        "duration": 186,
        "start_time": "2022-12-04T05:54:31.319Z"
      },
      {
        "duration": 19,
        "start_time": "2022-12-04T05:54:51.424Z"
      },
      {
        "duration": 19,
        "start_time": "2022-12-04T05:54:58.445Z"
      },
      {
        "duration": 12,
        "start_time": "2022-12-04T05:55:04.976Z"
      },
      {
        "duration": 13,
        "start_time": "2022-12-04T05:55:47.695Z"
      },
      {
        "duration": 14,
        "start_time": "2022-12-04T05:56:01.470Z"
      },
      {
        "duration": 16,
        "start_time": "2022-12-04T05:56:05.820Z"
      },
      {
        "duration": 653,
        "start_time": "2022-12-04T05:56:11.895Z"
      },
      {
        "duration": 24,
        "start_time": "2022-12-04T05:56:31.995Z"
      },
      {
        "duration": 73,
        "start_time": "2022-12-04T05:56:47.471Z"
      },
      {
        "duration": 295,
        "start_time": "2022-12-04T05:57:40.820Z"
      },
      {
        "duration": 309,
        "start_time": "2022-12-04T05:59:09.972Z"
      },
      {
        "duration": 51,
        "start_time": "2022-12-04T08:27:19.973Z"
      },
      {
        "duration": 10,
        "start_time": "2022-12-04T08:27:25.045Z"
      },
      {
        "duration": 519,
        "start_time": "2022-12-04T08:28:01.877Z"
      },
      {
        "duration": 25,
        "start_time": "2022-12-04T08:28:02.398Z"
      },
      {
        "duration": 18,
        "start_time": "2022-12-04T08:28:02.425Z"
      },
      {
        "duration": 26,
        "start_time": "2022-12-04T08:28:02.445Z"
      },
      {
        "duration": 52,
        "start_time": "2022-12-04T08:28:02.473Z"
      },
      {
        "duration": 5,
        "start_time": "2022-12-04T08:28:02.527Z"
      },
      {
        "duration": 18,
        "start_time": "2022-12-04T08:28:02.533Z"
      },
      {
        "duration": 22,
        "start_time": "2022-12-04T08:28:02.553Z"
      },
      {
        "duration": 25,
        "start_time": "2022-12-04T08:28:02.577Z"
      },
      {
        "duration": 13,
        "start_time": "2022-12-04T08:28:02.606Z"
      },
      {
        "duration": 63,
        "start_time": "2022-12-04T08:28:02.620Z"
      },
      {
        "duration": 12,
        "start_time": "2022-12-04T08:28:02.686Z"
      },
      {
        "duration": 8,
        "start_time": "2022-12-04T08:28:02.699Z"
      },
      {
        "duration": 29,
        "start_time": "2022-12-04T08:28:02.708Z"
      },
      {
        "duration": 21,
        "start_time": "2022-12-04T08:28:02.739Z"
      },
      {
        "duration": 18,
        "start_time": "2022-12-04T08:28:02.761Z"
      },
      {
        "duration": 4,
        "start_time": "2022-12-04T08:28:02.780Z"
      },
      {
        "duration": 14,
        "start_time": "2022-12-04T08:28:02.786Z"
      },
      {
        "duration": 26,
        "start_time": "2022-12-04T08:28:02.802Z"
      },
      {
        "duration": 4,
        "start_time": "2022-12-04T08:28:02.838Z"
      },
      {
        "duration": 20,
        "start_time": "2022-12-04T08:28:02.844Z"
      },
      {
        "duration": 41,
        "start_time": "2022-12-04T08:28:02.866Z"
      },
      {
        "duration": 1366,
        "start_time": "2022-12-04T08:28:02.909Z"
      },
      {
        "duration": 368,
        "start_time": "2022-12-04T08:28:04.277Z"
      },
      {
        "duration": 270,
        "start_time": "2022-12-04T08:28:04.647Z"
      },
      {
        "duration": 362,
        "start_time": "2022-12-04T08:28:04.919Z"
      },
      {
        "duration": 19,
        "start_time": "2022-12-04T08:29:38.995Z"
      },
      {
        "duration": 13,
        "start_time": "2022-12-04T08:29:56.791Z"
      },
      {
        "duration": 14,
        "start_time": "2022-12-04T08:30:43.964Z"
      },
      {
        "duration": 16,
        "start_time": "2022-12-04T08:31:18.238Z"
      },
      {
        "duration": 47,
        "start_time": "2022-12-04T12:50:31.649Z"
      },
      {
        "duration": 521,
        "start_time": "2022-12-04T12:50:50.679Z"
      },
      {
        "duration": 22,
        "start_time": "2022-12-04T12:50:51.202Z"
      },
      {
        "duration": 19,
        "start_time": "2022-12-04T12:50:51.225Z"
      },
      {
        "duration": 12,
        "start_time": "2022-12-04T12:50:51.246Z"
      },
      {
        "duration": 32,
        "start_time": "2022-12-04T12:50:51.260Z"
      },
      {
        "duration": 4,
        "start_time": "2022-12-04T12:50:51.293Z"
      },
      {
        "duration": 12,
        "start_time": "2022-12-04T12:50:51.298Z"
      },
      {
        "duration": 5,
        "start_time": "2022-12-04T12:50:51.312Z"
      },
      {
        "duration": 8,
        "start_time": "2022-12-04T12:50:51.318Z"
      },
      {
        "duration": 4,
        "start_time": "2022-12-04T12:50:51.331Z"
      },
      {
        "duration": 64,
        "start_time": "2022-12-04T12:50:51.336Z"
      },
      {
        "duration": 11,
        "start_time": "2022-12-04T12:50:51.401Z"
      },
      {
        "duration": 6,
        "start_time": "2022-12-04T12:50:51.414Z"
      },
      {
        "duration": 12,
        "start_time": "2022-12-04T12:50:51.422Z"
      },
      {
        "duration": 20,
        "start_time": "2022-12-04T12:50:51.436Z"
      },
      {
        "duration": 34,
        "start_time": "2022-12-04T12:50:51.457Z"
      },
      {
        "duration": 3,
        "start_time": "2022-12-04T12:50:51.493Z"
      },
      {
        "duration": 12,
        "start_time": "2022-12-04T12:50:51.498Z"
      },
      {
        "duration": 8,
        "start_time": "2022-12-04T12:50:51.511Z"
      },
      {
        "duration": 5,
        "start_time": "2022-12-04T12:50:51.521Z"
      },
      {
        "duration": 13,
        "start_time": "2022-12-04T12:50:51.527Z"
      },
      {
        "duration": 55,
        "start_time": "2022-12-04T12:50:51.541Z"
      },
      {
        "duration": 1137,
        "start_time": "2022-12-04T12:50:51.597Z"
      },
      {
        "duration": 319,
        "start_time": "2022-12-04T12:50:52.736Z"
      },
      {
        "duration": 25,
        "start_time": "2022-12-04T12:50:53.056Z"
      },
      {
        "duration": 256,
        "start_time": "2022-12-04T12:50:53.082Z"
      },
      {
        "duration": 13,
        "start_time": "2022-12-04T12:50:53.340Z"
      },
      {
        "duration": 333,
        "start_time": "2022-12-04T12:50:53.355Z"
      },
      {
        "duration": 14,
        "start_time": "2022-12-04T12:50:53.690Z"
      },
      {
        "duration": 30,
        "start_time": "2022-12-04T13:11:59.926Z"
      },
      {
        "duration": 44,
        "start_time": "2022-12-04T13:12:40.099Z"
      },
      {
        "duration": 27,
        "start_time": "2022-12-04T13:13:26.867Z"
      },
      {
        "duration": 14,
        "start_time": "2022-12-04T13:13:39.894Z"
      },
      {
        "duration": 18,
        "start_time": "2022-12-04T13:13:43.391Z"
      },
      {
        "duration": 14,
        "start_time": "2022-12-04T13:14:18.291Z"
      },
      {
        "duration": 15,
        "start_time": "2022-12-04T13:15:04.791Z"
      },
      {
        "duration": 50,
        "start_time": "2022-12-05T14:56:30.545Z"
      },
      {
        "duration": 639,
        "start_time": "2022-12-05T14:56:38.060Z"
      },
      {
        "duration": 20,
        "start_time": "2022-12-05T14:56:38.701Z"
      },
      {
        "duration": 14,
        "start_time": "2022-12-05T14:56:38.723Z"
      },
      {
        "duration": 10,
        "start_time": "2022-12-05T14:56:38.738Z"
      },
      {
        "duration": 31,
        "start_time": "2022-12-05T14:56:38.750Z"
      },
      {
        "duration": 3,
        "start_time": "2022-12-05T14:56:38.782Z"
      },
      {
        "duration": 34,
        "start_time": "2022-12-05T14:56:38.787Z"
      },
      {
        "duration": 4,
        "start_time": "2022-12-05T14:56:38.822Z"
      },
      {
        "duration": 9,
        "start_time": "2022-12-05T14:56:38.827Z"
      },
      {
        "duration": 7,
        "start_time": "2022-12-05T14:56:38.838Z"
      },
      {
        "duration": 47,
        "start_time": "2022-12-05T14:56:38.847Z"
      },
      {
        "duration": 9,
        "start_time": "2022-12-05T14:56:38.895Z"
      },
      {
        "duration": 22,
        "start_time": "2022-12-05T14:56:38.905Z"
      },
      {
        "duration": 14,
        "start_time": "2022-12-05T14:56:38.928Z"
      },
      {
        "duration": 22,
        "start_time": "2022-12-05T14:56:38.943Z"
      },
      {
        "duration": 16,
        "start_time": "2022-12-05T14:56:38.966Z"
      },
      {
        "duration": 4,
        "start_time": "2022-12-05T14:56:38.983Z"
      },
      {
        "duration": 33,
        "start_time": "2022-12-05T14:56:38.988Z"
      },
      {
        "duration": 10,
        "start_time": "2022-12-05T14:56:39.023Z"
      },
      {
        "duration": 3,
        "start_time": "2022-12-05T14:56:39.035Z"
      },
      {
        "duration": 11,
        "start_time": "2022-12-05T14:56:39.039Z"
      },
      {
        "duration": 799,
        "start_time": "2022-12-05T14:56:39.052Z"
      },
      {
        "duration": 0,
        "start_time": "2022-12-05T14:56:39.853Z"
      },
      {
        "duration": 0,
        "start_time": "2022-12-05T14:56:39.854Z"
      },
      {
        "duration": 0,
        "start_time": "2022-12-05T14:56:39.855Z"
      },
      {
        "duration": 0,
        "start_time": "2022-12-05T14:56:39.856Z"
      },
      {
        "duration": 0,
        "start_time": "2022-12-05T14:56:39.857Z"
      },
      {
        "duration": 0,
        "start_time": "2022-12-05T14:56:39.858Z"
      },
      {
        "duration": 0,
        "start_time": "2022-12-05T14:56:39.859Z"
      },
      {
        "duration": 783,
        "start_time": "2022-12-05T14:57:23.778Z"
      },
      {
        "duration": 37,
        "start_time": "2022-12-05T14:57:32.600Z"
      },
      {
        "duration": 39,
        "start_time": "2022-12-05T14:59:00.376Z"
      },
      {
        "duration": 485,
        "start_time": "2022-12-05T20:51:47.505Z"
      },
      {
        "duration": 20,
        "start_time": "2022-12-05T20:51:47.992Z"
      },
      {
        "duration": 13,
        "start_time": "2022-12-05T20:51:48.014Z"
      },
      {
        "duration": 9,
        "start_time": "2022-12-05T20:51:48.028Z"
      },
      {
        "duration": 48,
        "start_time": "2022-12-05T20:51:48.039Z"
      },
      {
        "duration": 3,
        "start_time": "2022-12-05T20:51:48.089Z"
      },
      {
        "duration": 11,
        "start_time": "2022-12-05T20:51:48.093Z"
      },
      {
        "duration": 4,
        "start_time": "2022-12-05T20:51:48.105Z"
      },
      {
        "duration": 13,
        "start_time": "2022-12-05T20:51:48.111Z"
      },
      {
        "duration": 11,
        "start_time": "2022-12-05T20:51:48.125Z"
      },
      {
        "duration": 49,
        "start_time": "2022-12-05T20:51:48.138Z"
      },
      {
        "duration": 8,
        "start_time": "2022-12-05T20:51:48.189Z"
      },
      {
        "duration": 15,
        "start_time": "2022-12-05T20:51:48.199Z"
      },
      {
        "duration": 16,
        "start_time": "2022-12-05T20:51:48.217Z"
      },
      {
        "duration": 28,
        "start_time": "2022-12-05T20:51:48.235Z"
      },
      {
        "duration": 15,
        "start_time": "2022-12-05T20:51:48.265Z"
      },
      {
        "duration": 3,
        "start_time": "2022-12-05T20:51:48.282Z"
      },
      {
        "duration": 12,
        "start_time": "2022-12-05T20:51:48.286Z"
      },
      {
        "duration": 5,
        "start_time": "2022-12-05T20:51:48.299Z"
      },
      {
        "duration": 5,
        "start_time": "2022-12-05T20:51:48.306Z"
      },
      {
        "duration": 12,
        "start_time": "2022-12-05T20:51:48.312Z"
      },
      {
        "duration": 61,
        "start_time": "2022-12-05T20:51:48.325Z"
      },
      {
        "duration": 1119,
        "start_time": "2022-12-05T20:51:48.388Z"
      },
      {
        "duration": 327,
        "start_time": "2022-12-05T20:51:49.509Z"
      },
      {
        "duration": 1229,
        "start_time": "2022-12-05T20:51:49.838Z"
      },
      {
        "duration": 0,
        "start_time": "2022-12-05T20:51:51.069Z"
      },
      {
        "duration": 0,
        "start_time": "2022-12-05T20:51:51.070Z"
      },
      {
        "duration": 0,
        "start_time": "2022-12-05T20:51:51.071Z"
      },
      {
        "duration": 0,
        "start_time": "2022-12-05T20:51:51.072Z"
      },
      {
        "duration": 1144,
        "start_time": "2022-12-05T20:52:30.541Z"
      },
      {
        "duration": 238,
        "start_time": "2022-12-05T20:52:52.409Z"
      },
      {
        "duration": 1109,
        "start_time": "2022-12-05T20:52:52.991Z"
      },
      {
        "duration": 337,
        "start_time": "2022-12-05T20:52:55.729Z"
      },
      {
        "duration": 1139,
        "start_time": "2022-12-05T20:52:56.069Z"
      },
      {
        "duration": 516,
        "start_time": "2022-12-06T04:00:27.172Z"
      },
      {
        "duration": 22,
        "start_time": "2022-12-06T04:00:27.690Z"
      },
      {
        "duration": 15,
        "start_time": "2022-12-06T04:00:27.714Z"
      },
      {
        "duration": 10,
        "start_time": "2022-12-06T04:00:27.731Z"
      },
      {
        "duration": 32,
        "start_time": "2022-12-06T04:00:27.743Z"
      },
      {
        "duration": 4,
        "start_time": "2022-12-06T04:00:27.777Z"
      },
      {
        "duration": 13,
        "start_time": "2022-12-06T04:00:27.783Z"
      },
      {
        "duration": 32,
        "start_time": "2022-12-06T04:00:27.797Z"
      },
      {
        "duration": 22,
        "start_time": "2022-12-06T04:00:27.831Z"
      },
      {
        "duration": 5,
        "start_time": "2022-12-06T04:00:27.857Z"
      },
      {
        "duration": 35,
        "start_time": "2022-12-06T04:00:27.863Z"
      },
      {
        "duration": 10,
        "start_time": "2022-12-06T04:00:27.900Z"
      },
      {
        "duration": 14,
        "start_time": "2022-12-06T04:00:27.911Z"
      },
      {
        "duration": 15,
        "start_time": "2022-12-06T04:00:27.926Z"
      },
      {
        "duration": 22,
        "start_time": "2022-12-06T04:00:27.943Z"
      },
      {
        "duration": 17,
        "start_time": "2022-12-06T04:00:27.966Z"
      },
      {
        "duration": 4,
        "start_time": "2022-12-06T04:00:27.985Z"
      },
      {
        "duration": 36,
        "start_time": "2022-12-06T04:00:27.990Z"
      },
      {
        "duration": 9,
        "start_time": "2022-12-06T04:00:28.027Z"
      },
      {
        "duration": 3,
        "start_time": "2022-12-06T04:00:28.038Z"
      },
      {
        "duration": 13,
        "start_time": "2022-12-06T04:00:28.042Z"
      },
      {
        "duration": 48,
        "start_time": "2022-12-06T04:00:28.056Z"
      },
      {
        "duration": 1202,
        "start_time": "2022-12-06T04:00:28.106Z"
      },
      {
        "duration": 323,
        "start_time": "2022-12-06T04:00:29.311Z"
      },
      {
        "duration": 1357,
        "start_time": "2022-12-06T04:00:29.636Z"
      },
      {
        "duration": 0,
        "start_time": "2022-12-06T04:00:30.996Z"
      },
      {
        "duration": 0,
        "start_time": "2022-12-06T04:00:30.997Z"
      },
      {
        "duration": 0,
        "start_time": "2022-12-06T04:00:30.998Z"
      },
      {
        "duration": 0,
        "start_time": "2022-12-06T04:00:31.000Z"
      },
      {
        "duration": 25,
        "start_time": "2022-12-06T04:02:27.154Z"
      },
      {
        "duration": 243,
        "start_time": "2022-12-06T04:02:51.016Z"
      },
      {
        "duration": 1121,
        "start_time": "2022-12-06T04:02:52.146Z"
      },
      {
        "duration": 24,
        "start_time": "2022-12-06T04:03:28.696Z"
      },
      {
        "duration": 1124,
        "start_time": "2022-12-06T04:03:37.125Z"
      },
      {
        "duration": 27,
        "start_time": "2022-12-06T04:04:01.591Z"
      },
      {
        "duration": 24,
        "start_time": "2022-12-06T04:04:04.480Z"
      },
      {
        "duration": 482,
        "start_time": "2022-12-06T04:04:26.782Z"
      },
      {
        "duration": 21,
        "start_time": "2022-12-06T04:04:27.266Z"
      },
      {
        "duration": 20,
        "start_time": "2022-12-06T04:04:27.289Z"
      },
      {
        "duration": 13,
        "start_time": "2022-12-06T04:04:27.324Z"
      },
      {
        "duration": 31,
        "start_time": "2022-12-06T04:04:27.338Z"
      },
      {
        "duration": 4,
        "start_time": "2022-12-06T04:04:27.370Z"
      },
      {
        "duration": 13,
        "start_time": "2022-12-06T04:04:27.376Z"
      },
      {
        "duration": 33,
        "start_time": "2022-12-06T04:04:27.392Z"
      },
      {
        "duration": 9,
        "start_time": "2022-12-06T04:04:27.426Z"
      },
      {
        "duration": 5,
        "start_time": "2022-12-06T04:04:27.439Z"
      },
      {
        "duration": 45,
        "start_time": "2022-12-06T04:04:27.445Z"
      },
      {
        "duration": 35,
        "start_time": "2022-12-06T04:04:27.492Z"
      },
      {
        "duration": 4,
        "start_time": "2022-12-06T04:04:27.529Z"
      },
      {
        "duration": 15,
        "start_time": "2022-12-06T04:04:27.534Z"
      },
      {
        "duration": 27,
        "start_time": "2022-12-06T04:04:27.551Z"
      },
      {
        "duration": 16,
        "start_time": "2022-12-06T04:04:27.580Z"
      },
      {
        "duration": 4,
        "start_time": "2022-12-06T04:04:27.621Z"
      },
      {
        "duration": 12,
        "start_time": "2022-12-06T04:04:27.627Z"
      },
      {
        "duration": 12,
        "start_time": "2022-12-06T04:04:27.640Z"
      },
      {
        "duration": 5,
        "start_time": "2022-12-06T04:04:27.654Z"
      },
      {
        "duration": 23,
        "start_time": "2022-12-06T04:04:27.661Z"
      },
      {
        "duration": 76,
        "start_time": "2022-12-06T04:04:27.686Z"
      },
      {
        "duration": 1244,
        "start_time": "2022-12-06T04:04:27.764Z"
      },
      {
        "duration": 348,
        "start_time": "2022-12-06T04:04:29.009Z"
      },
      {
        "duration": 26,
        "start_time": "2022-12-06T04:04:29.359Z"
      },
      {
        "duration": 258,
        "start_time": "2022-12-06T04:04:29.387Z"
      },
      {
        "duration": 23,
        "start_time": "2022-12-06T04:04:29.647Z"
      },
      {
        "duration": 321,
        "start_time": "2022-12-06T04:04:29.673Z"
      },
      {
        "duration": 36,
        "start_time": "2022-12-06T04:04:29.997Z"
      }
    ],
    "colab": {
      "provenance": []
    },
    "kernelspec": {
      "display_name": "Python 3 (ipykernel)",
      "language": "python",
      "name": "python3"
    },
    "language_info": {
      "codemirror_mode": {
        "name": "ipython",
        "version": 3
      },
      "file_extension": ".py",
      "mimetype": "text/x-python",
      "name": "python",
      "nbconvert_exporter": "python",
      "pygments_lexer": "ipython3",
      "version": "3.9.5"
    },
    "toc": {
      "base_numbering": 1,
      "nav_menu": {},
      "number_sections": true,
      "sideBar": true,
      "skip_h1_title": true,
      "title_cell": "Table of Contents",
      "title_sidebar": "Contents",
      "toc_cell": false,
      "toc_position": {},
      "toc_section_display": true,
      "toc_window_display": false
    }
  },
  "nbformat": 4,
  "nbformat_minor": 5
}
