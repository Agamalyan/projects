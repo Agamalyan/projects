{
  "cells": [
    {
      "cell_type": "code",
      "execution_count": null,
      "id": "fc7efa54",
      "metadata": {
        "id": "fc7efa54"
      },
      "outputs": [],
      "source": [
        "import os\n",
        "import pandas as pd\n",
        "import numpy as np\n",
        "\n",
        "from sqlalchemy import create_engine"
      ]
    },
    {
      "cell_type": "code",
      "execution_count": null,
      "id": "0017f8e7",
      "metadata": {
        "id": "0017f8e7"
      },
      "outputs": [],
      "source": [
        "path_to_db_local = 'telecomm_csi.db'\n",
        "path_to_db_platform = '/datasets/telecomm_csi.db'\n",
        "path_to_db = None\n",
        "\n",
        "if os.path.exists(path_to_db_local):\n",
        "    path_to_db = path_to_db_local\n",
        "elif os.path.exists(path_to_db_platform):\n",
        "    path_to_db = path_to_db_platform\n",
        "else:\n",
        "    raise Exception('Файл с базой данных SQLite не найден!')\n",
        "\n",
        "if path_to_db:\n",
        "    engine = create_engine(f'sqlite:///{path_to_db}', echo=False)"
      ]
    },
    {
      "cell_type": "code",
      "execution_count": null,
      "id": "84ebad43",
      "metadata": {
        "id": "84ebad43"
      },
      "outputs": [],
      "source": [
        "query = \"\"\"\n",
        "    SELECT user_id, lt_day,\n",
        "CASE\n",
        "WHEN lt_day > 365 THEN 0\n",
        "ELSE 1\n",
        "END is_new,\n",
        "age, gender_segment, os_name, cpe_type_name, country, city, a.title AS age_segment,\n",
        "t.title AS traffic_segment, lt.title AS lifetime_segment, nps_score,\n",
        "CASE\n",
        "WHEN nps_score >= 7 AND nps_score < 9 THEN 'нейтралы'\n",
        "WHEN nps_score >= 9 THEN 'cторонники'\n",
        "ELSE 'критики'\n",
        "END nps_group\n",
        "FROM user AS u\n",
        "LEFT JOIN location AS l ON u.location_id = l.location_id\n",
        "LEFT JOIN age_segment AS a ON u.age_gr_id = a.age_gr_id\n",
        "LEFT JOIN traffic_segment AS t ON t.tr_gr_id = u.tr_gr_id\n",
        "LEFT JOIN lifetime_segment AS lt ON lt.lt_gr_id = u.lt_gr_id\n",
        "\"\"\""
      ]
    },
    {
      "cell_type": "code",
      "execution_count": null,
      "id": "3965faf2",
      "metadata": {
        "id": "3965faf2",
        "outputId": "fcb90368-103a-4845-af9a-109de24d7ec1"
      },
      "outputs": [
        {
          "data": {
            "text/html": [
              "<div>\n",
              "<style scoped>\n",
              "    .dataframe tbody tr th:only-of-type {\n",
              "        vertical-align: middle;\n",
              "    }\n",
              "\n",
              "    .dataframe tbody tr th {\n",
              "        vertical-align: top;\n",
              "    }\n",
              "\n",
              "    .dataframe thead th {\n",
              "        text-align: right;\n",
              "    }\n",
              "</style>\n",
              "<table border=\"1\" class=\"dataframe\">\n",
              "  <thead>\n",
              "    <tr style=\"text-align: right;\">\n",
              "      <th></th>\n",
              "      <th>user_id</th>\n",
              "      <th>lt_day</th>\n",
              "      <th>is_new</th>\n",
              "      <th>age</th>\n",
              "      <th>gender_segment</th>\n",
              "      <th>os_name</th>\n",
              "      <th>cpe_type_name</th>\n",
              "      <th>country</th>\n",
              "      <th>city</th>\n",
              "      <th>age_segment</th>\n",
              "      <th>traffic_segment</th>\n",
              "      <th>lifetime_segment</th>\n",
              "      <th>nps_score</th>\n",
              "      <th>nps_group</th>\n",
              "    </tr>\n",
              "  </thead>\n",
              "  <tbody>\n",
              "    <tr>\n",
              "      <th>0</th>\n",
              "      <td>A001A2</td>\n",
              "      <td>2320</td>\n",
              "      <td>0</td>\n",
              "      <td>45.0</td>\n",
              "      <td>1.0</td>\n",
              "      <td>ANDROID</td>\n",
              "      <td>SMARTPHONE</td>\n",
              "      <td>Россия</td>\n",
              "      <td>Уфа</td>\n",
              "      <td>05 45-54</td>\n",
              "      <td>04 1-5</td>\n",
              "      <td>08 36+</td>\n",
              "      <td>10</td>\n",
              "      <td>cторонники</td>\n",
              "    </tr>\n",
              "    <tr>\n",
              "      <th>1</th>\n",
              "      <td>A001WF</td>\n",
              "      <td>2344</td>\n",
              "      <td>0</td>\n",
              "      <td>53.0</td>\n",
              "      <td>0.0</td>\n",
              "      <td>ANDROID</td>\n",
              "      <td>SMARTPHONE</td>\n",
              "      <td>Россия</td>\n",
              "      <td>Киров</td>\n",
              "      <td>05 45-54</td>\n",
              "      <td>04 1-5</td>\n",
              "      <td>08 36+</td>\n",
              "      <td>10</td>\n",
              "      <td>cторонники</td>\n",
              "    </tr>\n",
              "    <tr>\n",
              "      <th>2</th>\n",
              "      <td>A003Q7</td>\n",
              "      <td>467</td>\n",
              "      <td>0</td>\n",
              "      <td>57.0</td>\n",
              "      <td>0.0</td>\n",
              "      <td>ANDROID</td>\n",
              "      <td>SMARTPHONE</td>\n",
              "      <td>Россия</td>\n",
              "      <td>Москва</td>\n",
              "      <td>06 55-64</td>\n",
              "      <td>08 20-25</td>\n",
              "      <td>06 13-24</td>\n",
              "      <td>10</td>\n",
              "      <td>cторонники</td>\n",
              "    </tr>\n",
              "  </tbody>\n",
              "</table>\n",
              "</div>"
            ],
            "text/plain": [
              "  user_id  lt_day  is_new   age  gender_segment  os_name cpe_type_name  \\\n",
              "0  A001A2    2320       0  45.0             1.0  ANDROID    SMARTPHONE   \n",
              "1  A001WF    2344       0  53.0             0.0  ANDROID    SMARTPHONE   \n",
              "2  A003Q7     467       0  57.0             0.0  ANDROID    SMARTPHONE   \n",
              "\n",
              "  country    city age_segment traffic_segment lifetime_segment  nps_score  \\\n",
              "0  Россия     Уфа    05 45-54          04 1-5           08 36+         10   \n",
              "1  Россия   Киров    05 45-54          04 1-5           08 36+         10   \n",
              "2  Россия  Москва    06 55-64        08 20-25         06 13-24         10   \n",
              "\n",
              "    nps_group  \n",
              "0  cторонники  \n",
              "1  cторонники  \n",
              "2  cторонники  "
            ]
          },
          "execution_count": 4,
          "metadata": {},
          "output_type": "execute_result"
        }
      ],
      "source": [
        "df = pd.read_sql(query, engine)\n",
        "df.head(3)"
      ]
    },
    {
      "cell_type": "code",
      "execution_count": null,
      "id": "9db04858",
      "metadata": {
        "id": "9db04858"
      },
      "outputs": [],
      "source": [
        "df.to_csv('telecomm_csi_tableau.csv', index=False)"
      ]
    },
    {
      "cell_type": "markdown",
      "id": "1b9d00ef",
      "metadata": {
        "id": "1b9d00ef"
      },
      "source": [
        "https://public.tableau.com/app/profile/nane.agamalyan/viz/_16822661813770/sheet8#1"
      ]
    },
    {
      "cell_type": "markdown",
      "id": "10781a70",
      "metadata": {
        "id": "10781a70"
      },
      "source": [
        "https://disk.yandex.ru/i/XeZGImftrcVxKQ"
      ]
    }
  ],
  "metadata": {
    "ExecuteTimeLog": [
      {
        "duration": 579,
        "start_time": "2023-04-21T18:11:16.711Z"
      },
      {
        "duration": 81,
        "start_time": "2023-04-21T18:11:18.057Z"
      },
      {
        "duration": 12,
        "start_time": "2023-04-22T05:58:19.664Z"
      },
      {
        "duration": 594,
        "start_time": "2023-04-22T05:58:28.800Z"
      },
      {
        "duration": 148,
        "start_time": "2023-04-22T05:58:29.403Z"
      },
      {
        "duration": 2,
        "start_time": "2023-04-22T05:58:29.553Z"
      },
      {
        "duration": 5303,
        "start_time": "2023-04-22T05:58:29.557Z"
      },
      {
        "duration": 3502,
        "start_time": "2023-04-22T05:58:34.861Z"
      },
      {
        "duration": 145,
        "start_time": "2023-04-22T07:15:32.544Z"
      },
      {
        "duration": 190,
        "start_time": "2023-04-22T07:15:44.450Z"
      },
      {
        "duration": 225,
        "start_time": "2023-04-22T07:18:01.567Z"
      },
      {
        "duration": 426,
        "start_time": "2023-04-22T07:18:11.108Z"
      },
      {
        "duration": 262,
        "start_time": "2023-04-22T07:18:40.542Z"
      },
      {
        "duration": 147,
        "start_time": "2023-04-22T07:18:45.806Z"
      },
      {
        "duration": 148,
        "start_time": "2023-04-22T07:18:58.411Z"
      },
      {
        "duration": 284,
        "start_time": "2023-04-22T07:19:13.217Z"
      },
      {
        "duration": 97,
        "start_time": "2023-04-22T07:19:27.567Z"
      },
      {
        "duration": 160,
        "start_time": "2023-04-22T07:22:00.903Z"
      },
      {
        "duration": 9,
        "start_time": "2023-04-22T07:22:24.806Z"
      },
      {
        "duration": 1052,
        "start_time": "2023-04-22T07:22:26.407Z"
      },
      {
        "duration": 3,
        "start_time": "2023-04-22T07:22:53.266Z"
      },
      {
        "duration": 968,
        "start_time": "2023-04-22T07:22:54.968Z"
      },
      {
        "duration": 2,
        "start_time": "2023-04-22T07:24:06.749Z"
      },
      {
        "duration": 3614,
        "start_time": "2023-04-22T07:24:07.418Z"
      },
      {
        "duration": 8909,
        "start_time": "2023-04-22T07:24:11.034Z"
      },
      {
        "duration": 462,
        "start_time": "2023-04-22T09:17:32.200Z"
      },
      {
        "duration": 145,
        "start_time": "2023-04-22T09:17:32.664Z"
      },
      {
        "duration": 3,
        "start_time": "2023-04-22T09:17:32.818Z"
      },
      {
        "duration": 5173,
        "start_time": "2023-04-22T09:17:32.823Z"
      },
      {
        "duration": 3468,
        "start_time": "2023-04-22T09:17:38.021Z"
      },
      {
        "duration": 123,
        "start_time": "2023-04-22T09:17:41.491Z"
      },
      {
        "duration": 152,
        "start_time": "2023-04-22T09:20:43.098Z"
      },
      {
        "duration": 466,
        "start_time": "2023-04-22T09:21:04.487Z"
      },
      {
        "duration": 97,
        "start_time": "2023-04-22T09:21:04.955Z"
      },
      {
        "duration": 3,
        "start_time": "2023-04-22T09:21:05.054Z"
      },
      {
        "duration": 907,
        "start_time": "2023-04-22T09:21:05.059Z"
      },
      {
        "duration": 0,
        "start_time": "2023-04-22T09:21:05.967Z"
      },
      {
        "duration": 0,
        "start_time": "2023-04-22T09:21:05.968Z"
      },
      {
        "duration": 563,
        "start_time": "2023-04-22T09:21:17.659Z"
      },
      {
        "duration": 85,
        "start_time": "2023-04-22T09:21:18.224Z"
      },
      {
        "duration": 7,
        "start_time": "2023-04-22T09:21:18.311Z"
      },
      {
        "duration": 931,
        "start_time": "2023-04-22T09:21:18.320Z"
      },
      {
        "duration": 0,
        "start_time": "2023-04-22T09:21:19.253Z"
      },
      {
        "duration": 0,
        "start_time": "2023-04-22T09:21:19.254Z"
      },
      {
        "duration": 616,
        "start_time": "2023-04-22T09:21:48.589Z"
      },
      {
        "duration": 112,
        "start_time": "2023-04-22T09:21:49.214Z"
      },
      {
        "duration": 4,
        "start_time": "2023-04-22T09:21:49.328Z"
      },
      {
        "duration": 4351,
        "start_time": "2023-04-22T09:21:49.334Z"
      },
      {
        "duration": 3746,
        "start_time": "2023-04-22T09:21:53.687Z"
      },
      {
        "duration": 108,
        "start_time": "2023-04-22T09:21:57.434Z"
      },
      {
        "duration": 5,
        "start_time": "2023-04-22T09:22:25.114Z"
      },
      {
        "duration": 3858,
        "start_time": "2023-04-22T09:22:27.562Z"
      },
      {
        "duration": 3397,
        "start_time": "2023-04-22T09:22:38.461Z"
      },
      {
        "duration": 3,
        "start_time": "2023-04-22T09:42:35.920Z"
      },
      {
        "duration": 651,
        "start_time": "2023-04-22T09:42:37.196Z"
      },
      {
        "duration": 535,
        "start_time": "2023-04-22T09:42:45.697Z"
      },
      {
        "duration": 86,
        "start_time": "2023-04-22T09:42:46.235Z"
      },
      {
        "duration": 6,
        "start_time": "2023-04-22T09:42:46.322Z"
      },
      {
        "duration": 594,
        "start_time": "2023-04-22T09:42:46.330Z"
      },
      {
        "duration": 0,
        "start_time": "2023-04-22T09:42:46.925Z"
      },
      {
        "duration": 0,
        "start_time": "2023-04-22T09:42:46.926Z"
      },
      {
        "duration": 2,
        "start_time": "2023-04-22T09:44:06.761Z"
      },
      {
        "duration": 916,
        "start_time": "2023-04-22T09:44:08.217Z"
      },
      {
        "duration": 2,
        "start_time": "2023-04-22T09:44:53.042Z"
      },
      {
        "duration": 881,
        "start_time": "2023-04-22T09:44:54.320Z"
      },
      {
        "duration": 3,
        "start_time": "2023-04-22T09:45:16.597Z"
      },
      {
        "duration": 908,
        "start_time": "2023-04-22T09:45:17.135Z"
      },
      {
        "duration": 3,
        "start_time": "2023-04-22T09:45:36.059Z"
      },
      {
        "duration": 966,
        "start_time": "2023-04-22T09:45:36.798Z"
      },
      {
        "duration": 0,
        "start_time": "2023-04-22T09:45:37.766Z"
      },
      {
        "duration": 9,
        "start_time": "2023-04-22T09:54:28.609Z"
      },
      {
        "duration": 1049,
        "start_time": "2023-04-22T09:54:29.698Z"
      },
      {
        "duration": 2,
        "start_time": "2023-04-22T09:54:51.035Z"
      },
      {
        "duration": 854,
        "start_time": "2023-04-22T09:54:51.534Z"
      },
      {
        "duration": 8,
        "start_time": "2023-04-22T09:55:42.513Z"
      },
      {
        "duration": 5448,
        "start_time": "2023-04-22T09:55:42.970Z"
      },
      {
        "duration": 7,
        "start_time": "2023-04-23T06:09:03.080Z"
      },
      {
        "duration": 50,
        "start_time": "2023-04-23T06:09:04.029Z"
      },
      {
        "duration": 484,
        "start_time": "2023-04-23T06:09:13.667Z"
      },
      {
        "duration": 94,
        "start_time": "2023-04-23T06:09:14.153Z"
      },
      {
        "duration": 3,
        "start_time": "2023-04-23T06:09:14.249Z"
      },
      {
        "duration": 5204,
        "start_time": "2023-04-23T06:09:14.253Z"
      },
      {
        "duration": 3478,
        "start_time": "2023-04-23T06:09:19.459Z"
      },
      {
        "duration": 3,
        "start_time": "2023-04-23T06:09:43.230Z"
      },
      {
        "duration": 4655,
        "start_time": "2023-04-23T06:09:44.604Z"
      },
      {
        "duration": 3869,
        "start_time": "2023-04-23T06:09:49.261Z"
      },
      {
        "duration": 3,
        "start_time": "2023-04-23T06:11:06.334Z"
      },
      {
        "duration": 4812,
        "start_time": "2023-04-23T06:11:07.929Z"
      },
      {
        "duration": 491,
        "start_time": "2023-04-23T06:27:18.023Z"
      },
      {
        "duration": 73,
        "start_time": "2023-04-23T06:27:18.515Z"
      },
      {
        "duration": 3,
        "start_time": "2023-04-23T06:27:18.594Z"
      },
      {
        "duration": 4563,
        "start_time": "2023-04-23T06:27:18.598Z"
      },
      {
        "duration": 3539,
        "start_time": "2023-04-23T06:27:23.162Z"
      },
      {
        "duration": 506,
        "start_time": "2023-04-23T06:55:35.017Z"
      },
      {
        "duration": 89,
        "start_time": "2023-04-23T06:55:35.525Z"
      },
      {
        "duration": 3,
        "start_time": "2023-04-23T06:55:35.615Z"
      },
      {
        "duration": 4837,
        "start_time": "2023-04-23T06:55:35.619Z"
      },
      {
        "duration": 4416,
        "start_time": "2023-04-23T06:55:40.458Z"
      },
      {
        "duration": 694,
        "start_time": "2023-04-26T05:18:06.102Z"
      },
      {
        "duration": 47,
        "start_time": "2023-04-26T05:18:06.800Z"
      },
      {
        "duration": 5,
        "start_time": "2023-04-26T05:18:06.849Z"
      },
      {
        "duration": 6532,
        "start_time": "2023-04-26T05:18:06.856Z"
      },
      {
        "duration": 6240,
        "start_time": "2023-04-26T05:18:13.391Z"
      },
      {
        "duration": 871,
        "start_time": "2023-04-27T04:38:11.980Z"
      },
      {
        "duration": 10,
        "start_time": "2023-04-27T04:38:12.853Z"
      },
      {
        "duration": 71,
        "start_time": "2023-04-27T04:38:12.864Z"
      },
      {
        "duration": 10108,
        "start_time": "2023-04-27T04:38:12.938Z"
      },
      {
        "duration": 7161,
        "start_time": "2023-04-27T04:38:23.047Z"
      },
      {
        "duration": 109,
        "start_time": "2023-04-27T05:12:12.145Z"
      }
    ],
    "kernelspec": {
      "display_name": "Python 3 (ipykernel)",
      "language": "python",
      "name": "python3"
    },
    "language_info": {
      "codemirror_mode": {
        "name": "ipython",
        "version": 3
      },
      "file_extension": ".py",
      "mimetype": "text/x-python",
      "name": "python",
      "nbconvert_exporter": "python",
      "pygments_lexer": "ipython3",
      "version": "3.9.5"
    },
    "toc": {
      "base_numbering": 1,
      "nav_menu": {},
      "number_sections": true,
      "sideBar": true,
      "skip_h1_title": true,
      "title_cell": "Table of Contents",
      "title_sidebar": "Contents",
      "toc_cell": false,
      "toc_position": {
        "height": "calc(100% - 180px)",
        "left": "10px",
        "top": "150px",
        "width": "328.496px"
      },
      "toc_section_display": true,
      "toc_window_display": false
    },
    "colab": {
      "provenance": []
    }
  },
  "nbformat": 4,
  "nbformat_minor": 5
}